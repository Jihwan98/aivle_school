{
 "cells": [
  {
   "cell_type": "markdown",
   "metadata": {
    "id": "y1J78TFSRrSA"
   },
   "source": [
    "<center><img src='https://raw.githubusercontent.com/Jangrae/img/master/ml_python.png' width=600/></center>"
   ]
  },
  {
   "cell_type": "markdown",
   "metadata": {
    "id": "TSPbV_6rfe4O"
   },
   "source": [
    "# 실습 내용\n",
    "\n",
    "- Boston 데이터를 대상으로 모델링를 진행합니다.\n",
    "- 개별 알고리즘으로 모델을 만들어 성능을 확인합니다.\n",
    "- Voting 앙상블을 사용해 모델을 만들어 성능을 확인합니다."
   ]
  },
  {
   "cell_type": "markdown",
   "metadata": {
    "id": "FDf7jozdnCP6"
   },
   "source": [
    "# 1.환경 준비\n",
    "\n",
    "- 기본 라이브러리와 대상 데이터를 가져와 이후 과정을 준비합니다."
   ]
  },
  {
   "cell_type": "code",
   "execution_count": 1,
   "metadata": {
    "id": "CrhJhlvrnCQN",
    "scrolled": true
   },
   "outputs": [],
   "source": [
    "# 라이브러리 불러오기\n",
    "import numpy as np\n",
    "import pandas as pd\n",
    "import matplotlib.pyplot as plt\n",
    "import seaborn as sns\n",
    "import warnings\n",
    "\n",
    "warnings.filterwarnings(action='ignore')\n",
    "%config InlineBackend.figure_format = 'retina'"
   ]
  },
  {
   "cell_type": "code",
   "execution_count": 2,
   "metadata": {
    "id": "G7wr7hI7nCQR"
   },
   "outputs": [],
   "source": [
    "# 데이터 읽어오기\n",
    "path = 'https://raw.githubusercontent.com/Jangrae/csv/master/boston.csv'\n",
    "data = pd.read_csv(path)"
   ]
  },
  {
   "cell_type": "markdown",
   "metadata": {
    "id": "MwQuL-7-nCQT"
   },
   "source": [
    "# 2.데이터 이해\n",
    "\n",
    "- 분석할 데이터를 충분히 이해할 수 있도록 다양한 탐색 과정을 수행합니다."
   ]
  },
  {
   "cell_type": "code",
   "execution_count": 3,
   "metadata": {
    "colab": {
     "base_uri": "https://localhost:8080/",
     "height": 206
    },
    "executionInfo": {
     "elapsed": 20,
     "status": "ok",
     "timestamp": 1650721097268,
     "user": {
      "displayName": "Jangrae Lee",
      "userId": "08475661575434032088"
     },
     "user_tz": -540
    },
    "id": "K2pz6Ee7nCQV",
    "outputId": "9229f524-9a75-4807-d9cf-e3aa91f8b5aa"
   },
   "outputs": [
    {
     "data": {
      "text/html": [
       "<div>\n",
       "<style scoped>\n",
       "    .dataframe tbody tr th:only-of-type {\n",
       "        vertical-align: middle;\n",
       "    }\n",
       "\n",
       "    .dataframe tbody tr th {\n",
       "        vertical-align: top;\n",
       "    }\n",
       "\n",
       "    .dataframe thead th {\n",
       "        text-align: right;\n",
       "    }\n",
       "</style>\n",
       "<table border=\"1\" class=\"dataframe\">\n",
       "  <thead>\n",
       "    <tr style=\"text-align: right;\">\n",
       "      <th></th>\n",
       "      <th>crim</th>\n",
       "      <th>zn</th>\n",
       "      <th>indus</th>\n",
       "      <th>chas</th>\n",
       "      <th>nox</th>\n",
       "      <th>rm</th>\n",
       "      <th>age</th>\n",
       "      <th>dis</th>\n",
       "      <th>rad</th>\n",
       "      <th>tax</th>\n",
       "      <th>ptratio</th>\n",
       "      <th>black</th>\n",
       "      <th>lstat</th>\n",
       "      <th>medv</th>\n",
       "    </tr>\n",
       "  </thead>\n",
       "  <tbody>\n",
       "    <tr>\n",
       "      <th>0</th>\n",
       "      <td>0.00632</td>\n",
       "      <td>18.0</td>\n",
       "      <td>2.31</td>\n",
       "      <td>0</td>\n",
       "      <td>0.538</td>\n",
       "      <td>6.575</td>\n",
       "      <td>65.2</td>\n",
       "      <td>4.0900</td>\n",
       "      <td>1</td>\n",
       "      <td>296</td>\n",
       "      <td>15.3</td>\n",
       "      <td>396.90</td>\n",
       "      <td>4.98</td>\n",
       "      <td>24.0</td>\n",
       "    </tr>\n",
       "    <tr>\n",
       "      <th>1</th>\n",
       "      <td>0.02731</td>\n",
       "      <td>0.0</td>\n",
       "      <td>7.07</td>\n",
       "      <td>0</td>\n",
       "      <td>0.469</td>\n",
       "      <td>6.421</td>\n",
       "      <td>78.9</td>\n",
       "      <td>4.9671</td>\n",
       "      <td>2</td>\n",
       "      <td>242</td>\n",
       "      <td>17.8</td>\n",
       "      <td>396.90</td>\n",
       "      <td>9.14</td>\n",
       "      <td>21.6</td>\n",
       "    </tr>\n",
       "    <tr>\n",
       "      <th>2</th>\n",
       "      <td>0.02729</td>\n",
       "      <td>0.0</td>\n",
       "      <td>7.07</td>\n",
       "      <td>0</td>\n",
       "      <td>0.469</td>\n",
       "      <td>7.185</td>\n",
       "      <td>61.1</td>\n",
       "      <td>4.9671</td>\n",
       "      <td>2</td>\n",
       "      <td>242</td>\n",
       "      <td>17.8</td>\n",
       "      <td>392.83</td>\n",
       "      <td>4.03</td>\n",
       "      <td>34.7</td>\n",
       "    </tr>\n",
       "    <tr>\n",
       "      <th>3</th>\n",
       "      <td>0.03237</td>\n",
       "      <td>0.0</td>\n",
       "      <td>2.18</td>\n",
       "      <td>0</td>\n",
       "      <td>0.458</td>\n",
       "      <td>6.998</td>\n",
       "      <td>45.8</td>\n",
       "      <td>6.0622</td>\n",
       "      <td>3</td>\n",
       "      <td>222</td>\n",
       "      <td>18.7</td>\n",
       "      <td>394.63</td>\n",
       "      <td>2.94</td>\n",
       "      <td>33.4</td>\n",
       "    </tr>\n",
       "    <tr>\n",
       "      <th>4</th>\n",
       "      <td>0.06905</td>\n",
       "      <td>0.0</td>\n",
       "      <td>2.18</td>\n",
       "      <td>0</td>\n",
       "      <td>0.458</td>\n",
       "      <td>7.147</td>\n",
       "      <td>54.2</td>\n",
       "      <td>6.0622</td>\n",
       "      <td>3</td>\n",
       "      <td>222</td>\n",
       "      <td>18.7</td>\n",
       "      <td>396.90</td>\n",
       "      <td>5.33</td>\n",
       "      <td>36.2</td>\n",
       "    </tr>\n",
       "  </tbody>\n",
       "</table>\n",
       "</div>"
      ],
      "text/plain": [
       "      crim    zn  indus  chas    nox     rm   age     dis  rad  tax  ptratio  \\\n",
       "0  0.00632  18.0   2.31     0  0.538  6.575  65.2  4.0900    1  296     15.3   \n",
       "1  0.02731   0.0   7.07     0  0.469  6.421  78.9  4.9671    2  242     17.8   \n",
       "2  0.02729   0.0   7.07     0  0.469  7.185  61.1  4.9671    2  242     17.8   \n",
       "3  0.03237   0.0   2.18     0  0.458  6.998  45.8  6.0622    3  222     18.7   \n",
       "4  0.06905   0.0   2.18     0  0.458  7.147  54.2  6.0622    3  222     18.7   \n",
       "\n",
       "    black  lstat  medv  \n",
       "0  396.90   4.98  24.0  \n",
       "1  396.90   9.14  21.6  \n",
       "2  392.83   4.03  34.7  \n",
       "3  394.63   2.94  33.4  \n",
       "4  396.90   5.33  36.2  "
      ]
     },
     "execution_count": 3,
     "metadata": {},
     "output_type": "execute_result"
    }
   ],
   "source": [
    "# 상위 몇 개 행 확인\n",
    "data.head()"
   ]
  },
  {
   "cell_type": "code",
   "execution_count": 4,
   "metadata": {
    "colab": {
     "base_uri": "https://localhost:8080/",
     "height": 206
    },
    "executionInfo": {
     "elapsed": 17,
     "status": "ok",
     "timestamp": 1650721097269,
     "user": {
      "displayName": "Jangrae Lee",
      "userId": "08475661575434032088"
     },
     "user_tz": -540
    },
    "id": "whCAH-EAnCQV",
    "outputId": "f31fecc1-26c5-4c3b-8c5d-dacf6187a4f7"
   },
   "outputs": [
    {
     "data": {
      "text/html": [
       "<div>\n",
       "<style scoped>\n",
       "    .dataframe tbody tr th:only-of-type {\n",
       "        vertical-align: middle;\n",
       "    }\n",
       "\n",
       "    .dataframe tbody tr th {\n",
       "        vertical-align: top;\n",
       "    }\n",
       "\n",
       "    .dataframe thead th {\n",
       "        text-align: right;\n",
       "    }\n",
       "</style>\n",
       "<table border=\"1\" class=\"dataframe\">\n",
       "  <thead>\n",
       "    <tr style=\"text-align: right;\">\n",
       "      <th></th>\n",
       "      <th>crim</th>\n",
       "      <th>zn</th>\n",
       "      <th>indus</th>\n",
       "      <th>chas</th>\n",
       "      <th>nox</th>\n",
       "      <th>rm</th>\n",
       "      <th>age</th>\n",
       "      <th>dis</th>\n",
       "      <th>rad</th>\n",
       "      <th>tax</th>\n",
       "      <th>ptratio</th>\n",
       "      <th>black</th>\n",
       "      <th>lstat</th>\n",
       "      <th>medv</th>\n",
       "    </tr>\n",
       "  </thead>\n",
       "  <tbody>\n",
       "    <tr>\n",
       "      <th>501</th>\n",
       "      <td>0.06263</td>\n",
       "      <td>0.0</td>\n",
       "      <td>11.93</td>\n",
       "      <td>0</td>\n",
       "      <td>0.573</td>\n",
       "      <td>6.593</td>\n",
       "      <td>69.1</td>\n",
       "      <td>2.4786</td>\n",
       "      <td>1</td>\n",
       "      <td>273</td>\n",
       "      <td>21.0</td>\n",
       "      <td>391.99</td>\n",
       "      <td>9.67</td>\n",
       "      <td>22.4</td>\n",
       "    </tr>\n",
       "    <tr>\n",
       "      <th>502</th>\n",
       "      <td>0.04527</td>\n",
       "      <td>0.0</td>\n",
       "      <td>11.93</td>\n",
       "      <td>0</td>\n",
       "      <td>0.573</td>\n",
       "      <td>6.120</td>\n",
       "      <td>76.7</td>\n",
       "      <td>2.2875</td>\n",
       "      <td>1</td>\n",
       "      <td>273</td>\n",
       "      <td>21.0</td>\n",
       "      <td>396.90</td>\n",
       "      <td>9.08</td>\n",
       "      <td>20.6</td>\n",
       "    </tr>\n",
       "    <tr>\n",
       "      <th>503</th>\n",
       "      <td>0.06076</td>\n",
       "      <td>0.0</td>\n",
       "      <td>11.93</td>\n",
       "      <td>0</td>\n",
       "      <td>0.573</td>\n",
       "      <td>6.976</td>\n",
       "      <td>91.0</td>\n",
       "      <td>2.1675</td>\n",
       "      <td>1</td>\n",
       "      <td>273</td>\n",
       "      <td>21.0</td>\n",
       "      <td>396.90</td>\n",
       "      <td>5.64</td>\n",
       "      <td>23.9</td>\n",
       "    </tr>\n",
       "    <tr>\n",
       "      <th>504</th>\n",
       "      <td>0.10959</td>\n",
       "      <td>0.0</td>\n",
       "      <td>11.93</td>\n",
       "      <td>0</td>\n",
       "      <td>0.573</td>\n",
       "      <td>6.794</td>\n",
       "      <td>89.3</td>\n",
       "      <td>2.3889</td>\n",
       "      <td>1</td>\n",
       "      <td>273</td>\n",
       "      <td>21.0</td>\n",
       "      <td>393.45</td>\n",
       "      <td>6.48</td>\n",
       "      <td>22.0</td>\n",
       "    </tr>\n",
       "    <tr>\n",
       "      <th>505</th>\n",
       "      <td>0.04741</td>\n",
       "      <td>0.0</td>\n",
       "      <td>11.93</td>\n",
       "      <td>0</td>\n",
       "      <td>0.573</td>\n",
       "      <td>6.030</td>\n",
       "      <td>80.8</td>\n",
       "      <td>2.5050</td>\n",
       "      <td>1</td>\n",
       "      <td>273</td>\n",
       "      <td>21.0</td>\n",
       "      <td>396.90</td>\n",
       "      <td>7.88</td>\n",
       "      <td>11.9</td>\n",
       "    </tr>\n",
       "  </tbody>\n",
       "</table>\n",
       "</div>"
      ],
      "text/plain": [
       "        crim   zn  indus  chas    nox     rm   age     dis  rad  tax  ptratio  \\\n",
       "501  0.06263  0.0  11.93     0  0.573  6.593  69.1  2.4786    1  273     21.0   \n",
       "502  0.04527  0.0  11.93     0  0.573  6.120  76.7  2.2875    1  273     21.0   \n",
       "503  0.06076  0.0  11.93     0  0.573  6.976  91.0  2.1675    1  273     21.0   \n",
       "504  0.10959  0.0  11.93     0  0.573  6.794  89.3  2.3889    1  273     21.0   \n",
       "505  0.04741  0.0  11.93     0  0.573  6.030  80.8  2.5050    1  273     21.0   \n",
       "\n",
       "      black  lstat  medv  \n",
       "501  391.99   9.67  22.4  \n",
       "502  396.90   9.08  20.6  \n",
       "503  396.90   5.64  23.9  \n",
       "504  393.45   6.48  22.0  \n",
       "505  396.90   7.88  11.9  "
      ]
     },
     "execution_count": 4,
     "metadata": {},
     "output_type": "execute_result"
    }
   ],
   "source": [
    "# 하위 몇 개 행 확인\n",
    "data.tail()"
   ]
  },
  {
   "cell_type": "code",
   "execution_count": 5,
   "metadata": {
    "colab": {
     "base_uri": "https://localhost:8080/"
    },
    "executionInfo": {
     "elapsed": 17,
     "status": "ok",
     "timestamp": 1650721097270,
     "user": {
      "displayName": "Jangrae Lee",
      "userId": "08475661575434032088"
     },
     "user_tz": -540
    },
    "id": "1ZsXdcfp8uwI",
    "outputId": "6c5d7a2c-07e6-4e6d-fe16-ceee838adff3"
   },
   "outputs": [
    {
     "name": "stdout",
     "output_type": "stream",
     "text": [
      "<class 'pandas.core.frame.DataFrame'>\n",
      "RangeIndex: 506 entries, 0 to 505\n",
      "Data columns (total 14 columns):\n",
      " #   Column   Non-Null Count  Dtype  \n",
      "---  ------   --------------  -----  \n",
      " 0   crim     506 non-null    float64\n",
      " 1   zn       506 non-null    float64\n",
      " 2   indus    506 non-null    float64\n",
      " 3   chas     506 non-null    int64  \n",
      " 4   nox      506 non-null    float64\n",
      " 5   rm       506 non-null    float64\n",
      " 6   age      506 non-null    float64\n",
      " 7   dis      506 non-null    float64\n",
      " 8   rad      506 non-null    int64  \n",
      " 9   tax      506 non-null    int64  \n",
      " 10  ptratio  506 non-null    float64\n",
      " 11  black    506 non-null    float64\n",
      " 12  lstat    506 non-null    float64\n",
      " 13  medv     506 non-null    float64\n",
      "dtypes: float64(11), int64(3)\n",
      "memory usage: 55.5 KB\n"
     ]
    }
   ],
   "source": [
    "# 변수 확인\n",
    "data.info()"
   ]
  },
  {
   "cell_type": "markdown",
   "metadata": {
    "id": "pbCps4sLnCQa"
   },
   "source": [
    "# 3.데이터 준비\n",
    "\n",
    "- 전처리 과정을 통해 머신러닝 알고리즘에 사용할 수 있는 형태의 데이터를 준비합니다."
   ]
  },
  {
   "cell_type": "markdown",
   "metadata": {
    "id": "ku-wLJGX5TGS"
   },
   "source": [
    "**1) x, y 분리**"
   ]
  },
  {
   "cell_type": "code",
   "execution_count": 6,
   "metadata": {
    "id": "wwiBjMMknCQc"
   },
   "outputs": [],
   "source": [
    "# target 확인\n",
    "target = 'medv'\n",
    "\n",
    "# 데이터 분리\n",
    "x = data.drop(target, axis=1)\n",
    "y = data.loc[:, target]"
   ]
  },
  {
   "cell_type": "markdown",
   "metadata": {
    "id": "Q2pyQOxS5dFb"
   },
   "source": [
    "**2) 학습용, 평가용 데이터 분리**"
   ]
  },
  {
   "cell_type": "code",
   "execution_count": 7,
   "metadata": {
    "id": "FsW0b-pXnCQf"
   },
   "outputs": [],
   "source": [
    "# 모듈 불러오기\n",
    "from sklearn.model_selection import train_test_split\n",
    "\n",
    "# 7:3으로 분리\n",
    "x_train, x_test, y_train, y_test = train_test_split(x, y, test_size=0.3, random_state=1) "
   ]
  },
  {
   "cell_type": "markdown",
   "metadata": {},
   "source": [
    "**3) 정규화**"
   ]
  },
  {
   "cell_type": "code",
   "execution_count": 8,
   "metadata": {},
   "outputs": [],
   "source": [
    "# 모듈 불러오기\n",
    "from sklearn.preprocessing import MinMaxScaler\n",
    "\n",
    "# 정규화\n",
    "scaler = MinMaxScaler()\n",
    "scaler.fit(x_train)\n",
    "x_train_s =  scaler.transform(x_train)\n",
    "x_test_s = scaler.transform(x_test)"
   ]
  },
  {
   "cell_type": "markdown",
   "metadata": {
    "id": "6SJRfUgvnCQf"
   },
   "source": [
    "# 4.모델링\n",
    "\n",
    "- 본격적으로 모델을 선언하고 학습하고 평가하는 과정을 진행합니다.\n",
    "- 우선 회귀 문제인지 분류 문제인지 명확히 구분합니다."
   ]
  },
  {
   "cell_type": "markdown",
   "metadata": {
    "id": "pbPVWSOWPwV0"
   },
   "source": [
    "## 4.1.Linear Regression 모델링\n",
    "\n",
    "- Linear Regression 알고리즘으로 모델링하고 성능을 확인합니다."
   ]
  },
  {
   "cell_type": "code",
   "execution_count": 9,
   "metadata": {
    "colab": {
     "base_uri": "https://localhost:8080/"
    },
    "executionInfo": {
     "elapsed": 15,
     "status": "ok",
     "timestamp": 1650721097271,
     "user": {
      "displayName": "Jangrae Lee",
      "userId": "08475661575434032088"
     },
     "user_tz": -540
    },
    "id": "FfCQ83g4nCQg",
    "outputId": "842ddfdd-ffa1-4999-b237-36e33d553202"
   },
   "outputs": [
    {
     "name": "stdout",
     "output_type": "stream",
     "text": [
      "3.3446655035987605\n",
      "0.7836295385076295\n"
     ]
    }
   ],
   "source": [
    "# 불러오기\n",
    "from sklearn.linear_model import LinearRegression\n",
    "from sklearn.metrics import *\n",
    "\n",
    "# 선언하기\n",
    "model = LinearRegression()\n",
    "\n",
    "# 학습하기\n",
    "model.fit(x_train, y_train)\n",
    "\n",
    "# 예측하기\n",
    "y_pred = model.predict(x_test)\n",
    "\n",
    "# 평가하기\n",
    "print(mean_absolute_error(y_test, y_pred))\n",
    "print(r2_score(y_test, y_pred))\n",
    "\n",
    "# 성능정보 수집\n",
    "result = {}\n",
    "result['Linear Regression'] = r2_score(y_test, y_pred)"
   ]
  },
  {
   "cell_type": "markdown",
   "metadata": {
    "id": "Q-YVSOw51cIm"
   },
   "source": [
    "## 4.2.KNN 모델링\n",
    "\n",
    "- KNN 알고리즘으로 모델링하고 성능을 확인합니다."
   ]
  },
  {
   "cell_type": "code",
   "execution_count": 10,
   "metadata": {
    "colab": {
     "base_uri": "https://localhost:8080/"
    },
    "executionInfo": {
     "elapsed": 13,
     "status": "ok",
     "timestamp": 1650721097271,
     "user": {
      "displayName": "Jangrae Lee",
      "userId": "08475661575434032088"
     },
     "user_tz": -540
    },
    "id": "r8dFSlm91cIm",
    "outputId": "80910f43-28fc-4211-ab13-1accbe7030ae"
   },
   "outputs": [
    {
     "name": "stdout",
     "output_type": "stream",
     "text": [
      "3.0625\n",
      "0.7736645971285965\n"
     ]
    }
   ],
   "source": [
    "# 불러오기\n",
    "from sklearn.neighbors import KNeighborsRegressor\n",
    "from sklearn.metrics import *\n",
    "\n",
    "# 선언하기\n",
    "model = KNeighborsRegressor(n_neighbors=5)\n",
    "\n",
    "# 학습하기\n",
    "model.fit(x_train_s, y_train)\n",
    "\n",
    "# 예측하기\n",
    "y_pred = model.predict(x_test_s)\n",
    "\n",
    "# 평가하기\n",
    "print(mean_absolute_error(y_test, y_pred))\n",
    "print(r2_score(y_test, y_pred))\n",
    "\n",
    "# 성능정보 수집\n",
    "result['KNN'] = r2_score(y_test, y_pred)"
   ]
  },
  {
   "cell_type": "markdown",
   "metadata": {
    "id": "akmboUPB1d31"
   },
   "source": [
    "## 4.3.Decision Tree 모델링\n",
    "\n",
    "- Decision Tree 알고리즘으로 모델링하고 성능을 확인합니다."
   ]
  },
  {
   "cell_type": "code",
   "execution_count": 11,
   "metadata": {
    "colab": {
     "base_uri": "https://localhost:8080/"
    },
    "executionInfo": {
     "elapsed": 12,
     "status": "ok",
     "timestamp": 1650721097272,
     "user": {
      "displayName": "Jangrae Lee",
      "userId": "08475661575434032088"
     },
     "user_tz": -540
    },
    "id": "JvpU9t2m1d32",
    "outputId": "69709fac-cfa6-4423-c2dc-558db81912cf"
   },
   "outputs": [
    {
     "name": "stdout",
     "output_type": "stream",
     "text": [
      "2.792183921647416\n",
      "0.8475314269410481\n"
     ]
    }
   ],
   "source": [
    "# 불러오기\n",
    "from sklearn.tree import DecisionTreeRegressor\n",
    "from sklearn.metrics import *\n",
    "\n",
    "# 선언하기\n",
    "model = DecisionTreeRegressor(max_depth=5)\n",
    "\n",
    "# 학습하기\n",
    "model.fit(x_train, y_train)\n",
    "\n",
    "# 예측하기\n",
    "y_pred = model.predict(x_test)\n",
    "\n",
    "# 평가하기\n",
    "print(mean_absolute_error(y_test, y_pred))\n",
    "print(r2_score(y_test, y_pred))\n",
    "\n",
    "# 성능정보 수집\n",
    "result['Decision Tree'] = r2_score(y_test, y_pred)"
   ]
  },
  {
   "cell_type": "markdown",
   "metadata": {
    "id": "XqXP8mEDjyhW"
   },
   "source": [
    "## 4.4.Random Forest 모델링\n",
    "\n",
    "- Random Forest 알고리즘으로 모델링하고 성능을 확인합니다."
   ]
  },
  {
   "cell_type": "code",
   "execution_count": 12,
   "metadata": {
    "colab": {
     "base_uri": "https://localhost:8080/"
    },
    "executionInfo": {
     "elapsed": 420,
     "status": "ok",
     "timestamp": 1650721097682,
     "user": {
      "displayName": "Jangrae Lee",
      "userId": "08475661575434032088"
     },
     "user_tz": -540
    },
    "id": "yw5Mq1K-jyhY",
    "outputId": "a582b0f5-e326-4da2-d16a-18c571d39e8f"
   },
   "outputs": [
    {
     "name": "stdout",
     "output_type": "stream",
     "text": [
      "2.239039473684211\n",
      "0.9037124134963406\n"
     ]
    }
   ],
   "source": [
    "# 불러오기\n",
    "from sklearn.ensemble import RandomForestRegressor\n",
    "from sklearn.metrics import *\n",
    "\n",
    "# 선언하기\n",
    "model = RandomForestRegressor()\n",
    "\n",
    "# 학습하기\n",
    "model.fit(x_train, y_train)\n",
    "\n",
    "# 예측하기\n",
    "y_pred = model.predict(x_test)\n",
    "\n",
    "# 평가하기\n",
    "print(mean_absolute_error(y_test, y_pred))\n",
    "print(r2_score(y_test, y_pred))\n",
    "\n",
    "# 성능정보 수집\n",
    "result['Random Forest'] = r2_score(y_test, y_pred)"
   ]
  },
  {
   "cell_type": "markdown",
   "metadata": {
    "id": "btRcJ6jEniJ2"
   },
   "source": [
    "## 4.5.LightGBM 모델링\n",
    "\n",
    "- LightGBM 알고리즘으로 모델링하고 성능을 확인합니다."
   ]
  },
  {
   "cell_type": "code",
   "execution_count": 14,
   "metadata": {
    "colab": {
     "base_uri": "https://localhost:8080/"
    },
    "executionInfo": {
     "elapsed": 5,
     "status": "ok",
     "timestamp": 1650721097682,
     "user": {
      "displayName": "Jangrae Lee",
      "userId": "08475661575434032088"
     },
     "user_tz": -540
    },
    "id": "2dFsI03TniJ-",
    "outputId": "e0dc7ce2-d620-42ee-9ca5-8e8d6de4396c"
   },
   "outputs": [
    {
     "name": "stdout",
     "output_type": "stream",
     "text": [
      "2.3867770049274055\n",
      "0.8951512818806806\n"
     ]
    }
   ],
   "source": [
    "# 불러오기\n",
    "from lightgbm import LGBMRegressor\n",
    "from sklearn.metrics import *\n",
    "\n",
    "# 선언하기\n",
    "model = LGBMRegressor()\n",
    "\n",
    "# 학습하기\n",
    "model.fit(x_train, y_train)\n",
    "\n",
    "# 예측하기\n",
    "y_pred = model.predict(x_test)\n",
    "\n",
    "# 평가하기\n",
    "print(mean_absolute_error(y_test, y_pred))\n",
    "print(r2_score(y_test, y_pred))\n",
    "\n",
    "# 성능정보 수집\n",
    "result['LighrGBM'] = r2_score(y_test, y_pred)"
   ]
  },
  {
   "cell_type": "markdown",
   "metadata": {
    "id": "5c5V021T1Ajk"
   },
   "source": [
    "## 4.6.Voting\n",
    "\n",
    "- Voting 앙상블을 사용해 모델링하고 성능을 확인합니다."
   ]
  },
  {
   "cell_type": "code",
   "execution_count": 15,
   "metadata": {
    "colab": {
     "base_uri": "https://localhost:8080/"
    },
    "executionInfo": {
     "elapsed": 313,
     "status": "ok",
     "timestamp": 1650721097993,
     "user": {
      "displayName": "Jangrae Lee",
      "userId": "08475661575434032088"
     },
     "user_tz": -540
    },
    "id": "lrCUTzIr1Ajt",
    "outputId": "1a010ba5-f01c-4801-a95f-b1d7e98a942d"
   },
   "outputs": [
    {
     "name": "stdout",
     "output_type": "stream",
     "text": [
      "2.2370564146112315\n",
      "0.9002914957670437\n"
     ]
    }
   ],
   "source": [
    "# 불러오기\n",
    "from sklearn.linear_model import LinearRegression\n",
    "from sklearn.neighbors import KNeighborsRegressor\n",
    "from sklearn.tree import DecisionTreeRegressor\n",
    "from sklearn.ensemble import RandomForestRegressor\n",
    "from lightgbm import LGBMRegressor\n",
    "from sklearn.ensemble import VotingRegressor\n",
    "\n",
    "from sklearn.preprocessing import MinMaxScaler\n",
    "from sklearn.pipeline import make_pipeline\n",
    "from sklearn.metrics import *\n",
    "\n",
    "# 선언하기\n",
    "estimators = [('lr', LinearRegression()),\n",
    "              ('dt', DecisionTreeRegressor()),\n",
    "              ('knn', make_pipeline(MinMaxScaler(), KNeighborsRegressor())),\n",
    "              ('rdf', RandomForestRegressor()),\n",
    "              ('lgb', LGBMRegressor())]\n",
    "\n",
    "model = VotingRegressor(estimators=estimators)\n",
    "\n",
    "# 학습하기\n",
    "model.fit(x_train, y_train)\n",
    "\n",
    "# 예측하기\n",
    "y_pred = model.predict(x_test)\n",
    "\n",
    "# 평가하기\n",
    "print(mean_absolute_error(y_test, y_pred))\n",
    "print(r2_score(y_test, y_pred))\n",
    "\n",
    "# 성능정보 수집\n",
    "result['Voting'] = r2_score(y_test, y_pred)"
   ]
  },
  {
   "cell_type": "markdown",
   "metadata": {
    "id": "whTmuSDx3a_d"
   },
   "source": [
    "# 5.성능 비교\n",
    "\n",
    "- 위에서 수집한 성능 정보를 시각화해 비교합니다."
   ]
  },
  {
   "cell_type": "code",
   "execution_count": 16,
   "metadata": {
    "colab": {
     "base_uri": "https://localhost:8080/",
     "height": 278
    },
    "executionInfo": {
     "elapsed": 304,
     "status": "ok",
     "timestamp": 1650721098295,
     "user": {
      "displayName": "Jangrae Lee",
      "userId": "08475661575434032088"
     },
     "user_tz": -540
    },
    "id": "i7gy_QiQ4vjx",
    "outputId": "cd983c45-a882-4554-b7e8-9820e04920ba"
   },
   "outputs": [
    {
     "data": {
      "image/png": "[encoded data removed]",
      "text/plain": [
       "<Figure size 800x500 with 1 Axes>"
      ]
     },
     "metadata": {
      "image/png": {
       "height": 448,
       "width": 793
      }
     },
     "output_type": "display_data"
    }
   ],
   "source": [
    "# 데이터프레임 만들기\n",
    "df = pd.DataFrame.from_dict(result, orient='index', columns=['score'])\n",
    "df.sort_values(by='score', ascending=True, inplace=True)\n",
    "\n",
    "# 성능 비교\n",
    "plt.figure(figsize=(8, 5))\n",
    "plt.barh(y=df.index, width=df['score'])\n",
    "plt.xlabel('Score')\n",
    "plt.ylabel('Model')\n",
    "plt.show()"
   ]
  },
  {
   "cell_type": "code",
   "execution_count": null,
   "metadata": {},
   "outputs": [],
   "source": []
  }
 ],
 "metadata": {
  "colab": {
   "collapsed_sections": [],
   "name": "MLX_03_보팅(Voting, Boston).ipynb",
   "provenance": []
  },
  "kernelspec": {
   "display_name": "aivle",
   "language": "python",
   "name": "python3"
  },
  "language_info": {
   "codemirror_mode": {
    "name": "ipython",
    "version": 3
   },
   "file_extension": ".py",
   "mimetype": "text/x-python",
   "name": "python",
   "nbconvert_exporter": "python",
   "pygments_lexer": "ipython3",
   "version": "3.9.16"
  },
  "vscode": {
   "interpreter": {
    "hash": "9676231af8a8b40e18afff2eb530987aa2ea69eb5abd161b4e84bd9287972a9b"
   }
  }
 },
 "nbformat": 4,
 "nbformat_minor": 4
}
