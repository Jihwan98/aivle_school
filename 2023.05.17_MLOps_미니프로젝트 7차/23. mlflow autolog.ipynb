{
 "cells": [
  {
   "attachments": {},
   "cell_type": "markdown",
   "metadata": {
    "id": "cVB9pY-v8uv5"
   },
   "source": [
    "# mlflow - autolog"
   ]
  },
  {
   "attachments": {},
   "cell_type": "markdown",
   "metadata": {
    "id": "qTa9LlwZD_aa"
   },
   "source": [
    "## 1.환경준비"
   ]
  },
  {
   "attachments": {},
   "cell_type": "markdown",
   "metadata": {
    "id": "gIN5d51gtker"
   },
   "source": [
    "### (1) 라이브러리 Import"
   ]
  },
  {
   "attachments": {},
   "cell_type": "markdown",
   "metadata": {
    "id": "gwwtS-m0K-W3"
   },
   "source": [
    "* 라이브러리 로딩"
   ]
  },
  {
   "cell_type": "code",
   "execution_count": 1,
   "metadata": {
    "id": "GVvCef6A8uv6",
    "tags": []
   },
   "outputs": [],
   "source": [
    "import pandas as pd\n",
    "import numpy as np\n",
    "import matplotlib.pyplot as plt\n",
    "import seaborn as sns\n",
    "\n",
    "from sklearn.model_selection import train_test_split\n",
    "from sklearn.metrics import *\n",
    "from sklearn.preprocessing import MinMaxScaler\n",
    "\n",
    "import mlflow"
   ]
  },
  {
   "attachments": {},
   "cell_type": "markdown",
   "metadata": {
    "id": "nYu36ylTK-W4"
   },
   "source": [
    "### (2) 데이터 불러오기"
   ]
  },
  {
   "attachments": {},
   "cell_type": "markdown",
   "metadata": {
    "id": "lZoMs28MEi_n"
   },
   "source": [
    "* 카시트 판매량 데이터"
   ]
  },
  {
   "attachments": {},
   "cell_type": "markdown",
   "metadata": {
    "id": "zk45NDTSEoBh"
   },
   "source": [
    "|\t변수명\t|\t설명\t|\t구분\t|\n",
    "|----|----|----|\n",
    "|\t**Sales** \t|\t **각 지역 판매량(단위 : 1000개)**\t|\t**Target**\t|\n",
    "|\tCompPrice \t|\t지역별 경쟁사 판매가격(달러)\t|\tfeature\t|\n",
    "|\tIncome \t|\t가구당 평균 소득액(1000달러)\t|\tfeature\t|\n",
    "|\tAdvertising \t|\t 각 지역, 회사의 광고 예산(1000달러)\t|\tfeature\t|\n",
    "|\tPopulation \t|\t 지역 인구수(단위 : 1000명)\t|\tfeature\t|\n",
    "|\tPrice \t|\t 자사 지역별 판매가격(달러)\t|\tfeature\t|\n",
    "|\tShelveLoc \t|\t 진열상태(범주 : Bad, Medium, Good)\t|\tfeature\t|\n",
    "|\tAge \t|\t 지역 인구의 평균 연령\t|\tfeature\t|\n",
    "|\tEducation \t|\t 교육수준(범주 : 10~18)\t|\tfeature\t|\n",
    "|\tUrban \t|\t 매장이 도심에 있는지 여부(범주 : Yes, No)\t|\tfeature\t|\n",
    "|\tUS \t|\t 매장이 미국에 있는지 여부(범주 : Yes, No)\t|\tfeature\t|\n"
   ]
  },
  {
   "attachments": {},
   "cell_type": "markdown",
   "metadata": {
    "id": "KF3g3YrNAQLV"
   },
   "source": [
    "* 데이터 경로 : https://raw.githubusercontent.com/DA4BAM/dataset/master/Carseats.csv"
   ]
  },
  {
   "cell_type": "code",
   "execution_count": 2,
   "metadata": {
    "id": "fiiwGWqgEaa5",
    "tags": []
   },
   "outputs": [
    {
     "data": {
      "text/html": [
       "<div>\n",
       "<style scoped>\n",
       "    .dataframe tbody tr th:only-of-type {\n",
       "        vertical-align: middle;\n",
       "    }\n",
       "\n",
       "    .dataframe tbody tr th {\n",
       "        vertical-align: top;\n",
       "    }\n",
       "\n",
       "    .dataframe thead th {\n",
       "        text-align: right;\n",
       "    }\n",
       "</style>\n",
       "<table border=\"1\" class=\"dataframe\">\n",
       "  <thead>\n",
       "    <tr style=\"text-align: right;\">\n",
       "      <th></th>\n",
       "      <th>Sales</th>\n",
       "      <th>CompPrice</th>\n",
       "      <th>Income</th>\n",
       "      <th>Advertising</th>\n",
       "      <th>Population</th>\n",
       "      <th>Price</th>\n",
       "      <th>ShelveLoc</th>\n",
       "      <th>Age</th>\n",
       "      <th>Education</th>\n",
       "      <th>Urban</th>\n",
       "      <th>US</th>\n",
       "    </tr>\n",
       "  </thead>\n",
       "  <tbody>\n",
       "    <tr>\n",
       "      <th>0</th>\n",
       "      <td>9.50</td>\n",
       "      <td>138</td>\n",
       "      <td>73</td>\n",
       "      <td>11</td>\n",
       "      <td>276</td>\n",
       "      <td>120</td>\n",
       "      <td>Bad</td>\n",
       "      <td>42</td>\n",
       "      <td>17</td>\n",
       "      <td>Yes</td>\n",
       "      <td>Yes</td>\n",
       "    </tr>\n",
       "    <tr>\n",
       "      <th>1</th>\n",
       "      <td>11.22</td>\n",
       "      <td>111</td>\n",
       "      <td>48</td>\n",
       "      <td>16</td>\n",
       "      <td>260</td>\n",
       "      <td>83</td>\n",
       "      <td>Good</td>\n",
       "      <td>65</td>\n",
       "      <td>10</td>\n",
       "      <td>Yes</td>\n",
       "      <td>Yes</td>\n",
       "    </tr>\n",
       "    <tr>\n",
       "      <th>2</th>\n",
       "      <td>10.06</td>\n",
       "      <td>113</td>\n",
       "      <td>35</td>\n",
       "      <td>10</td>\n",
       "      <td>269</td>\n",
       "      <td>80</td>\n",
       "      <td>Medium</td>\n",
       "      <td>59</td>\n",
       "      <td>12</td>\n",
       "      <td>Yes</td>\n",
       "      <td>Yes</td>\n",
       "    </tr>\n",
       "    <tr>\n",
       "      <th>3</th>\n",
       "      <td>7.40</td>\n",
       "      <td>117</td>\n",
       "      <td>100</td>\n",
       "      <td>4</td>\n",
       "      <td>466</td>\n",
       "      <td>97</td>\n",
       "      <td>Medium</td>\n",
       "      <td>55</td>\n",
       "      <td>14</td>\n",
       "      <td>Yes</td>\n",
       "      <td>Yes</td>\n",
       "    </tr>\n",
       "    <tr>\n",
       "      <th>4</th>\n",
       "      <td>4.15</td>\n",
       "      <td>141</td>\n",
       "      <td>64</td>\n",
       "      <td>3</td>\n",
       "      <td>340</td>\n",
       "      <td>128</td>\n",
       "      <td>Bad</td>\n",
       "      <td>38</td>\n",
       "      <td>13</td>\n",
       "      <td>Yes</td>\n",
       "      <td>No</td>\n",
       "    </tr>\n",
       "  </tbody>\n",
       "</table>\n",
       "</div>"
      ],
      "text/plain": [
       "   Sales  CompPrice  Income  Advertising  Population  Price ShelveLoc  Age   \n",
       "0   9.50        138      73           11         276    120       Bad   42  \\\n",
       "1  11.22        111      48           16         260     83      Good   65   \n",
       "2  10.06        113      35           10         269     80    Medium   59   \n",
       "3   7.40        117     100            4         466     97    Medium   55   \n",
       "4   4.15        141      64            3         340    128       Bad   38   \n",
       "\n",
       "   Education Urban   US  \n",
       "0         17   Yes  Yes  \n",
       "1         10   Yes  Yes  \n",
       "2         12   Yes  Yes  \n",
       "3         14   Yes  Yes  \n",
       "4         13   Yes   No  "
      ]
     },
     "execution_count": 2,
     "metadata": {},
     "output_type": "execute_result"
    }
   ],
   "source": [
    "path = 'https://raw.githubusercontent.com/DA4BAM/dataset/master/Carseats.csv'\n",
    "carseat = pd.read_csv(path)\n",
    "carseat.head()"
   ]
  },
  {
   "attachments": {},
   "cell_type": "markdown",
   "metadata": {
    "id": "pcf-5u15ZYqG",
    "tags": []
   },
   "source": [
    "## 2.전처리 및 추적 준비"
   ]
  },
  {
   "attachments": {},
   "cell_type": "markdown",
   "metadata": {
    "id": "-N_y_wtxcYvv"
   },
   "source": [
    "### (1) 데이터 전처리"
   ]
  },
  {
   "attachments": {},
   "cell_type": "markdown",
   "metadata": {
    "id": "dp279ZAVcYvv",
    "tags": []
   },
   "source": [
    "* 데이터 준비"
   ]
  },
  {
   "cell_type": "code",
   "execution_count": 3,
   "metadata": {
    "id": "nIqNS4utcYvw"
   },
   "outputs": [],
   "source": [
    "target = 'Sales'\n",
    "x = carseat.drop(target, axis=1)\n",
    "y = carseat.loc[:, target]"
   ]
  },
  {
   "attachments": {},
   "cell_type": "markdown",
   "metadata": {
    "id": "Caf9vsxemDj6"
   },
   "source": [
    "* 가변수화"
   ]
  },
  {
   "cell_type": "code",
   "execution_count": 4,
   "metadata": {
    "id": "8ZcBHLh7Rmcy"
   },
   "outputs": [],
   "source": [
    "cat_cols = {'ShelveLoc':['Bad','Medium','Good']\n",
    "            , 'Education':[10,11,12,13,14,15,16,17,18]\n",
    "            , 'US':['No','Yes']\n",
    "            , 'Urban':['No','Yes']}\n",
    "\n",
    "for var, values in cat_cols.items():\n",
    "    x[var] = pd.Categorical(x[var], categories = values)\n",
    "\n",
    "x = pd.get_dummies(x, columns = cat_cols.keys(), drop_first = True)    "
   ]
  },
  {
   "attachments": {},
   "cell_type": "markdown",
   "metadata": {
    "id": "k3amXi18t8bT"
   },
   "source": [
    "* 데이터분할"
   ]
  },
  {
   "cell_type": "code",
   "execution_count": 5,
   "metadata": {
    "id": "cpFuBf0Dt8bT"
   },
   "outputs": [],
   "source": [
    "x_train, x_val, y_train, y_val = train_test_split(x, y, test_size=.2, random_state = 20)"
   ]
  },
  {
   "attachments": {},
   "cell_type": "markdown",
   "metadata": {
    "id": "_87HAmiAK-W6"
   },
   "source": [
    "* 스케일링"
   ]
  },
  {
   "cell_type": "code",
   "execution_count": 6,
   "metadata": {
    "id": "RZLQITMuK-W6"
   },
   "outputs": [],
   "source": [
    "scaler = MinMaxScaler()\n",
    "x_train_s = scaler.fit_transform(x_train)\n",
    "x_val_s = scaler.transform(x_val)"
   ]
  },
  {
   "attachments": {},
   "cell_type": "markdown",
   "metadata": {
    "id": "x-ArN_G0K-W6"
   },
   "source": [
    "### (2) Tracking 준비"
   ]
  },
  {
   "attachments": {},
   "cell_type": "markdown",
   "metadata": {
    "id": "9jNiCwnfK-W6"
   },
   "source": [
    "#### 1) 추적설정"
   ]
  },
  {
   "cell_type": "code",
   "execution_count": 7,
   "metadata": {
    "id": "CVz4EZ_gK-W7"
   },
   "outputs": [],
   "source": [
    "mlflow_uri = \"sqlite:///mlflow.db\"\n",
    "mlflow.set_tracking_uri(mlflow_uri)"
   ]
  },
  {
   "attachments": {},
   "cell_type": "markdown",
   "metadata": {
    "id": "EyUA5yIRyHyc"
   },
   "source": [
    "#### 2) 새 실험 만들기"
   ]
  },
  {
   "cell_type": "code",
   "execution_count": 8,
   "metadata": {
    "id": "iKDNK9qOK-W7",
    "tags": []
   },
   "outputs": [
    {
     "data": {
      "text/plain": [
       "'2'"
      ]
     },
     "execution_count": 8,
     "metadata": {},
     "output_type": "execute_result"
    }
   ],
   "source": [
    "exp_id = mlflow.create_experiment(\"exp3\")\n",
    "exp_id"
   ]
  },
  {
   "attachments": {},
   "cell_type": "markdown",
   "metadata": {
    "id": "iCTwulQHyHyc",
    "tags": []
   },
   "source": [
    "## 3.autolog 1"
   ]
  },
  {
   "attachments": {},
   "cell_type": "markdown",
   "metadata": {
    "id": "UzBfvK5DK-W7",
    "tags": []
   },
   "source": [
    "### (1) sklearn 알고리즘"
   ]
  },
  {
   "cell_type": "code",
   "execution_count": 9,
   "metadata": {
    "id": "G0wh2Z18K-W7"
   },
   "outputs": [],
   "source": [
    "from sklearn.ensemble import RandomForestRegressor\n",
    "from sklearn.neighbors import KNeighborsRegressor\n",
    "from sklearn.model_selection import GridSearchCV"
   ]
  },
  {
   "attachments": {},
   "cell_type": "markdown",
   "metadata": {
    "id": "rEDwnp1_K-W8",
    "tags": []
   },
   "source": [
    "#### 1) 수동 로깅"
   ]
  },
  {
   "cell_type": "code",
   "execution_count": 10,
   "metadata": {
    "id": "GcOEDDXWK-W8",
    "tags": []
   },
   "outputs": [
    {
     "name": "stderr",
     "output_type": "stream",
     "text": [
      "c:\\Users\\User\\anaconda3\\envs\\ml_pipeline\\lib\\site-packages\\_distutils_hack\\__init__.py:33: UserWarning: Setuptools is replacing distutils.\n",
      "  warnings.warn(\"Setuptools is replacing distutils.\")\n",
      "Successfully registered model 'RF'.\n",
      "2023/05/18 11:51:39 INFO mlflow.tracking._model_registry.client: Waiting up to 300 seconds for model version to finish creation. Model name: RF, version 1\n",
      "Created version '1' of model 'RF'.\n"
     ]
    }
   ],
   "source": [
    "with mlflow.start_run(experiment_id = exp_id):\n",
    "    \n",
    "    model = RandomForestRegressor()\n",
    "    model.fit(x_train, y_train)\n",
    "    \n",
    "    pred = model.predict(x_val)\n",
    "    mlflow.log_metric(\"mae\", mean_absolute_error(y_val, pred))\n",
    "        \n",
    "    # best 모델 기록하기\n",
    "    mlflow.sklearn.log_model(model, \"model\", registered_model_name=\"RF\")"
   ]
  },
  {
   "attachments": {},
   "cell_type": "markdown",
   "metadata": {
    "id": "yoNvYw-jK-W8"
   },
   "source": [
    "#### 2) autolog"
   ]
  },
  {
   "cell_type": "code",
   "execution_count": 11,
   "metadata": {
    "id": "zHO2oWaPK-W8"
   },
   "outputs": [
    {
     "name": "stderr",
     "output_type": "stream",
     "text": [
      "2023/05/18 11:53:37 WARNING mlflow.utils.autologging_utils: MLflow autologging encountered a warning: \"c:\\Users\\User\\anaconda3\\envs\\ml_pipeline\\lib\\site-packages\\mlflow\\models\\signature.py:137: UserWarning: Hint: Inferred schema contains integer column(s). Integer columns in Python cannot represent missing values. If your input data contains missing values at inference time, it will be encoded as floats and will cause a schema enforcement error. The best way to avoid this problem is to infer the model schema based on a realistic data sample (training dataset) that includes missing values. Alternatively, you can declare integer columns as doubles (float64) whenever these columns may have missing values. See `Handling Integers With Missing Values <https://www.mlflow.org/docs/latest/models.html#handling-integers-with-missing-values>`_ for more details.\"\n"
     ]
    }
   ],
   "source": [
    "with mlflow.start_run(experiment_id=exp_id):\n",
    "    \n",
    "    # autolog!\n",
    "    mlflow.sklearn.autolog()\n",
    "    \n",
    "    model = RandomForestRegressor()\n",
    "    model.fit(x_train, y_train)\n",
    "    \n",
    "    mlflow.sklearn.autolog(disable = True)"
   ]
  },
  {
   "attachments": {},
   "cell_type": "markdown",
   "metadata": {
    "id": "rAEiExZVK-W8"
   },
   "source": [
    "* mlflow ui에서 두 결과의 차이를 비교해 봅시다."
   ]
  },
  {
   "attachments": {},
   "cell_type": "markdown",
   "metadata": {
    "id": "oNC9GfEcK-W9"
   },
   "source": [
    "### (2) Grid Search 튜닝"
   ]
  },
  {
   "attachments": {},
   "cell_type": "markdown",
   "metadata": {},
   "source": [
    "#### 1)튜닝 일반 코드"
   ]
  },
  {
   "cell_type": "code",
   "execution_count": 12,
   "metadata": {},
   "outputs": [],
   "source": [
    "# 1.튜닝 ----------------------------------------------\n",
    "## 1) 하이퍼파라미터 범위 설정\n",
    "params = {'n_estimators':range(20,201,20)}\n",
    "\n",
    "## 2) GridSearchCV 모델 선언\n",
    "model = GridSearchCV(RandomForestRegressor(), params, cv = 5)\n",
    "\n",
    "## 3) 학습(튜닝)\n",
    "model.fit(x_train, y_train)\n",
    "\n",
    "# 2.튜닝 결과 데이터프레임을 csv로 저장하기\n",
    "result = pd.DataFrame(model.cv_results_)\n",
    "result[['param_n_estimators', 'mean_test_score','rank_test_score']].to_csv('result.csv', index = False)"
   ]
  },
  {
   "cell_type": "code",
   "execution_count": 13,
   "metadata": {},
   "outputs": [
    {
     "data": {
      "image/png": "[encoded data removed]",
      "text/plain": [
       "<Figure size 640x480 with 1 Axes>"
      ]
     },
     "metadata": {},
     "output_type": "display_data"
    }
   ],
   "source": [
    "# 3.튜닝 결과 그래프\n",
    "plt.plot('param_n_estimators', 'mean_test_score', data = result, marker = '.' )\n",
    "plt.title('RF GridSearch Tuning')\n",
    "plt.ylabel('r2 score')\n",
    "plt.xlabel('n_estimators')\n",
    "plt.grid()    \n",
    "plt.show()"
   ]
  },
  {
   "cell_type": "code",
   "execution_count": 14,
   "metadata": {},
   "outputs": [
    {
     "data": {
      "text/plain": [
       "{'n_estimators': 120}"
      ]
     },
     "execution_count": 14,
     "metadata": {},
     "output_type": "execute_result"
    }
   ],
   "source": [
    "# 가장 성능이 좋았을 때 하이퍼파라미터 값\n",
    "model.best_params_"
   ]
  },
  {
   "cell_type": "code",
   "execution_count": 15,
   "metadata": {},
   "outputs": [
    {
     "data": {
      "text/plain": [
       "0.689654284536825"
      ]
     },
     "execution_count": 15,
     "metadata": {},
     "output_type": "execute_result"
    }
   ],
   "source": [
    "# 가장 성능이 좋았을 때의 성능\n",
    "model.best_score_"
   ]
  },
  {
   "cell_type": "code",
   "execution_count": 16,
   "metadata": {},
   "outputs": [
    {
     "data": {
      "text/html": [
       "<style>#sk-container-id-2 {color: black;background-color: white;}#sk-container-id-2 pre{padding: 0;}#sk-container-id-2 div.sk-toggleable {background-color: white;}#sk-container-id-2 label.sk-toggleable__label {cursor: pointer;display: block;width: 100%;margin-bottom: 0;padding: 0.3em;box-sizing: border-box;text-align: center;}#sk-container-id-2 label.sk-toggleable__label-arrow:before {content: \"▸\";float: left;margin-right: 0.25em;color: #696969;}#sk-container-id-2 label.sk-toggleable__label-arrow:hover:before {color: black;}#sk-container-id-2 div.sk-estimator:hover label.sk-toggleable__label-arrow:before {color: black;}#sk-container-id-2 div.sk-toggleable__content {max-height: 0;max-width: 0;overflow: hidden;text-align: left;background-color: #f0f8ff;}#sk-container-id-2 div.sk-toggleable__content pre {margin: 0.2em;color: black;border-radius: 0.25em;background-color: #f0f8ff;}#sk-container-id-2 input.sk-toggleable__control:checked~div.sk-toggleable__content {max-height: 200px;max-width: 100%;overflow: auto;}#sk-container-id-2 input.sk-toggleable__control:checked~label.sk-toggleable__label-arrow:before {content: \"▾\";}#sk-container-id-2 div.sk-estimator input.sk-toggleable__control:checked~label.sk-toggleable__label {background-color: #d4ebff;}#sk-container-id-2 div.sk-label input.sk-toggleable__control:checked~label.sk-toggleable__label {background-color: #d4ebff;}#sk-container-id-2 input.sk-hidden--visually {border: 0;clip: rect(1px 1px 1px 1px);clip: rect(1px, 1px, 1px, 1px);height: 1px;margin: -1px;overflow: hidden;padding: 0;position: absolute;width: 1px;}#sk-container-id-2 div.sk-estimator {font-family: monospace;background-color: #f0f8ff;border: 1px dotted black;border-radius: 0.25em;box-sizing: border-box;margin-bottom: 0.5em;}#sk-container-id-2 div.sk-estimator:hover {background-color: #d4ebff;}#sk-container-id-2 div.sk-parallel-item::after {content: \"\";width: 100%;border-bottom: 1px solid gray;flex-grow: 1;}#sk-container-id-2 div.sk-label:hover label.sk-toggleable__label {background-color: #d4ebff;}#sk-container-id-2 div.sk-serial::before {content: \"\";position: absolute;border-left: 1px solid gray;box-sizing: border-box;top: 0;bottom: 0;left: 50%;z-index: 0;}#sk-container-id-2 div.sk-serial {display: flex;flex-direction: column;align-items: center;background-color: white;padding-right: 0.2em;padding-left: 0.2em;position: relative;}#sk-container-id-2 div.sk-item {position: relative;z-index: 1;}#sk-container-id-2 div.sk-parallel {display: flex;align-items: stretch;justify-content: center;background-color: white;position: relative;}#sk-container-id-2 div.sk-item::before, #sk-container-id-2 div.sk-parallel-item::before {content: \"\";position: absolute;border-left: 1px solid gray;box-sizing: border-box;top: 0;bottom: 0;left: 50%;z-index: -1;}#sk-container-id-2 div.sk-parallel-item {display: flex;flex-direction: column;z-index: 1;position: relative;background-color: white;}#sk-container-id-2 div.sk-parallel-item:first-child::after {align-self: flex-end;width: 50%;}#sk-container-id-2 div.sk-parallel-item:last-child::after {align-self: flex-start;width: 50%;}#sk-container-id-2 div.sk-parallel-item:only-child::after {width: 0;}#sk-container-id-2 div.sk-dashed-wrapped {border: 1px dashed gray;margin: 0 0.4em 0.5em 0.4em;box-sizing: border-box;padding-bottom: 0.4em;background-color: white;}#sk-container-id-2 div.sk-label label {font-family: monospace;font-weight: bold;display: inline-block;line-height: 1.2em;}#sk-container-id-2 div.sk-label-container {text-align: center;}#sk-container-id-2 div.sk-container {/* jupyter's `normalize.less` sets `[hidden] { display: none; }` but bootstrap.min.css set `[hidden] { display: none !important; }` so we also need the `!important` here to be able to override the default hidden behavior on the sphinx rendered scikit-learn.org. See: https://github.com/scikit-learn/scikit-learn/issues/21755 */display: inline-block !important;position: relative;}#sk-container-id-2 div.sk-text-repr-fallback {display: none;}</style><div id=\"sk-container-id-2\" class=\"sk-top-container\"><div class=\"sk-text-repr-fallback\"><pre>RandomForestRegressor(n_estimators=120)</pre><b>In a Jupyter environment, please rerun this cell to show the HTML representation or trust the notebook. <br />On GitHub, the HTML representation is unable to render, please try loading this page with nbviewer.org.</b></div><div class=\"sk-container\" hidden><div class=\"sk-item\"><div class=\"sk-estimator sk-toggleable\"><input class=\"sk-toggleable__control sk-hidden--visually\" id=\"sk-estimator-id-2\" type=\"checkbox\" checked><label for=\"sk-estimator-id-2\" class=\"sk-toggleable__label sk-toggleable__label-arrow\">RandomForestRegressor</label><div class=\"sk-toggleable__content\"><pre>RandomForestRegressor(n_estimators=120)</pre></div></div></div></div></div>"
      ],
      "text/plain": [
       "RandomForestRegressor(n_estimators=120)"
      ]
     },
     "execution_count": 16,
     "metadata": {},
     "output_type": "execute_result"
    }
   ],
   "source": [
    "# 가장 성능이 좋은 모델\n",
    "model.best_estimator_"
   ]
  },
  {
   "attachments": {},
   "cell_type": "markdown",
   "metadata": {
    "id": "_HCpxl6BK-W9"
   },
   "source": [
    "#### 2)autolog"
   ]
  },
  {
   "cell_type": "code",
   "execution_count": 17,
   "metadata": {
    "id": "-ejwf2CBK-W9"
   },
   "outputs": [
    {
     "name": "stderr",
     "output_type": "stream",
     "text": [
      "2023/05/18 12:10:04 WARNING mlflow.utils.autologging_utils: MLflow autologging encountered a warning: \"c:\\Users\\User\\anaconda3\\envs\\ml_pipeline\\lib\\site-packages\\mlflow\\models\\signature.py:137: UserWarning: Hint: Inferred schema contains integer column(s). Integer columns in Python cannot represent missing values. If your input data contains missing values at inference time, it will be encoded as floats and will cause a schema enforcement error. The best way to avoid this problem is to infer the model schema based on a realistic data sample (training dataset) that includes missing values. Alternatively, you can declare integer columns as doubles (float64) whenever these columns may have missing values. See `Handling Integers With Missing Values <https://www.mlflow.org/docs/latest/models.html#handling-integers-with-missing-values>`_ for more details.\"\n",
      "2023/05/18 12:10:20 INFO mlflow.sklearn.utils: Logging the 5 best runs, 5 runs will be omitted.\n",
      "Successfully registered model 'RF_Tuning'.\n",
      "2023/05/18 12:10:28 INFO mlflow.tracking._model_registry.client: Waiting up to 300 seconds for model version to finish creation. Model name: RF_Tuning, version 1\n",
      "Created version '1' of model 'RF_Tuning'.\n"
     ]
    },
    {
     "data": {
      "image/png": "[encoded data removed]",
      "text/plain": [
       "<Figure size 640x480 with 1 Axes>"
      ]
     },
     "metadata": {},
     "output_type": "display_data"
    }
   ],
   "source": [
    "with mlflow.start_run(experiment_id=exp_id):\n",
    "    \n",
    "    mlflow.sklearn.autolog()\n",
    "    \n",
    "    params = {'n_estimators':range(20,201,20)}\n",
    "    model = GridSearchCV(RandomForestRegressor(), params, cv = 5)\n",
    "    model.fit(x_train, y_train)\n",
    "    \n",
    "    # 자동기록되는 부분 : 하이퍼파리미터, 성능지표, 성능평가 결과(.cv_results_)\n",
    "    \n",
    "    # 수동으로 등록해야 하는 부분 : 모델등록, 그래프, 추가적인 fitting 함수\n",
    "    result = pd.DataFrame(model.cv_results_)\n",
    "    plt.plot('param_n_estimators', 'mean_test_score', data = result, marker = '.' )\n",
    "    plt.title('RF GridSearch Tuning')\n",
    "    plt.ylabel('r2 score')\n",
    "    plt.xlabel('n_estimators')\n",
    "    plt.grid()    \n",
    "    plt.savefig('RF_GridSearch_Tuning.png')\n",
    "    mlflow.log_artifact(\"RF_GridSearch_Tuning.png\")\n",
    "    \n",
    "    # best 모델 기록하기\n",
    "    mlflow.sklearn.log_model(model.best_estimator_, \"model\", registered_model_name=\"RF_Tuning\")    \n",
    "       \n",
    "    mlflow.sklearn.autolog(disable = True)"
   ]
  },
  {
   "attachments": {},
   "cell_type": "markdown",
   "metadata": {
    "id": "e74gfydxK-W-"
   },
   "source": [
    "### (3) 실습\n",
    "* exp3에 KNN regressor 튜닝 기록하기\n",
    "    * mlflow.start_run 함수에 experiment_id=exp_id, run_name = 'gridsearch_tuning01' 이라고 실행 이름을 지정해 봅시다.\n",
    "    * 하이퍼퍼라미터 범위 \n",
    "        * n_neighbors : 1~50\n",
    "        * metric : ‘euclidean’, ‘manhattan’\n",
    "    * autolog\n",
    "    * 추가 로깅\n",
    "        * 모델 : best_estimator_ \n",
    "        * 그래프 : metric별 n_neighbors에 따른 성능 추이 그래프\n",
    "* 먼저 튜닝을 시도해보고, 이상이 없으면 mlflow에 logging 하도록 합시다.\n",
    "* 기록 후 mlflow 관리 페이지에서 확인해 봅시다."
   ]
  },
  {
   "cell_type": "code",
   "execution_count": 19,
   "metadata": {},
   "outputs": [],
   "source": [
    "params = {'n_neighbors' : range(1, 51), 'metric' : ['euclidean', 'manhattan']}\n",
    "model = GridSearchCV(KNeighborsRegressor(), params, cv=5)\n",
    "model.fit(x_train, y_train)\n",
    "result = pd.DataFrame(model.cv_results_)"
   ]
  },
  {
   "cell_type": "code",
   "execution_count": 35,
   "metadata": {},
   "outputs": [
    {
     "data": {
      "text/plain": [
       "<Axes: xlabel='param_n_neighbors', ylabel='mean_test_score'>"
      ]
     },
     "execution_count": 35,
     "metadata": {},
     "output_type": "execute_result"
    },
    {
     "data": {
      "image/png": "[encoded data removed]",
      "text/plain": [
       "<Figure size 640x480 with 1 Axes>"
      ]
     },
     "metadata": {},
     "output_type": "display_data"
    }
   ],
   "source": [
    "sns.scatterplot(x='param_n_neighbors', y='mean_test_score', data=result, hue='param_metric')"
   ]
  },
  {
   "cell_type": "code",
   "execution_count": 37,
   "metadata": {
    "id": "a20mgeWhK-W-"
   },
   "outputs": [
    {
     "name": "stderr",
     "output_type": "stream",
     "text": [
      "2023/05/18 12:27:23 INFO mlflow.sklearn.utils: Logging the 5 best runs, 95 runs will be omitted.\n",
      "Registered model 'KNN_Tuning' already exists. Creating a new version of this model...\n",
      "2023/05/18 12:27:28 INFO mlflow.tracking._model_registry.client: Waiting up to 300 seconds for model version to finish creation. Model name: KNN_Tuning, version 2\n",
      "Created version '2' of model 'KNN_Tuning'.\n"
     ]
    },
    {
     "data": {
      "image/png": "[encoded data removed]",
      "text/plain": [
       "<Figure size 640x480 with 1 Axes>"
      ]
     },
     "metadata": {},
     "output_type": "display_data"
    }
   ],
   "source": [
    "with mlflow.start_run(experiment_id=exp_id, run_name = 'gridsearch_tuning01'):\n",
    "    \n",
    "    # autolog 시작!\n",
    "    mlflow.sklearn.autolog()\n",
    "    \n",
    "    # 튜닝 코드\n",
    "    params = {'n_neighbors' : range(1, 51), 'metric' : ['euclidean', 'manhattan']}\n",
    "    model = GridSearchCV(KNeighborsRegressor(), params, cv=5)\n",
    "    model.fit(x_train_s, y_train)\n",
    "    \n",
    "    result = pd.DataFrame(model.cv_results_)\n",
    "       \n",
    "        \n",
    "    # 수동등록 : 그래프\n",
    "    sns.scatterplot(x='param_n_neighbors', y='mean_test_score', data=result, hue='param_metric')\n",
    "    plt.title('KNN GridSearch Tuning')\n",
    "    plt.grid()\n",
    "    plt.savefig('KNN_GridSearch_Tuning.png')\n",
    "    mlflow.log_artifact('KNN_GridSearch_Tuning.png')\n",
    "    \n",
    "    # 수동등록 : best 모델 기록하기\n",
    "    mlflow.sklearn.log_model(model.best_estimator_, \"model\", registered_model_name=\"KNN_Tuning\")\n",
    "    \n",
    "    # autolog 종료\n",
    "    mlflow.sklearn.autolog(disable=True)\n"
   ]
  },
  {
   "attachments": {},
   "cell_type": "markdown",
   "metadata": {
    "id": "2fcPf8_7K-XB",
    "tags": []
   },
   "source": [
    "## 4.autolog2 : Keras(Deep Learning)"
   ]
  },
  {
   "cell_type": "code",
   "execution_count": 38,
   "metadata": {
    "id": "t-itQ8pMK-XB"
   },
   "outputs": [],
   "source": [
    "from keras.models import Sequential\n",
    "from keras.layers import Dense\n",
    "from keras.backend import clear_session\n",
    "from keras.callbacks import Callback\n",
    "from keras.optimizers import Adam\n",
    "\n",
    "import mlflow.keras"
   ]
  },
  {
   "cell_type": "code",
   "execution_count": 39,
   "metadata": {
    "id": "8P3NgRR_K-XB"
   },
   "outputs": [],
   "source": [
    "# 학습곡선 그래프\n",
    "def dl_history_plot(history):\n",
    "    plt.figure(figsize=(8,5))\n",
    "    plt.plot(history['loss'], label='train_err', marker = '.')\n",
    "    plt.plot(history['val_loss'], label='val_err', marker = '.')\n",
    "\n",
    "    plt.ylabel('Loss')\n",
    "    plt.xlabel('Epoch')\n",
    "    plt.legend()\n",
    "    plt.grid()\n",
    "    plt.show()"
   ]
  },
  {
   "attachments": {},
   "cell_type": "markdown",
   "metadata": {
    "id": "kp0c6zwEK-XC"
   },
   "source": [
    "### (1) Keras 모델링"
   ]
  },
  {
   "attachments": {},
   "cell_type": "markdown",
   "metadata": {
    "id": "M5enPIVjK-XC"
   },
   "source": [
    "* input_shape 확인"
   ]
  },
  {
   "cell_type": "code",
   "execution_count": 40,
   "metadata": {
    "id": "vUeFJh2kK-XC"
   },
   "outputs": [
    {
     "data": {
      "text/plain": [
       "18"
      ]
     },
     "execution_count": 40,
     "metadata": {},
     "output_type": "execute_result"
    }
   ],
   "source": [
    "nfeatures = x_train.shape[1] #num of columns\n",
    "nfeatures"
   ]
  },
  {
   "attachments": {},
   "cell_type": "markdown",
   "metadata": {
    "id": "Ue9oGrdEK-XC"
   },
   "source": [
    "* 모델 구조 설계"
   ]
  },
  {
   "cell_type": "code",
   "execution_count": 41,
   "metadata": {
    "id": "Sv7ssd_ZK-XD"
   },
   "outputs": [
    {
     "name": "stdout",
     "output_type": "stream",
     "text": [
      "Model: \"sequential\"\n",
      "_________________________________________________________________\n",
      " Layer (type)                Output Shape              Param #   \n",
      "=================================================================\n",
      " dense (Dense)               (None, 1)                 19        \n",
      "                                                                 \n",
      "=================================================================\n",
      "Total params: 19\n",
      "Trainable params: 19\n",
      "Non-trainable params: 0\n",
      "_________________________________________________________________\n"
     ]
    }
   ],
   "source": [
    "model = Sequential([ Dense(1, input_shape = (nfeatures,))  ])\n",
    "model.summary()"
   ]
  },
  {
   "attachments": {},
   "cell_type": "markdown",
   "metadata": {
    "id": "s6Qp3PM5K-XD"
   },
   "source": [
    "* 컴파일 및 학습"
   ]
  },
  {
   "cell_type": "code",
   "execution_count": 42,
   "metadata": {
    "id": "qjXrkN1KK-XE",
    "tags": []
   },
   "outputs": [
    {
     "name": "stdout",
     "output_type": "stream",
     "text": [
      "Epoch 1/30\n",
      "8/8 [==============================] - 1s 41ms/step - loss: 41.9129 - val_loss: 14.3527\n",
      "Epoch 2/30\n",
      "8/8 [==============================] - 0s 8ms/step - loss: 9.5118 - val_loss: 11.3625\n",
      "Epoch 3/30\n",
      "8/8 [==============================] - 0s 9ms/step - loss: 9.8461 - val_loss: 14.2174\n",
      "Epoch 4/30\n",
      "8/8 [==============================] - 0s 9ms/step - loss: 8.6574 - val_loss: 9.7909\n",
      "Epoch 5/30\n",
      "8/8 [==============================] - 0s 9ms/step - loss: 6.1874 - val_loss: 8.0270\n",
      "Epoch 6/30\n",
      "8/8 [==============================] - 0s 12ms/step - loss: 6.4080 - val_loss: 7.7265\n",
      "Epoch 7/30\n",
      "8/8 [==============================] - 0s 13ms/step - loss: 5.8868 - val_loss: 7.9318\n",
      "Epoch 8/30\n",
      "8/8 [==============================] - 0s 14ms/step - loss: 5.4953 - val_loss: 8.1244\n",
      "Epoch 9/30\n",
      "8/8 [==============================] - 0s 14ms/step - loss: 5.3095 - val_loss: 7.6178\n",
      "Epoch 10/30\n",
      "8/8 [==============================] - 0s 20ms/step - loss: 5.1305 - val_loss: 7.2631\n",
      "Epoch 11/30\n",
      "8/8 [==============================] - 0s 22ms/step - loss: 4.9883 - val_loss: 7.1726\n",
      "Epoch 12/30\n",
      "8/8 [==============================] - 0s 17ms/step - loss: 4.9320 - val_loss: 7.4008\n",
      "Epoch 13/30\n",
      "8/8 [==============================] - 0s 15ms/step - loss: 4.7429 - val_loss: 6.8747\n",
      "Epoch 14/30\n",
      "8/8 [==============================] - 0s 16ms/step - loss: 4.6105 - val_loss: 6.7512\n",
      "Epoch 15/30\n",
      "8/8 [==============================] - 0s 19ms/step - loss: 4.4937 - val_loss: 6.6871\n",
      "Epoch 16/30\n",
      "8/8 [==============================] - 0s 16ms/step - loss: 4.4094 - val_loss: 6.6603\n",
      "Epoch 17/30\n",
      "8/8 [==============================] - 0s 19ms/step - loss: 4.2901 - val_loss: 6.3601\n",
      "Epoch 18/30\n",
      "8/8 [==============================] - 0s 20ms/step - loss: 4.2360 - val_loss: 6.2400\n",
      "Epoch 19/30\n",
      "8/8 [==============================] - 0s 16ms/step - loss: 4.1294 - val_loss: 6.3886\n",
      "Epoch 20/30\n",
      "8/8 [==============================] - 0s 12ms/step - loss: 4.0646 - val_loss: 6.1669\n",
      "Epoch 21/30\n",
      "8/8 [==============================] - 0s 10ms/step - loss: 3.9682 - val_loss: 5.9513\n",
      "Epoch 22/30\n",
      "8/8 [==============================] - 0s 10ms/step - loss: 3.9169 - val_loss: 5.9282\n",
      "Epoch 23/30\n",
      "8/8 [==============================] - 0s 11ms/step - loss: 3.8580 - val_loss: 5.7136\n",
      "Epoch 24/30\n",
      "8/8 [==============================] - 0s 10ms/step - loss: 3.7804 - val_loss: 5.8661\n",
      "Epoch 25/30\n",
      "8/8 [==============================] - 0s 10ms/step - loss: 3.7209 - val_loss: 5.7110\n",
      "Epoch 26/30\n",
      "8/8 [==============================] - 0s 9ms/step - loss: 3.6513 - val_loss: 5.4433\n",
      "Epoch 27/30\n",
      "8/8 [==============================] - 0s 10ms/step - loss: 3.6021 - val_loss: 5.3829\n",
      "Epoch 28/30\n",
      "8/8 [==============================] - 0s 10ms/step - loss: 3.5220 - val_loss: 5.4299\n",
      "Epoch 29/30\n",
      "8/8 [==============================] - 0s 9ms/step - loss: 3.4785 - val_loss: 5.2650\n",
      "Epoch 30/30\n",
      "8/8 [==============================] - 0s 9ms/step - loss: 3.4147 - val_loss: 5.1084\n"
     ]
    }
   ],
   "source": [
    "model.compile(optimizer= Adam(learning_rate = 0.1), loss='mse')\n",
    "history = model.fit(x_train_s, y_train, epochs=30, validation_split=.2).history"
   ]
  },
  {
   "attachments": {},
   "cell_type": "markdown",
   "metadata": {
    "id": "_DyT793nK-XE"
   },
   "source": [
    "* 학습 곡선"
   ]
  },
  {
   "cell_type": "code",
   "execution_count": 43,
   "metadata": {
    "id": "faRYLza9K-XE"
   },
   "outputs": [
    {
     "data": {
      "image/png": "[encoded data removed]",
      "text/plain": [
       "<Figure size 800x500 with 1 Axes>"
      ]
     },
     "metadata": {},
     "output_type": "display_data"
    }
   ],
   "source": [
    "dl_history_plot(history)"
   ]
  },
  {
   "attachments": {},
   "cell_type": "markdown",
   "metadata": {
    "id": "DZR7uZc5K-XF"
   },
   "source": [
    "### (2) autolog"
   ]
  },
  {
   "cell_type": "code",
   "execution_count": 44,
   "metadata": {
    "id": "UAPJ09H8K-XF",
    "tags": []
   },
   "outputs": [
    {
     "name": "stdout",
     "output_type": "stream",
     "text": [
      "Epoch 1/30\n",
      "1/8 [==>...........................] - ETA: 1s - loss: 68.1509WARNING:tensorflow:Callback method `on_train_batch_end` is slow compared to the batch time (batch time: 0.0010s vs `on_train_batch_end` time: 0.0015s). Check your callbacks.\n",
      "8/8 [==============================] - 0s 23ms/step - loss: 39.9568 - val_loss: 14.4036\n",
      "Epoch 2/30\n",
      "8/8 [==============================] - 0s 8ms/step - loss: 10.5521 - val_loss: 11.7850\n",
      "Epoch 3/30\n",
      "8/8 [==============================] - 0s 9ms/step - loss: 10.9547 - val_loss: 13.6853\n",
      "Epoch 4/30\n",
      "8/8 [==============================] - 0s 7ms/step - loss: 9.0530 - val_loss: 8.9992\n",
      "Epoch 5/30\n",
      "8/8 [==============================] - 0s 7ms/step - loss: 6.6553 - val_loss: 7.8038\n",
      "Epoch 6/30\n",
      "8/8 [==============================] - 0s 8ms/step - loss: 6.5903 - val_loss: 7.4518\n",
      "Epoch 7/30\n",
      "8/8 [==============================] - 0s 6ms/step - loss: 5.8848 - val_loss: 7.5641\n",
      "Epoch 8/30\n",
      "8/8 [==============================] - 0s 8ms/step - loss: 5.5687 - val_loss: 7.6069\n",
      "Epoch 9/30\n",
      "8/8 [==============================] - 0s 6ms/step - loss: 5.3271 - val_loss: 7.2611\n",
      "Epoch 10/30\n",
      "8/8 [==============================] - 0s 8ms/step - loss: 5.0834 - val_loss: 6.8430\n",
      "Epoch 11/30\n",
      "8/8 [==============================] - 0s 6ms/step - loss: 4.9315 - val_loss: 6.8387\n",
      "Epoch 12/30\n",
      "8/8 [==============================] - 0s 6ms/step - loss: 4.7309 - val_loss: 6.6145\n",
      "Epoch 13/30\n",
      "8/8 [==============================] - 0s 7ms/step - loss: 4.6014 - val_loss: 6.5287\n",
      "Epoch 14/30\n",
      "8/8 [==============================] - 0s 7ms/step - loss: 4.4657 - val_loss: 6.4774\n",
      "Epoch 15/30\n",
      "8/8 [==============================] - 0s 8ms/step - loss: 4.3520 - val_loss: 6.2213\n",
      "Epoch 16/30\n",
      "8/8 [==============================] - 0s 6ms/step - loss: 4.2213 - val_loss: 6.1642\n",
      "Epoch 17/30\n",
      "8/8 [==============================] - 0s 9ms/step - loss: 4.1226 - val_loss: 6.1338\n",
      "Epoch 18/30\n",
      "8/8 [==============================] - 0s 6ms/step - loss: 4.0328 - val_loss: 5.9126\n",
      "Epoch 19/30\n",
      "8/8 [==============================] - 0s 7ms/step - loss: 3.9595 - val_loss: 5.7627\n",
      "Epoch 20/30\n",
      "8/8 [==============================] - 0s 7ms/step - loss: 3.8580 - val_loss: 5.7937\n",
      "Epoch 21/30\n",
      "8/8 [==============================] - 0s 8ms/step - loss: 3.7939 - val_loss: 5.7954\n",
      "Epoch 22/30\n",
      "8/8 [==============================] - 0s 8ms/step - loss: 3.7106 - val_loss: 5.5349\n",
      "Epoch 23/30\n",
      "8/8 [==============================] - 0s 6ms/step - loss: 3.6473 - val_loss: 5.3859\n",
      "Epoch 24/30\n",
      "8/8 [==============================] - 0s 6ms/step - loss: 3.6007 - val_loss: 5.4954\n",
      "Epoch 25/30\n",
      "8/8 [==============================] - 0s 6ms/step - loss: 3.5159 - val_loss: 5.3078\n",
      "Epoch 26/30\n",
      "8/8 [==============================] - 0s 5ms/step - loss: 3.4732 - val_loss: 5.2302\n",
      "Epoch 27/30\n",
      "8/8 [==============================] - 0s 7ms/step - loss: 3.4072 - val_loss: 4.9907\n",
      "Epoch 28/30\n",
      "8/8 [==============================] - 0s 6ms/step - loss: 3.3538 - val_loss: 5.1010\n",
      "Epoch 29/30\n",
      "8/8 [==============================] - 0s 10ms/step - loss: 3.3551 - val_loss: 5.1639\n",
      "Epoch 30/30\n",
      "8/8 [==============================] - 0s 8ms/step - loss: 3.2612 - val_loss: 4.7225\n",
      "1/1 [==============================] - 0s 78ms/step\n",
      "INFO:tensorflow:Assets written to: C:\\Users\\User\\AppData\\Local\\Temp\\tmpas77fqcw\\model\\data\\model\\assets\n"
     ]
    },
    {
     "name": "stderr",
     "output_type": "stream",
     "text": [
      "2023/05/18 13:41:44 WARNING mlflow.tensorflow: You are saving a TensorFlow Core model or Keras model without a signature. Inference with mlflow.pyfunc.spark_udf() will not work unless the model's pyfunc representation accepts pandas DataFrames as inference inputs.\n"
     ]
    },
    {
     "name": "stdout",
     "output_type": "stream",
     "text": [
      "INFO:tensorflow:Assets written to: C:\\Users\\User\\AppData\\Local\\Temp\\tmpxflsivhq\\model\\data\\model\\assets\n"
     ]
    },
    {
     "name": "stderr",
     "output_type": "stream",
     "text": [
      "Successfully registered model 'DL'.\n",
      "2023/05/18 13:41:54 INFO mlflow.tracking._model_registry.client: Waiting up to 300 seconds for model version to finish creation. Model name: DL, version 1\n",
      "Created version '1' of model 'DL'.\n"
     ]
    }
   ],
   "source": [
    "with mlflow.start_run(experiment_id=exp_id):\n",
    "    \n",
    "    # autolog 시작\n",
    "    mlflow.keras.autolog()\n",
    "    \n",
    "    # 모델 설계 및 컴파일\n",
    "    model = Sequential([ Dense(1, input_shape = (nfeatures,))  ])\n",
    "    model.compile(optimizer= Adam(learning_rate = 0.1), loss='mse')\n",
    "\n",
    "    # 학습\n",
    "    history = model.fit(x_train_s, y_train, epochs=30, validation_split=.2).history\n",
    "    \n",
    "    # 모델등록\n",
    "    mlflow.keras.log_model(model, \"keras-model\",  registered_model_name=\"DL\")\n",
    "    \n",
    "    # autolog 종료\n",
    "    mlflow.keras.autolog(disable = True)"
   ]
  },
  {
   "attachments": {},
   "cell_type": "markdown",
   "metadata": {
    "id": "Et9zs_DuK-XF"
   },
   "source": [
    "* 딥러닝모델에서 로깅된 내용을 확인해봅시다.\n",
    "* 어떤 정보를 더 로깅해야 할까요?"
   ]
  },
  {
   "cell_type": "code",
   "execution_count": 46,
   "metadata": {},
   "outputs": [
    {
     "name": "stdout",
     "output_type": "stream",
     "text": [
      "Epoch 1/30\n",
      "1/8 [==>...........................] - ETA: 1s - loss: 60.2693WARNING:tensorflow:Callback method `on_train_batch_end` is slow compared to the batch time (batch time: 0.0008s vs `on_train_batch_end` time: 0.0013s). Check your callbacks.\n",
      "8/8 [==============================] - 0s 21ms/step - loss: 24.6963 - val_loss: 9.6303\n",
      "Epoch 2/30\n",
      "8/8 [==============================] - 0s 7ms/step - loss: 9.3185 - val_loss: 8.5956\n",
      "Epoch 3/30\n",
      "8/8 [==============================] - 0s 8ms/step - loss: 6.6463 - val_loss: 7.1453\n",
      "Epoch 4/30\n",
      "8/8 [==============================] - 0s 6ms/step - loss: 5.2449 - val_loss: 8.5446\n",
      "Epoch 5/30\n",
      "8/8 [==============================] - 0s 10ms/step - loss: 4.5269 - val_loss: 6.1527\n",
      "Epoch 6/30\n",
      "8/8 [==============================] - 0s 5ms/step - loss: 4.4441 - val_loss: 8.1291\n",
      "Epoch 7/30\n",
      "8/8 [==============================] - 0s 7ms/step - loss: 4.3216 - val_loss: 5.5513\n",
      "Epoch 8/30\n",
      "8/8 [==============================] - 0s 6ms/step - loss: 4.0880 - val_loss: 5.4775\n",
      "Epoch 9/30\n",
      "8/8 [==============================] - 0s 8ms/step - loss: 3.6410 - val_loss: 5.7636\n",
      "Epoch 10/30\n",
      "8/8 [==============================] - 0s 6ms/step - loss: 3.2756 - val_loss: 4.6029\n",
      "Epoch 11/30\n",
      "8/8 [==============================] - 0s 8ms/step - loss: 3.0431 - val_loss: 5.4899\n",
      "Epoch 12/30\n",
      "8/8 [==============================] - 0s 6ms/step - loss: 3.1122 - val_loss: 4.1868\n",
      "Epoch 13/30\n",
      "8/8 [==============================] - 0s 8ms/step - loss: 2.6204 - val_loss: 3.6235\n",
      "Epoch 14/30\n",
      "8/8 [==============================] - 0s 7ms/step - loss: 2.4711 - val_loss: 3.1741\n",
      "Epoch 15/30\n",
      "8/8 [==============================] - 0s 10ms/step - loss: 2.1084 - val_loss: 2.7636\n",
      "Epoch 16/30\n",
      "8/8 [==============================] - 0s 8ms/step - loss: 1.8757 - val_loss: 2.3308\n",
      "Epoch 17/30\n",
      "8/8 [==============================] - 0s 11ms/step - loss: 1.6710 - val_loss: 2.0176\n",
      "Epoch 18/30\n",
      "8/8 [==============================] - 0s 8ms/step - loss: 1.5587 - val_loss: 1.8713\n",
      "Epoch 19/30\n",
      "8/8 [==============================] - 0s 11ms/step - loss: 1.3447 - val_loss: 1.4864\n",
      "Epoch 20/30\n",
      "8/8 [==============================] - 0s 8ms/step - loss: 1.1478 - val_loss: 1.3533\n",
      "Epoch 21/30\n",
      "8/8 [==============================] - 0s 8ms/step - loss: 1.0675 - val_loss: 1.4907\n",
      "Epoch 22/30\n",
      "8/8 [==============================] - 0s 10ms/step - loss: 1.0622 - val_loss: 1.2633\n",
      "Epoch 23/30\n",
      "8/8 [==============================] - 0s 8ms/step - loss: 0.9791 - val_loss: 1.3179\n",
      "Epoch 24/30\n",
      "8/8 [==============================] - 0s 11ms/step - loss: 0.9774 - val_loss: 1.4639\n",
      "Epoch 25/30\n",
      "8/8 [==============================] - 0s 8ms/step - loss: 1.3392 - val_loss: 1.3382\n",
      "Epoch 26/30\n",
      "8/8 [==============================] - 0s 11ms/step - loss: 1.3031 - val_loss: 2.3575\n",
      "Epoch 27/30\n",
      "8/8 [==============================] - 0s 12ms/step - loss: 1.4700 - val_loss: 1.3311\n",
      "Epoch 28/30\n",
      "8/8 [==============================] - 0s 12ms/step - loss: 0.9518 - val_loss: 1.2908\n",
      "Epoch 29/30\n",
      "8/8 [==============================] - 0s 14ms/step - loss: 0.8995 - val_loss: 1.3607\n",
      "Epoch 30/30\n",
      "8/8 [==============================] - 0s 16ms/step - loss: 0.9636 - val_loss: 1.3132\n",
      "1/1 [==============================] - 0s 100ms/step\n",
      "INFO:tensorflow:Assets written to: C:\\Users\\User\\AppData\\Local\\Temp\\tmpvtqs0pto\\model\\data\\model\\assets\n"
     ]
    },
    {
     "name": "stderr",
     "output_type": "stream",
     "text": [
      "2023/05/18 13:48:06 WARNING mlflow.tensorflow: You are saving a TensorFlow Core model or Keras model without a signature. Inference with mlflow.pyfunc.spark_udf() will not work unless the model's pyfunc representation accepts pandas DataFrames as inference inputs.\n"
     ]
    },
    {
     "name": "stdout",
     "output_type": "stream",
     "text": [
      "INFO:tensorflow:Assets written to: C:\\Users\\User\\AppData\\Local\\Temp\\tmp_oddwz5_\\model\\data\\model\\assets\n"
     ]
    },
    {
     "name": "stderr",
     "output_type": "stream",
     "text": [
      "Registered model 'DL' already exists. Creating a new version of this model...\n",
      "2023/05/18 13:48:21 INFO mlflow.tracking._model_registry.client: Waiting up to 300 seconds for model version to finish creation. Model name: DL, version 2\n",
      "Created version '2' of model 'DL'.\n"
     ]
    }
   ],
   "source": [
    "with mlflow.start_run(experiment_id=exp_id):\n",
    "    \n",
    "    # autolog 시작\n",
    "    mlflow.keras.autolog()\n",
    "    \n",
    "    # 모델 설계 및 컴파일\n",
    "    model2 = Sequential([ Dense(16, input_shape = (nfeatures,), activation='relu')  ])\n",
    "    model2.add(Dense(1))\n",
    "    model2.compile(optimizer= Adam(learning_rate = 0.1), loss='mse')\n",
    "\n",
    "    # 학습\n",
    "    history = model2.fit(x_train_s, y_train, epochs=30, validation_split=.2).history\n",
    "    \n",
    "    # 모델등록\n",
    "    mlflow.keras.log_model(model2, \"keras-model\",  registered_model_name=\"DL\")\n",
    "    \n",
    "    # autolog 종료\n",
    "    mlflow.keras.autolog(disable = True)"
   ]
  },
  {
   "attachments": {},
   "cell_type": "markdown",
   "metadata": {
    "id": "kZFCigmcK-XF"
   },
   "source": [
    "## 6.실습\n",
    "* 실습을 해 봅시다."
   ]
  },
  {
   "attachments": {},
   "cell_type": "markdown",
   "metadata": {
    "id": "U6-zchjMK-XG"
   },
   "source": [
    "### (1) 데이터 준비"
   ]
  },
  {
   "attachments": {},
   "cell_type": "markdown",
   "metadata": {
    "id": "ncRx1xdgK-XG"
   },
   "source": [
    "* 데이터 로딩"
   ]
  },
  {
   "cell_type": "code",
   "execution_count": null,
   "metadata": {
    "id": "a3EUxB9oK-XG"
   },
   "outputs": [],
   "source": [
    "path = 'https://raw.githubusercontent.com/DA4BAM/dataset/master/credit_all.csv'\n",
    "data = pd.read_csv(path)\n",
    "data.loc[data['Payment'] == 4, 'Payment'] = 3\n",
    "data.drop(['Telephone','ForeignWorker'], axis = 1, inplace = True)\n",
    "data.head()"
   ]
  },
  {
   "attachments": {},
   "cell_type": "markdown",
   "metadata": {
    "id": "aLjh6887K-XG"
   },
   "source": [
    "| 칼럼명 | 설명 | | 값 의미 |  \n",
    "|-----|-----|-----|-----|\n",
    "|\tCreditability\t|\tCreditability(Target)\t|\t향후 신용도\t|\t0 : Bad, 1 : Good\t|\n",
    "|\tAccountBalance\t|\tAccount Balance\t|\t은행잔고\t|\t1: No account, 2 : None (No balance), 3 : Some Balance\t|\n",
    "|\tCreditDuration\t|\tDuration of Credit (month)\t|\t신청한 대출기간(월)\t|\t숫자\t|\n",
    "|\tPayment\t|\tPayment Status of Previous Credit\t|\t과거 대출 납입 상태\t|\t0 : 연체, 1 : 기타신용, 2 : 완납, 3 : 정상 대출상환 중 |\n",
    "|\tPurpose\t|\tPurpose\t|\t신청한 대출목적\t|\t1 : New Car , 2 : Used Car , 3 : Furniture , 4 : TV , 5 : Appliances , 6 : Repair , 8 : Vacation , 9 :Retraining , 10 : Business , 0 : Other\t|\n",
    "|\tCreditAmount\t|\tCredit Amount($)\t|\t신청한 대출금액\t|\t\t|\n",
    "|\tEmployment\t|\tLength of current employment(Month)\t|\t현 직업 근무 기간\t|\t1: Unemployed,  2: <1 Year,  3: [1, 4),  4: [4, 7),  5: Above 7\t|\n",
    "|\tSexMarital\t|\tSex & Marital Status\t|\t성별 & 결혼상태\t|\t1: Male, Divorced, 2: Male, Single , 3: Male, Married/Widowed , 4: Female\t|\n",
    "|\tCurrentAddress\t|\tDuration in Current address\t|\t현 거주지 거주기간\t|\t1: <1 Year , 2: [1, 4) , 3: [4, 7) , 4: Above 7\t|\n",
    "|\tMostValuable\t|\tMost valuable available asset\t|\t가장 가치있는 자산\t|\t1: None , 2: Car , 3: Life Insurance , 4: Real Estate\t|\n",
    "|\tAge\t|\tAge (years)\t|\t나이\t|\t\t|\n",
    "|\tAppartmentType\t|\tType of apartment\t|\t주거환경\t|\t1: free apartment, 2: Rented, 3: Owned\t|\n",
    "|\tNoCredits\t|\tNo of Credits at this Bank\t|\t현재 총 대출 건수\t|\t1 : one, 2 : 2 ~ 3, 3 : 4 ~ 5, 4 : 6 ~\t|\n",
    "|\tOccupation\t|\tOccupation\t|\t직업\t|\t1: Unemployed, unskilled, 2: Unskilled Permanent Resident, 3: Skilled, 4: Executive\t|\n"
   ]
  },
  {
   "attachments": {},
   "cell_type": "markdown",
   "metadata": {
    "id": "iIpV4oEBK-XG"
   },
   "source": [
    "* x, y 나누기"
   ]
  },
  {
   "cell_type": "code",
   "execution_count": null,
   "metadata": {
    "id": "vZjHb_tYK-XH"
   },
   "outputs": [],
   "source": [
    "target = 'Creditability'\n",
    "x = data.drop(target, axis = 1)\n",
    "y = data.loc[:,target]"
   ]
  },
  {
   "attachments": {},
   "cell_type": "markdown",
   "metadata": {
    "id": "97Vu-VqlK-XH"
   },
   "source": [
    "* 가변수화"
   ]
  },
  {
   "cell_type": "code",
   "execution_count": null,
   "metadata": {
    "id": "nCwJtIgeK-XH"
   },
   "outputs": [],
   "source": [
    "dummy_vars = [ 'Payment', 'Purpose', 'SexMarital', 'MostValuableAsset']\n",
    "x = pd.get_dummies(x, columns = dummy_vars)\n",
    "x.head()"
   ]
  },
  {
   "attachments": {},
   "cell_type": "markdown",
   "metadata": {
    "id": "8VRGATU9K-XH"
   },
   "source": [
    "* train : val:test 분할"
   ]
  },
  {
   "cell_type": "code",
   "execution_count": null,
   "metadata": {
    "id": "HQ-DLO9qL2UO"
   },
   "outputs": [],
   "source": [
    "x_train, x_test, y_train, y_test = train_test_split(x, y, test_size = 20, random_state = 20)\n",
    "x_train, x_val, y_train, y_val = train_test_split(x_train, y_train, test_size = .2, random_state = 20)"
   ]
  },
  {
   "attachments": {},
   "cell_type": "markdown",
   "metadata": {
    "id": "JEj5fDPOK-XH"
   },
   "source": [
    "* 스케일링"
   ]
  },
  {
   "cell_type": "code",
   "execution_count": null,
   "metadata": {
    "id": "hN2jgtu8K-XH"
   },
   "outputs": [],
   "source": [
    "from sklearn.preprocessing import StandardScaler\n",
    "scaler = StandardScaler()\n",
    "x_train_s = scaler.fit_transform(x_train)\n",
    "x_val_s = scaler.transform(x_val)\n",
    "x_test_s = scaler.transform(x_test)\n",
    "\n",
    "x_train_s = pd.DataFrame(x_train_s, columns = list(x_train))\n",
    "x_val_s = pd.DataFrame(x_val_s, columns = list(x_train))\n",
    "x_test_s = pd.DataFrame(x_test_s, columns = list(x_train))"
   ]
  },
  {
   "attachments": {},
   "cell_type": "markdown",
   "metadata": {
    "id": "yzFPsTaZK-XH"
   },
   "source": [
    "### (2) sklearn 튜닝 모델 로깅\n",
    "* KNN, SVM, Decision Tree, RandomForest 등 알고리즘으로 모델 튜닝\n",
    "* mlflow.start_run(experiment_id = exp2, run_name = `모델링의 특성이 반영된 이름`)\n",
    "* autolog로 로깅\n",
    "* 튜닝된 모델은 수동 로깅\n",
    "    * 모델 이름 : `Credit`"
   ]
  },
  {
   "cell_type": "code",
   "execution_count": null,
   "metadata": {
    "id": "GcolawoSK-XI"
   },
   "outputs": [],
   "source": [
    "from sklearn.tree import DecisionTreeClassifier"
   ]
  },
  {
   "cell_type": "code",
   "execution_count": null,
   "metadata": {
    "id": "N1qEAIuMK-XI",
    "tags": []
   },
   "outputs": [],
   "source": []
  },
  {
   "attachments": {},
   "cell_type": "markdown",
   "metadata": {
    "id": "slwwIuqHK-XI"
   },
   "source": [
    "### (3) Keras 모델 로깅\n",
    "* mlflow.start_run(experiment_id = exp2, run_name = `모델링의 특성이 반영된 이름`)\n",
    "* autolog로 로깅\n",
    "* 튜닝된 모델은 수동 로깅\n",
    "    * 모델 이름 : `Credit`"
   ]
  },
  {
   "cell_type": "code",
   "execution_count": null,
   "metadata": {
    "id": "7U9jWhI1K-XI"
   },
   "outputs": [],
   "source": [
    "nfeatures = x_train.shape[1] #num of columns\n",
    "nfeatures"
   ]
  },
  {
   "cell_type": "code",
   "execution_count": null,
   "metadata": {
    "id": "yIldTIItK-XJ"
   },
   "outputs": [],
   "source": []
  },
  {
   "attachments": {},
   "cell_type": "markdown",
   "metadata": {
    "id": "4bfXBd0HN0iF"
   },
   "source": [
    "### (5) test 데이터 저장"
   ]
  },
  {
   "cell_type": "code",
   "execution_count": null,
   "metadata": {
    "id": "sjzNLQ4fN2m6"
   },
   "outputs": [],
   "source": [
    "import joblib\n",
    "\n",
    "joblib.dump(x_test, 'x_test.pkl')\n",
    "joblib.dump(x_test_s, 'x_test_s.pkl')\n",
    "joblib.dump(y_test, 'y_test.pkl')"
   ]
  }
 ],
 "metadata": {
  "colab": {
   "provenance": []
  },
  "kernelspec": {
   "display_name": "Python 3 (ipykernel)",
   "language": "python",
   "name": "python3"
  },
  "language_info": {
   "codemirror_mode": {
    "name": "ipython",
    "version": 3
   },
   "file_extension": ".py",
   "mimetype": "text/x-python",
   "name": "python",
   "nbconvert_exporter": "python",
   "pygments_lexer": "ipython3",
   "version": "3.10.11"
  },
  "toc-autonumbering": false
 },
 "nbformat": 4,
 "nbformat_minor": 4
}
