{
 "cells": [
  {
   "cell_type": "code",
   "execution_count": 1,
   "metadata": {},
   "outputs": [],
   "source": [
    "# 크롤링 정책\n",
    "# robots.txt : 웹페이지의 크롤링 정책 설명한 페이지 ex) www.naver.com/robots.txt, ted.com/robots.txt\n",
    "# 크롤링법 X : 과도한 크롤링으로 서비스에 영향을 주었을 경우 업무방해 혐의로 고소당할 수 있음\n",
    "# 법적문제 : 지적재산권, 서비스과부화, 데이터 사용 표준\n",
    "# API 사용 : 데이터를 가지고 있는 업체에서 데이터를 가져갈 수 있도록 하는 서비스"
   ]
  },
  {
   "cell_type": "markdown",
   "metadata": {
    "id": "apodUP-CYr3_"
   },
   "source": [
    "### Naver Rest API\n",
    "- 파파고 번역 api\n",
    "- 통합검색어 트렌드 api"
   ]
  },
  {
   "cell_type": "code",
   "execution_count": 2,
   "metadata": {},
   "outputs": [],
   "source": [
    "import pandas as pd\n",
    "import requests, json"
   ]
  },
  {
   "cell_type": "markdown",
   "metadata": {
    "id": "ZEU1PeYTYr4C"
   },
   "source": [
    "#### 0. request token 얻기\n",
    "- `https://developers.naver.com`\n",
    "- 1. Request Token 얻기 : 애플리케이션등록 -> app_key 획득\n",
    "- 2. app_key를 이용해서 데이터 가져오기"
   ]
  },
  {
   "cell_type": "code",
   "execution_count": 3,
   "metadata": {},
   "outputs": [],
   "source": [
    "CLIENT_ID, CLIENT_SECRET = 'DGJwjFI3owlSfbdd88dE', 'xbdKxxpNpE' "
   ]
  },
  {
   "cell_type": "markdown",
   "metadata": {
    "id": "Fjd55ZqEYr4D"
   },
   "source": [
    "#### 1. 파파고 번역 api\n",
    "- `https://developers.naver.com/docs/papago/`\n",
    "- 사용법\n",
    "    - `https://developers.naver.com/docs/papago/papago-nmt-api-reference.md`"
   ]
  },
  {
   "cell_type": "code",
   "execution_count": 4,
   "metadata": {},
   "outputs": [],
   "source": [
    "# 1. API 문서에서 URL 찾기\n",
    "ko_txt = '웹크롤링은 재밌습니다.'\n",
    "url = \"https://openapi.naver.com/v1/papago/n2mt\"\n",
    "headers = {\n",
    "    'Content-Type' : 'application/json',\n",
    "    'X-Naver-Client-Id' : CLIENT_ID,\n",
    "    'X-Naver-Client-Secret' : CLIENT_SECRET,\n",
    "}\n",
    "\n",
    "params = {'source' : 'ko', 'target' : 'en', 'text' : ko_txt}"
   ]
  },
  {
   "cell_type": "code",
   "execution_count": 5,
   "metadata": {},
   "outputs": [
    {
     "data": {
      "text/plain": [
       "'{\"source\": \"ko\", \"target\": \"en\", \"text\": \"\\\\uc6f9\\\\ud06c\\\\ub864\\\\ub9c1\\\\uc740 \\\\uc7ac\\\\ubc0c\\\\uc2b5\\\\ub2c8\\\\ub2e4.\"}'"
      ]
     },
     "execution_count": 5,
     "metadata": {},
     "output_type": "execute_result"
    }
   ],
   "source": [
    "json.dumps(params)"
   ]
  },
  {
   "cell_type": "code",
   "execution_count": 6,
   "metadata": {},
   "outputs": [
    {
     "data": {
      "text/plain": [
       "<Response [200]>"
      ]
     },
     "execution_count": 6,
     "metadata": {},
     "output_type": "execute_result"
    }
   ],
   "source": [
    "# 2. request(URL) > response : json(str)\n",
    "response = requests.post(url, json.dumps(params), headers=headers)\n",
    "response"
   ]
  },
  {
   "cell_type": "code",
   "execution_count": 7,
   "metadata": {},
   "outputs": [
    {
     "data": {
      "text/plain": [
       "'{\"message\":{\"result\":{\"srcLangType\":\"ko\",\"tarLangType\":\"en\",\"translatedText\":\"Web crawling is fun.\",\"engineType\":\"N2MT\",\"pivot\":null,\"dict\":null,\"tarDict\":null,\"modelVer\":\"Unknown\"},\"@type\":\"response\",\"@service\":\"naverservice.nmt.proxy\",\"@version\":\"1.0.0\"}}'"
      ]
     },
     "execution_count": 7,
     "metadata": {},
     "output_type": "execute_result"
    }
   ],
   "source": [
    "response.text"
   ]
  },
  {
   "cell_type": "code",
   "execution_count": 8,
   "metadata": {},
   "outputs": [
    {
     "data": {
      "text/plain": [
       "{'message': {'result': {'srcLangType': 'ko',\n",
       "   'tarLangType': 'en',\n",
       "   'translatedText': 'Web crawling is fun.',\n",
       "   'engineType': 'N2MT',\n",
       "   'pivot': None,\n",
       "   'dict': None,\n",
       "   'tarDict': None,\n",
       "   'modelVer': 'Unknown'},\n",
       "  '@type': 'response',\n",
       "  '@service': 'naverservice.nmt.proxy',\n",
       "  '@version': '1.0.0'}}"
      ]
     },
     "execution_count": 8,
     "metadata": {},
     "output_type": "execute_result"
    }
   ],
   "source": [
    "# 3. json(str) : en_txt\n",
    "response.json()"
   ]
  },
  {
   "cell_type": "code",
   "execution_count": 10,
   "metadata": {},
   "outputs": [
    {
     "data": {
      "text/plain": [
       "'Web crawling is fun.'"
      ]
     },
     "execution_count": 10,
     "metadata": {},
     "output_type": "execute_result"
    }
   ],
   "source": [
    "en_txt = response.json()['message']['result']['translatedText']\n",
    "en_txt"
   ]
  },
  {
   "cell_type": "code",
   "execution_count": 11,
   "metadata": {},
   "outputs": [],
   "source": [
    "# 4. Make Function\n",
    "def translate(txt, source='ko', target='en'):\n",
    "    CLIENT_ID, CLIENT_SECRET = 'DGJwjFI3owlSfbdd88dE', 'xbdKxxpNpE'\n",
    "    \n",
    "    url = \"https://openapi.naver.com/v1/papago/n2mt\"\n",
    "    headers = {\n",
    "        'Content-Type' : 'application/json',\n",
    "        'X-Naver-Client-Id' : CLIENT_ID,\n",
    "        'X-Naver-Client-Secret' : CLIENT_SECRET,\n",
    "    }\n",
    "\n",
    "    params = {'source' : source, 'target' : target, 'text' : txt}\n",
    "    \n",
    "    response = requests.post(url, json.dumps(params), headers=headers)\n",
    "    return response.json()['message']['result']['translatedText']"
   ]
  },
  {
   "cell_type": "code",
   "execution_count": 12,
   "metadata": {},
   "outputs": [
    {
     "data": {
      "text/plain": [
       "'Data Science is fun.'"
      ]
     },
     "execution_count": 12,
     "metadata": {},
     "output_type": "execute_result"
    }
   ],
   "source": [
    "translate('데이터 사이언스는 재밌습니다.')"
   ]
  },
  {
   "cell_type": "code",
   "execution_count": 14,
   "metadata": {},
   "outputs": [
    {
     "data": {
      "text/html": [
       "<div>\n",
       "<style scoped>\n",
       "    .dataframe tbody tr th:only-of-type {\n",
       "        vertical-align: middle;\n",
       "    }\n",
       "\n",
       "    .dataframe tbody tr th {\n",
       "        vertical-align: top;\n",
       "    }\n",
       "\n",
       "    .dataframe thead th {\n",
       "        text-align: right;\n",
       "    }\n",
       "</style>\n",
       "<table border=\"1\" class=\"dataframe\">\n",
       "  <thead>\n",
       "    <tr style=\"text-align: right;\">\n",
       "      <th></th>\n",
       "      <th>id</th>\n",
       "      <th>title</th>\n",
       "    </tr>\n",
       "  </thead>\n",
       "  <tbody>\n",
       "    <tr>\n",
       "      <th>0</th>\n",
       "      <td>A</td>\n",
       "      <td>인공지능 스쿨 화이팅</td>\n",
       "    </tr>\n",
       "    <tr>\n",
       "      <th>1</th>\n",
       "      <td>B</td>\n",
       "      <td>데이터 크롤링</td>\n",
       "    </tr>\n",
       "  </tbody>\n",
       "</table>\n",
       "</div>"
      ],
      "text/plain": [
       "  id        title\n",
       "0  A  인공지능 스쿨 화이팅\n",
       "1  B      데이터 크롤링"
      ]
     },
     "execution_count": 14,
     "metadata": {},
     "output_type": "execute_result"
    }
   ],
   "source": [
    "df = pd.DataFrame({\n",
    "    'id' : list('AB'),\n",
    "    'title' : ['인공지능 스쿨 화이팅', '데이터 크롤링'],\n",
    "})\n",
    "\n",
    "df"
   ]
  },
  {
   "cell_type": "code",
   "execution_count": 17,
   "metadata": {},
   "outputs": [
    {
     "data": {
      "text/html": [
       "<div>\n",
       "<style scoped>\n",
       "    .dataframe tbody tr th:only-of-type {\n",
       "        vertical-align: middle;\n",
       "    }\n",
       "\n",
       "    .dataframe tbody tr th {\n",
       "        vertical-align: top;\n",
       "    }\n",
       "\n",
       "    .dataframe thead th {\n",
       "        text-align: right;\n",
       "    }\n",
       "</style>\n",
       "<table border=\"1\" class=\"dataframe\">\n",
       "  <thead>\n",
       "    <tr style=\"text-align: right;\">\n",
       "      <th></th>\n",
       "      <th>id</th>\n",
       "      <th>title</th>\n",
       "      <th>en_title</th>\n",
       "    </tr>\n",
       "  </thead>\n",
       "  <tbody>\n",
       "    <tr>\n",
       "      <th>0</th>\n",
       "      <td>A</td>\n",
       "      <td>인공지능 스쿨 화이팅</td>\n",
       "      <td>AI school, fighting!</td>\n",
       "    </tr>\n",
       "    <tr>\n",
       "      <th>1</th>\n",
       "      <td>B</td>\n",
       "      <td>데이터 크롤링</td>\n",
       "      <td>Crawling data</td>\n",
       "    </tr>\n",
       "  </tbody>\n",
       "</table>\n",
       "</div>"
      ],
      "text/plain": [
       "  id        title              en_title\n",
       "0  A  인공지능 스쿨 화이팅  AI school, fighting!\n",
       "1  B      데이터 크롤링         Crawling data"
      ]
     },
     "execution_count": 17,
     "metadata": {},
     "output_type": "execute_result"
    }
   ],
   "source": [
    "df['en_title'] = df['title'].apply(translate)\n",
    "df"
   ]
  },
  {
   "cell_type": "code",
   "execution_count": 19,
   "metadata": {},
   "outputs": [],
   "source": [
    "df.to_excel('en_title.xlsx', index=False, encoding='utf-8-sig')"
   ]
  },
  {
   "cell_type": "markdown",
   "metadata": {
    "id": "gEKpR7ibYr4G"
   },
   "source": [
    "#### 2. 통합검색어 트렌드 api\n",
    "- 서비스 : `https://datalab.naver.com/keyword/trendSearch.naver`\n",
    "- 내 애플리케이션 > dss 애플리케이션 > API 설정 > 데이터랩(검색어 트렌드) 추가\n",
    "- 사용법 : `https://developers.naver.com/docs/serviceapi/datalab/search/search.md#통합-검색어-트렌드`"
   ]
  },
  {
   "cell_type": "code",
   "execution_count": 21,
   "metadata": {},
   "outputs": [
    {
     "name": "stdout",
     "output_type": "stream",
     "text": [
      "Variable        Type         Data/Info\n",
      "--------------------------------------\n",
      "CLIENT_ID       str          DGJwjFI3owlSfbdd88dE\n",
      "CLIENT_SECRET   str          xbdKxxpNpE\n",
      "df              DataFrame      id        title        <...>크롤링         Crawling data\n",
      "en_txt          str          Web crawling is fun.\n",
      "headers         dict         n=3\n",
      "json            module       <module 'json' from 'c:\\\\<...>\\lib\\\\json\\\\__init__.py'>\n",
      "ko_txt          str          웹크롤링은 재밌습니다.\n",
      "params          dict         n=3\n",
      "pd              module       <module 'pandas' from 'c:<...>es\\\\pandas\\\\__init__.py'>\n",
      "requests        module       <module 'requests' from '<...>\\\\requests\\\\__init__.py'>\n",
      "response        Response     <Response [200]>\n",
      "translate       function     <function translate at 0x000001D596048048>\n",
      "url             str          https://openapi.naver.com/v1/papago/n2mt\n"
     ]
    }
   ],
   "source": [
    "%whos # %reset 하면 변수 초기화"
   ]
  },
  {
   "cell_type": "code",
   "execution_count": 20,
   "metadata": {},
   "outputs": [],
   "source": [
    "CLIENT_ID, CLIENT_SECRET = 'DGJwjFI3owlSfbdd88dE', 'xbdKxxpNpE' "
   ]
  },
  {
   "cell_type": "code",
   "execution_count": 22,
   "metadata": {},
   "outputs": [],
   "source": [
    "# 1. API 문서 : URL\n",
    "url = 'https://openapi.naver.com/v1/datalab/search'\n",
    "params = {\n",
    "    'startDate' : '2018-01-01',\n",
    "    'endDate' : '2023-02-16',\n",
    "    'timeUnit' : 'month',\n",
    "    'keywordGroups' : [\n",
    "        {'groupName' : '트위터', 'keywords' : ['트위터', '트윗']},\n",
    "        {'groupName' : '페이스북', 'keywords' : ['페이스북', '페북']},\n",
    "        {'groupName' : '인스타그램', 'keywords' : ['트위터', '인스타']},\n",
    "    ]\n",
    "}"
   ]
  },
  {
   "cell_type": "code",
   "execution_count": 23,
   "metadata": {},
   "outputs": [],
   "source": [
    "headers = {\n",
    "    'Content-Type' : 'application/json',\n",
    "    'X-Naver-Client-Id' : CLIENT_ID,\n",
    "    'X-Naver-Client-Secret' : CLIENT_SECRET,\n",
    "}"
   ]
  },
  {
   "cell_type": "code",
   "execution_count": 24,
   "metadata": {},
   "outputs": [
    {
     "data": {
      "text/plain": [
       "<Response [200]>"
      ]
     },
     "execution_count": 24,
     "metadata": {},
     "output_type": "execute_result"
    }
   ],
   "source": [
    "# 2. request(URL) > response : json(str)\n",
    "response = requests.post(url, json.dumps(params), headers=headers)\n",
    "response"
   ]
  },
  {
   "cell_type": "code",
   "execution_count": 29,
   "metadata": {},
   "outputs": [
    {
     "data": {
      "text/plain": [
       "list"
      ]
     },
     "execution_count": 29,
     "metadata": {},
     "output_type": "execute_result"
    }
   ],
   "source": [
    "# 3. json(str) > list, dict > DataFrame\n",
    "results = response.json()['results']\n",
    "type(results)"
   ]
  },
  {
   "cell_type": "code",
   "execution_count": 40,
   "metadata": {},
   "outputs": [],
   "source": [
    "# columns : period, ratio, title\n",
    "dfs = []\n",
    "for result in results:\n",
    "    df = pd.DataFrame(result['data'])\n",
    "    df['title'] = result['title']\n",
    "    dfs.append(df)"
   ]
  },
  {
   "cell_type": "code",
   "execution_count": 41,
   "metadata": {},
   "outputs": [
    {
     "data": {
      "text/html": [
       "<div>\n",
       "<style scoped>\n",
       "    .dataframe tbody tr th:only-of-type {\n",
       "        vertical-align: middle;\n",
       "    }\n",
       "\n",
       "    .dataframe tbody tr th {\n",
       "        vertical-align: top;\n",
       "    }\n",
       "\n",
       "    .dataframe thead th {\n",
       "        text-align: right;\n",
       "    }\n",
       "</style>\n",
       "<table border=\"1\" class=\"dataframe\">\n",
       "  <thead>\n",
       "    <tr style=\"text-align: right;\">\n",
       "      <th></th>\n",
       "      <th>period</th>\n",
       "      <th>ratio</th>\n",
       "      <th>title</th>\n",
       "    </tr>\n",
       "  </thead>\n",
       "  <tbody>\n",
       "    <tr>\n",
       "      <th>0</th>\n",
       "      <td>2018-01-01</td>\n",
       "      <td>17.23756</td>\n",
       "      <td>인스타그램</td>\n",
       "    </tr>\n",
       "    <tr>\n",
       "      <th>1</th>\n",
       "      <td>2018-02-01</td>\n",
       "      <td>15.56972</td>\n",
       "      <td>인스타그램</td>\n",
       "    </tr>\n",
       "    <tr>\n",
       "      <th>2</th>\n",
       "      <td>2018-03-01</td>\n",
       "      <td>15.89367</td>\n",
       "      <td>인스타그램</td>\n",
       "    </tr>\n",
       "    <tr>\n",
       "      <th>3</th>\n",
       "      <td>2018-04-01</td>\n",
       "      <td>16.08259</td>\n",
       "      <td>인스타그램</td>\n",
       "    </tr>\n",
       "    <tr>\n",
       "      <th>4</th>\n",
       "      <td>2018-05-01</td>\n",
       "      <td>16.29639</td>\n",
       "      <td>인스타그램</td>\n",
       "    </tr>\n",
       "    <tr>\n",
       "      <th>...</th>\n",
       "      <td>...</td>\n",
       "      <td>...</td>\n",
       "      <td>...</td>\n",
       "    </tr>\n",
       "    <tr>\n",
       "      <th>57</th>\n",
       "      <td>2022-10-01</td>\n",
       "      <td>32.86715</td>\n",
       "      <td>인스타그램</td>\n",
       "    </tr>\n",
       "    <tr>\n",
       "      <th>58</th>\n",
       "      <td>2022-11-01</td>\n",
       "      <td>30.52275</td>\n",
       "      <td>인스타그램</td>\n",
       "    </tr>\n",
       "    <tr>\n",
       "      <th>59</th>\n",
       "      <td>2022-12-01</td>\n",
       "      <td>30.16556</td>\n",
       "      <td>인스타그램</td>\n",
       "    </tr>\n",
       "    <tr>\n",
       "      <th>60</th>\n",
       "      <td>2023-01-01</td>\n",
       "      <td>31.27293</td>\n",
       "      <td>인스타그램</td>\n",
       "    </tr>\n",
       "    <tr>\n",
       "      <th>61</th>\n",
       "      <td>2023-02-01</td>\n",
       "      <td>16.00833</td>\n",
       "      <td>인스타그램</td>\n",
       "    </tr>\n",
       "  </tbody>\n",
       "</table>\n",
       "<p>62 rows × 3 columns</p>\n",
       "</div>"
      ],
      "text/plain": [
       "        period     ratio  title\n",
       "0   2018-01-01  17.23756  인스타그램\n",
       "1   2018-02-01  15.56972  인스타그램\n",
       "2   2018-03-01  15.89367  인스타그램\n",
       "3   2018-04-01  16.08259  인스타그램\n",
       "4   2018-05-01  16.29639  인스타그램\n",
       "..         ...       ...    ...\n",
       "57  2022-10-01  32.86715  인스타그램\n",
       "58  2022-11-01  30.52275  인스타그램\n",
       "59  2022-12-01  30.16556  인스타그램\n",
       "60  2023-01-01  31.27293  인스타그램\n",
       "61  2023-02-01  16.00833  인스타그램\n",
       "\n",
       "[62 rows x 3 columns]"
      ]
     },
     "execution_count": 41,
     "metadata": {},
     "output_type": "execute_result"
    }
   ],
   "source": [
    "dfs[2]"
   ]
  },
  {
   "cell_type": "code",
   "execution_count": 43,
   "metadata": {},
   "outputs": [
    {
     "data": {
      "text/html": [
       "<div>\n",
       "<style scoped>\n",
       "    .dataframe tbody tr th:only-of-type {\n",
       "        vertical-align: middle;\n",
       "    }\n",
       "\n",
       "    .dataframe tbody tr th {\n",
       "        vertical-align: top;\n",
       "    }\n",
       "\n",
       "    .dataframe thead th {\n",
       "        text-align: right;\n",
       "    }\n",
       "</style>\n",
       "<table border=\"1\" class=\"dataframe\">\n",
       "  <thead>\n",
       "    <tr style=\"text-align: right;\">\n",
       "      <th></th>\n",
       "      <th>period</th>\n",
       "      <th>ratio</th>\n",
       "      <th>title</th>\n",
       "    </tr>\n",
       "  </thead>\n",
       "  <tbody>\n",
       "    <tr>\n",
       "      <th>0</th>\n",
       "      <td>2018-01-01</td>\n",
       "      <td>14.59502</td>\n",
       "      <td>트위터</td>\n",
       "    </tr>\n",
       "    <tr>\n",
       "      <th>1</th>\n",
       "      <td>2018-02-01</td>\n",
       "      <td>13.02380</td>\n",
       "      <td>트위터</td>\n",
       "    </tr>\n",
       "    <tr>\n",
       "      <th>2</th>\n",
       "      <td>2018-03-01</td>\n",
       "      <td>12.97953</td>\n",
       "      <td>트위터</td>\n",
       "    </tr>\n",
       "    <tr>\n",
       "      <th>3</th>\n",
       "      <td>2018-04-01</td>\n",
       "      <td>12.82991</td>\n",
       "      <td>트위터</td>\n",
       "    </tr>\n",
       "    <tr>\n",
       "      <th>4</th>\n",
       "      <td>2018-05-01</td>\n",
       "      <td>13.05391</td>\n",
       "      <td>트위터</td>\n",
       "    </tr>\n",
       "    <tr>\n",
       "      <th>...</th>\n",
       "      <td>...</td>\n",
       "      <td>...</td>\n",
       "      <td>...</td>\n",
       "    </tr>\n",
       "    <tr>\n",
       "      <th>181</th>\n",
       "      <td>2022-10-01</td>\n",
       "      <td>32.86715</td>\n",
       "      <td>인스타그램</td>\n",
       "    </tr>\n",
       "    <tr>\n",
       "      <th>182</th>\n",
       "      <td>2022-11-01</td>\n",
       "      <td>30.52275</td>\n",
       "      <td>인스타그램</td>\n",
       "    </tr>\n",
       "    <tr>\n",
       "      <th>183</th>\n",
       "      <td>2022-12-01</td>\n",
       "      <td>30.16556</td>\n",
       "      <td>인스타그램</td>\n",
       "    </tr>\n",
       "    <tr>\n",
       "      <th>184</th>\n",
       "      <td>2023-01-01</td>\n",
       "      <td>31.27293</td>\n",
       "      <td>인스타그램</td>\n",
       "    </tr>\n",
       "    <tr>\n",
       "      <th>185</th>\n",
       "      <td>2023-02-01</td>\n",
       "      <td>16.00833</td>\n",
       "      <td>인스타그램</td>\n",
       "    </tr>\n",
       "  </tbody>\n",
       "</table>\n",
       "<p>186 rows × 3 columns</p>\n",
       "</div>"
      ],
      "text/plain": [
       "         period     ratio  title\n",
       "0    2018-01-01  14.59502    트위터\n",
       "1    2018-02-01  13.02380    트위터\n",
       "2    2018-03-01  12.97953    트위터\n",
       "3    2018-04-01  12.82991    트위터\n",
       "4    2018-05-01  13.05391    트위터\n",
       "..          ...       ...    ...\n",
       "181  2022-10-01  32.86715  인스타그램\n",
       "182  2022-11-01  30.52275  인스타그램\n",
       "183  2022-12-01  30.16556  인스타그램\n",
       "184  2023-01-01  31.27293  인스타그램\n",
       "185  2023-02-01  16.00833  인스타그램\n",
       "\n",
       "[186 rows x 3 columns]"
      ]
     },
     "execution_count": 43,
     "metadata": {},
     "output_type": "execute_result"
    }
   ],
   "source": [
    "result_df = pd.concat(dfs, ignore_index=True)\n",
    "result_df"
   ]
  },
  {
   "cell_type": "code",
   "execution_count": 48,
   "metadata": {},
   "outputs": [],
   "source": [
    "# column : title(twitter, facebook, instagram) \n",
    "# index : period\n",
    "# value : ratio\n",
    "\n",
    "pivot_df = result_df.pivot('period', 'title', 'ratio')"
   ]
  },
  {
   "cell_type": "code",
   "execution_count": 51,
   "metadata": {},
   "outputs": [
    {
     "data": {
      "text/html": [
       "<div>\n",
       "<style scoped>\n",
       "    .dataframe tbody tr th:only-of-type {\n",
       "        vertical-align: middle;\n",
       "    }\n",
       "\n",
       "    .dataframe tbody tr th {\n",
       "        vertical-align: top;\n",
       "    }\n",
       "\n",
       "    .dataframe thead th {\n",
       "        text-align: right;\n",
       "    }\n",
       "</style>\n",
       "<table border=\"1\" class=\"dataframe\">\n",
       "  <thead>\n",
       "    <tr style=\"text-align: right;\">\n",
       "      <th></th>\n",
       "      <th>instagram</th>\n",
       "      <th>twitter</th>\n",
       "      <th>facebook</th>\n",
       "    </tr>\n",
       "    <tr>\n",
       "      <th>period</th>\n",
       "      <th></th>\n",
       "      <th></th>\n",
       "      <th></th>\n",
       "    </tr>\n",
       "  </thead>\n",
       "  <tbody>\n",
       "    <tr>\n",
       "      <th>2023-01-01</th>\n",
       "      <td>31.27293</td>\n",
       "      <td>26.64944</td>\n",
       "      <td>14.87866</td>\n",
       "    </tr>\n",
       "    <tr>\n",
       "      <th>2023-02-01</th>\n",
       "      <td>16.00833</td>\n",
       "      <td>13.56007</td>\n",
       "      <td>7.00545</td>\n",
       "    </tr>\n",
       "  </tbody>\n",
       "</table>\n",
       "</div>"
      ],
      "text/plain": [
       "            instagram   twitter  facebook\n",
       "period                                   \n",
       "2023-01-01   31.27293  26.64944  14.87866\n",
       "2023-02-01   16.00833  13.56007   7.00545"
      ]
     },
     "execution_count": 51,
     "metadata": {},
     "output_type": "execute_result"
    }
   ],
   "source": [
    "# update : 데이터선택 = 수정할데이터\n",
    "pivot_df.columns = ['instagram', 'twitter', 'facebook']\n",
    "pivot_df.tail(2)"
   ]
  },
  {
   "cell_type": "code",
   "execution_count": 53,
   "metadata": {},
   "outputs": [],
   "source": [
    "import matplotlib.pyplot as plt"
   ]
  },
  {
   "cell_type": "code",
   "execution_count": 55,
   "metadata": {},
   "outputs": [],
   "source": [
    "%config InlineBackend.figure_formats = {'png', 'retina'} # plot 선명하게"
   ]
  },
  {
   "cell_type": "code",
   "execution_count": 56,
   "metadata": {},
   "outputs": [
    {
     "data": {
      "image/png": "[encoded data removed]",
      "text/plain": [
       "<Figure size 2000x500 with 1 Axes>"
      ]
     },
     "metadata": {
      "image/png": {
       "height": 448,
       "width": 1606
      }
     },
     "output_type": "display_data"
    }
   ],
   "source": [
    "pivot_df[:-1].plot(figsize=(20, 5))\n",
    "plt.show()"
   ]
  },
  {
   "cell_type": "code",
   "execution_count": null,
   "metadata": {},
   "outputs": [],
   "source": []
  },
  {
   "cell_type": "code",
   "execution_count": null,
   "metadata": {},
   "outputs": [],
   "source": []
  }
 ],
 "metadata": {
  "colab": {
   "name": "03_naver_api.ipynb",
   "provenance": []
  },
  "kernelspec": {
   "display_name": "aivle",
   "language": "python",
   "name": "python3"
  },
  "language_info": {
   "codemirror_mode": {
    "name": "ipython",
    "version": 3
   },
   "file_extension": ".py",
   "mimetype": "text/x-python",
   "name": "python",
   "nbconvert_exporter": "python",
   "pygments_lexer": "ipython3",
   "version": "3.7.12"
  },
  "toc": {
   "base_numbering": 1,
   "nav_menu": {},
   "number_sections": false,
   "sideBar": true,
   "skip_h1_title": false,
   "title_cell": "Table of Contents",
   "title_sidebar": "Contents",
   "toc_cell": false,
   "toc_position": {},
   "toc_section_display": true,
   "toc_window_display": false
  },
  "vscode": {
   "interpreter": {
    "hash": "9676231af8a8b40e18afff2eb530987aa2ea69eb5abd161b4e84bd9287972a9b"
   }
  }
 },
 "nbformat": 4,
 "nbformat_minor": 1
}
