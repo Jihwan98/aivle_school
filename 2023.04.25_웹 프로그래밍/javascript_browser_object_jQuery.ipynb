{
 "cells": [
  {
   "cell_type": "markdown",
   "id": "fa274ff8",
   "metadata": {},
   "source": [
    "## 웹 브라우져 객체\n",
    "- window : 전역객체 : 모든 전역 변수를 저장하는 객체\n",
    "- location : URL 데이터를 저장하는 객체\n",
    "- document : 현재 페이지에 대한 문서 정보를 저장하는 객체"
   ]
  },
  {
   "cell_type": "markdown",
   "id": "56108b34",
   "metadata": {},
   "source": [
    "## javascript를 이용한 element 선택\n",
    "- 아이디\n",
    "- 클래스\n",
    "- 속성값\n",
    "- 태그\n",
    "- 셀렉터 : document.querySelector()"
   ]
  },
  {
   "cell_type": "code",
   "execution_count": 5,
   "id": "5ef0deb9",
   "metadata": {
    "ExecuteTime": {
     "end_time": "2023-04-26T06:53:11.492151Z",
     "start_time": "2023-04-26T06:53:11.477187Z"
    }
   },
   "outputs": [
    {
     "data": {
      "text/html": [
       "<p class='kt-txt'>KT Javascript!</p>\n",
       "<script>\n",
       "    var element = document.querySelector('.kt-txt');\n",
       "    console.log(element)\n",
       "</script>\n"
      ],
      "text/plain": [
       "<IPython.core.display.HTML object>"
      ]
     },
     "metadata": {},
     "output_type": "display_data"
    }
   ],
   "source": [
    "%%html\n",
    "<p class='kt-txt'>KT Javascript!</p>\n",
    "<script>\n",
    "    var element = document.querySelector('.kt-txt');\n",
    "    console.log(element)\n",
    "</script>"
   ]
  },
  {
   "cell_type": "markdown",
   "id": "b62af034",
   "metadata": {},
   "source": [
    "## jQuery\n",
    "- javascript의 객체 선택과 기능들을 쉽게 사용할 수 있도록 제공하는 프레임워크\n",
    "- 장점\n",
    "    - 이벤트 핸들링 편리 : 클릭, 포커스, 숨기기 ...\n",
    "    - Dom(document) 수정 편리\n",
    "    - Ajax 통신 편리"
   ]
  },
  {
   "cell_type": "code",
   "execution_count": 7,
   "id": "d7d04d94",
   "metadata": {
    "ExecuteTime": {
     "end_time": "2023-04-26T07:01:22.294512Z",
     "start_time": "2023-04-26T07:01:22.282567Z"
    }
   },
   "outputs": [
    {
     "data": {
      "text/html": [
       "<button class='kt-btn'>click</button>\n",
       "<script>\n",
       "    var obj = document.querySelector('.kt-btn')\n",
       "    obj.addEventListener('click', function(){\n",
       "        alert('KT');\n",
       "    })\n",
       "</script>\n"
      ],
      "text/plain": [
       "<IPython.core.display.HTML object>"
      ]
     },
     "metadata": {},
     "output_type": "display_data"
    }
   ],
   "source": [
    "%%html\n",
    "<button class='kt-btn'>click</button>\n",
    "<script>\n",
    "    var obj = document.querySelector('.kt-btn')\n",
    "    obj.addEventListener('click', function(){\n",
    "        alert('KT');\n",
    "    })\n",
    "</script>"
   ]
  },
  {
   "cell_type": "code",
   "execution_count": 8,
   "id": "6d8feed1",
   "metadata": {
    "ExecuteTime": {
     "end_time": "2023-04-26T07:06:08.147076Z",
     "start_time": "2023-04-26T07:06:08.132074Z"
    }
   },
   "outputs": [
    {
     "data": {
      "text/html": [
       "<button class='kt-btn'>click</button>\n",
       "<script src='https://cdnjs.cloudflare.com/ajax/libs/jquery/3.6.4/jquery.min.js'></script>\n",
       "<script>\n",
       "    $('.kt-btn').on('click', function(){\n",
       "        alert('KT');\n",
       "    })\n",
       "</script>\n"
      ],
      "text/plain": [
       "<IPython.core.display.HTML object>"
      ]
     },
     "metadata": {},
     "output_type": "display_data"
    }
   ],
   "source": [
    "%%html\n",
    "<button class='kt-btn'>click</button>\n",
    "<script src='https://cdnjs.cloudflare.com/ajax/libs/jquery/3.6.4/jquery.min.js'></script>\n",
    "<script>\n",
    "    $('.kt-btn').on('click', function(){\n",
    "        alert('KT');\n",
    "    })\n",
    "</script>"
   ]
  },
  {
   "cell_type": "code",
   "execution_count": 12,
   "id": "4d70ff8e",
   "metadata": {
    "ExecuteTime": {
     "end_time": "2023-04-26T07:09:56.001827Z",
     "start_time": "2023-04-26T07:09:55.990345Z"
    }
   },
   "outputs": [
    {
     "data": {
      "text/html": [
       "<p class='kt-txt'>KT</p>\n",
       "<button class='kt-btn1'>hide</button>\n",
       "<button class='kt-btn2'>show</button>\n",
       "<script src='https://cdnjs.cloudflare.com/ajax/libs/jquery/3.6.4/jquery.min.js'></script>\n",
       "<script>\n",
       "    $('.kt-btn1').on('click', function(){\n",
       "        // alert('KT');\n",
       "        // $('.kt-btn').text('KT');\n",
       "        $('.kt-txt').hide(1000);\n",
       "    })\n",
       "    $('.kt-btn2').on('click', function(){\n",
       "        // alert('KT');\n",
       "        // $('.kt-btn').text('KT');\n",
       "        $('.kt-txt').show(1000);\n",
       "        \n",
       "    })\n",
       "</script>\n"
      ],
      "text/plain": [
       "<IPython.core.display.HTML object>"
      ]
     },
     "metadata": {},
     "output_type": "display_data"
    }
   ],
   "source": [
    "%%html\n",
    "<p class='kt-txt'>KT</p>\n",
    "<button class='kt-btn1'>hide</button>\n",
    "<button class='kt-btn2'>show</button>\n",
    "<script src='https://cdnjs.cloudflare.com/ajax/libs/jquery/3.6.4/jquery.min.js'></script>\n",
    "<script>\n",
    "    $('.kt-btn1').on('click', function(){\n",
    "        // alert('KT');\n",
    "        // $('.kt-btn').text('KT');\n",
    "        $('.kt-txt').hide(1000);\n",
    "    })\n",
    "    $('.kt-btn2').on('click', function(){\n",
    "        $('.kt-txt').show(1000);        \n",
    "    })\n",
    "</script>"
   ]
  },
  {
   "cell_type": "code",
   "execution_count": 15,
   "id": "7ece320e",
   "metadata": {
    "ExecuteTime": {
     "end_time": "2023-04-26T07:19:29.282516Z",
     "start_time": "2023-04-26T07:19:29.261516Z"
    }
   },
   "outputs": [
    {
     "data": {
      "text/html": [
       "<input type='text' class='addr' value='논현동'>\n",
       "<button class='addr-btn'>Search</button>\n",
       "<script src='https://cdnjs.cloudflare.com/ajax/libs/jquery/3.6.4/jquery.min.js'></script>\n",
       "<script>\n",
       "    $('.addr-btn').on('click', function(){\n",
       "        var addr = $('.addr').val();\n",
       "        var url = 'https://apis.zigbang.com/v2/search?leaseYn=N&q=' + addr + '&serviceType=원룸';\n",
       "        $.getJSON(url, function(response){\n",
       "            console.log(response);\n",
       "        })\n",
       "    })\n",
       "</script>\n"
      ],
      "text/plain": [
       "<IPython.core.display.HTML object>"
      ]
     },
     "metadata": {},
     "output_type": "display_data"
    }
   ],
   "source": [
    "%%html\n",
    "<input type='text' class='addr' value='논현동'>\n",
    "<button class='addr-btn'>Search</button>\n",
    "<script src='https://cdnjs.cloudflare.com/ajax/libs/jquery/3.6.4/jquery.min.js'></script>\n",
    "<script>\n",
    "    $('.addr-btn').on('click', function(){\n",
    "        var addr = $('.addr').val();\n",
    "        var url = 'https://apis.zigbang.com/v2/search?leaseYn=N&q=' + addr + '&serviceType=원룸';\n",
    "        $.getJSON(url, function(response){\n",
    "            console.log(response);\n",
    "        })\n",
    "    })\n",
    "</script>"
   ]
  },
  {
   "cell_type": "code",
   "execution_count": null,
   "id": "ac5caa24",
   "metadata": {},
   "outputs": [],
   "source": []
  },
  {
   "cell_type": "code",
   "execution_count": null,
   "id": "cf65edc1",
   "metadata": {},
   "outputs": [],
   "source": []
  },
  {
   "cell_type": "code",
   "execution_count": null,
   "id": "6eab2892",
   "metadata": {},
   "outputs": [],
   "source": []
  }
 ],
 "metadata": {
  "kernelspec": {
   "display_name": "Python 3 (ipykernel)",
   "language": "python",
   "name": "python3"
  },
  "language_info": {
   "codemirror_mode": {
    "name": "ipython",
    "version": 3
   },
   "file_extension": ".py",
   "mimetype": "text/x-python",
   "name": "python",
   "nbconvert_exporter": "python",
   "pygments_lexer": "ipython3",
   "version": "3.9.16"
  },
  "toc": {
   "base_numbering": 1,
   "nav_menu": {},
   "number_sections": false,
   "sideBar": true,
   "skip_h1_title": false,
   "title_cell": "Table of Contents",
   "title_sidebar": "Contents",
   "toc_cell": false,
   "toc_position": {},
   "toc_section_display": true,
   "toc_window_display": false
  }
 },
 "nbformat": 4,
 "nbformat_minor": 5
}
