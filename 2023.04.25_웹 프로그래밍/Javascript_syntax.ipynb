{
 "cells": [
  {
   "cell_type": "markdown",
   "id": "74d4cc08",
   "metadata": {},
   "source": [
    "# Javascript\n",
    "- 사용목적 : CPU, RAM, SSD(HDD) 자원을 활용\n",
    "1. 변수 선언 : RAM 사용 분법 : RAM 저장공간을 만들어 데이터 저장\n",
    "2. 데이터타입 : RAM 효율적 사용 문법\n",
    "3. 연산자 : CPU 사용 문법 : 산술, 비교, 논리, 할당, 삼항\n",
    "4. 조건문 : 조건에 따라서 다른 코드를 실행\n",
    "5. 반복문 : 특정 코드를 반복적으로 실행\n",
    "6. 함수 : 중복코드를 묶어서 코드 작성 실행 > 코드 유지보수 향상\n",
    "7. 객체 : 식별자 1개로 여러개의 데이터 저장(컬렉션 데이터 타입), 변수, 함수를 묶어서 코드 작성(클래스) 문법"
   ]
  },
  {
   "cell_type": "markdown",
   "id": "33967bae",
   "metadata": {},
   "source": [
    "# 개요\n",
    "- 웹 브라우져에서 동작되는 동적으로 페이지를 수정하고 이벤트 처리 언어\n",
    "- 인터프리터, 동적타이핑, 객체지향\n",
    "    - 코드작성(문자열) > 컴파일러 > 컴퓨터(이진수)\n",
    "    - 컴파일러 동작 방식\n",
    "        - 컴파일러 언어 : 속도 빠름, 코드 실행전에 빌드(컴파일)과정 필요, 문법 어려움\n",
    "        - 인터프리터 언어 : 속도 느림, 코드 실행전에 빌드과정 불필요, 문법 쉬움\n",
    "- ECMA Script : ECMA5, ECMA6, ECMA8 "
   ]
  },
  {
   "cell_type": "markdown",
   "id": "a3880be7",
   "metadata": {},
   "source": [
    "## 1. 변수선언 : variable\n",
    "- 식별자 : 메모리의 저장공간을 구별하는 문자열\n",
    "- 식별자규칙\n",
    "    - 문법\n",
    "        - 대소문자, 숫자, `_`, `$` 사용\n",
    "        - 숫자 가장 앞에 X\n",
    "        - 예약어 사용 X\n",
    "    - 컨벤션\n",
    "        - 상수 : UPPER_SNAKE_CASE\n",
    "        - 변수, 함수 : camelCase\n",
    "        - 모듈 : PascalCase, UpperCamelCase"
   ]
  },
  {
   "cell_type": "code",
   "execution_count": 3,
   "id": "ad533b68",
   "metadata": {
    "ExecuteTime": {
     "end_time": "2023-04-26T02:26:04.104080Z",
     "start_time": "2023-04-26T02:26:04.098Z"
    }
   },
   "outputs": [],
   "source": [
    "// 식별자 1개, 데이터 1개\n",
    "var data1 = 10;\n",
    "\n",
    "// 식별자 n개, 데이터 n개\n",
    "var data2 = 20, data3 = 30;\n",
    "var data2 = 20, \n",
    "    data3 = 30;\n",
    "\n",
    "// 식별자 n개, 데이터 1개\n",
    "var data4 = data5 = 40;"
   ]
  },
  {
   "cell_type": "code",
   "execution_count": 4,
   "id": "008adbcb",
   "metadata": {
    "ExecuteTime": {
     "end_time": "2023-04-26T02:26:04.313602Z",
     "start_time": "2023-04-26T02:26:04.307Z"
    }
   },
   "outputs": [
    {
     "name": "stdout",
     "output_type": "stream",
     "text": [
      "10 20 30 40\n"
     ]
    }
   ],
   "source": [
    "// console.log() : 식별자(변수)에 저장된 데이터 출력\n",
    "console.log(data1, data2, data3, data4)"
   ]
  },
  {
   "cell_type": "markdown",
   "id": "86667c36",
   "metadata": {},
   "source": [
    "## 2. 데이터 타입 : datatype\n",
    "- number : 숫자 데이터 타입\n",
    "- string : 문자열 데이터 타입\n",
    "- boolean : 논리값 데이터 타입\n",
    "- function : 코드를 저장하는 데이터 타입\n",
    "- object : 객체를 저장하는 데이터 타입"
   ]
  },
  {
   "cell_type": "code",
   "execution_count": 5,
   "id": "cddad210",
   "metadata": {
    "ExecuteTime": {
     "end_time": "2023-04-26T02:28:47.948428Z",
     "start_time": "2023-04-26T02:28:47.941Z"
    }
   },
   "outputs": [],
   "source": [
    "var data1 = 1.2;\n",
    "var data2 = 'js';\n",
    "var data3 = true;\n",
    "var data4 = function(){ console.log('func'); };\n",
    "var data5 = {key: 'value', func: function(){ console.log(123); }};"
   ]
  },
  {
   "cell_type": "code",
   "execution_count": 9,
   "id": "3c43eadb",
   "metadata": {
    "ExecuteTime": {
     "end_time": "2023-04-26T02:29:44.423270Z",
     "start_time": "2023-04-26T02:29:44.417Z"
    }
   },
   "outputs": [
    {
     "name": "stdout",
     "output_type": "stream",
     "text": [
      "number string boolean function object\n"
     ]
    }
   ],
   "source": [
    "// typeof : 데이터 타입 출력\n",
    "// 동적타이핑 : 데이터 타입을 설정하지 않아도 자동으로 데이터를 확인해서 데이터 타입 설정\n",
    "console.log(typeof data1, typeof data2, typeof data3, typeof data4, typeof data5);"
   ]
  },
  {
   "cell_type": "markdown",
   "id": "84d45bc9",
   "metadata": {},
   "source": [
    "### 없는 데이터 표현\n",
    "- undefined : 변수가 선언은 되었으나 데이터가 할당되지 않음\n",
    "- null : 변수가 선언 되어 없는 값이 할당 됨\n",
    "- NaN : Number 데이터 타입에서의 undefined, null"
   ]
  },
  {
   "cell_type": "code",
   "execution_count": 11,
   "id": "10013b36",
   "metadata": {
    "ExecuteTime": {
     "end_time": "2023-04-26T02:48:53.326054Z",
     "start_time": "2023-04-26T02:48:53.319Z"
    }
   },
   "outputs": [
    {
     "name": "stdout",
     "output_type": "stream",
     "text": [
      "undefined undefined\n"
     ]
    }
   ],
   "source": [
    "var data = undefined;\n",
    "console.log(typeof data, data)"
   ]
  },
  {
   "cell_type": "code",
   "execution_count": 12,
   "id": "4c668be8",
   "metadata": {
    "ExecuteTime": {
     "end_time": "2023-04-26T02:48:58.157318Z",
     "start_time": "2023-04-26T02:48:58.150Z"
    }
   },
   "outputs": [
    {
     "name": "stdout",
     "output_type": "stream",
     "text": [
      "object null\n"
     ]
    }
   ],
   "source": [
    "var data = null;\n",
    "console.log(typeof data, data)"
   ]
  },
  {
   "cell_type": "code",
   "execution_count": 15,
   "id": "fa62a8d7",
   "metadata": {
    "ExecuteTime": {
     "end_time": "2023-04-26T02:49:57.046758Z",
     "start_time": "2023-04-26T02:49:57.041Z"
    }
   },
   "outputs": [
    {
     "name": "stdout",
     "output_type": "stream",
     "text": [
      "number NaN\n",
      "false\n",
      "false\n"
     ]
    }
   ],
   "source": [
    "var data = NaN;\n",
    "console.log(typeof data, data)\n",
    "console.log(NaN == NaN);\n",
    "console.log(data == data);"
   ]
  },
  {
   "cell_type": "markdown",
   "id": "c1b6d3ae",
   "metadata": {},
   "source": [
    "### 데이터 타입 형변환\n",
    "- Number() : 숫자 데이터 타입으로 변환\n",
    "- String() : 문자열 데이터 타입으로 변환\n",
    "- Boolean() : 논리값 데이터 타입으로 변환"
   ]
  },
  {
   "cell_type": "code",
   "execution_count": 17,
   "id": "bd0c8320",
   "metadata": {
    "ExecuteTime": {
     "end_time": "2023-04-26T02:51:49.849130Z",
     "start_time": "2023-04-26T02:51:49.841Z"
    }
   },
   "outputs": [
    {
     "name": "stdout",
     "output_type": "stream",
     "text": [
      "string 1\n",
      "number 2\n"
     ]
    }
   ],
   "source": [
    "var data1 = '1', data2 = 2;\n",
    "console.log(typeof data1, data1);\n",
    "console.log(typeof data2, data2);"
   ]
  },
  {
   "cell_type": "code",
   "execution_count": 18,
   "id": "a76d2be5",
   "metadata": {
    "ExecuteTime": {
     "end_time": "2023-04-26T02:52:32.507157Z",
     "start_time": "2023-04-26T02:52:32.501Z"
    }
   },
   "outputs": [
    {
     "name": "stdout",
     "output_type": "stream",
     "text": [
      "number\n"
     ]
    }
   ],
   "source": [
    "console.log(typeof Number(data1))"
   ]
  },
  {
   "cell_type": "code",
   "execution_count": 21,
   "id": "9e07147f",
   "metadata": {
    "ExecuteTime": {
     "end_time": "2023-04-26T02:53:18.738296Z",
     "start_time": "2023-04-26T02:53:18.731Z"
    }
   },
   "outputs": [
    {
     "name": "stdout",
     "output_type": "stream",
     "text": [
      "12 3\n"
     ]
    }
   ],
   "source": [
    "console.log(data1 + data2, Number(data1) + data2)"
   ]
  },
  {
   "cell_type": "markdown",
   "id": "e6606aed",
   "metadata": {},
   "source": [
    "### 묵시적 형변환\n",
    "- 다양한 데이터 타입을 연산하면 묵시적 형변환이 발생"
   ]
  },
  {
   "cell_type": "code",
   "execution_count": 22,
   "id": "3a4a79c2",
   "metadata": {
    "ExecuteTime": {
     "end_time": "2023-04-26T02:54:55.607170Z",
     "start_time": "2023-04-26T02:54:55.602Z"
    }
   },
   "outputs": [
    {
     "data": {
      "text/plain": [
       "'number'"
      ]
     },
     "execution_count": 22,
     "metadata": {},
     "output_type": "execute_result"
    }
   ],
   "source": [
    "// 문자 > 숫자 : Number()\n",
    "typeof(data1 - 0)"
   ]
  },
  {
   "cell_type": "code",
   "execution_count": 23,
   "id": "d87f9ca5",
   "metadata": {
    "ExecuteTime": {
     "end_time": "2023-04-26T02:55:17.001764Z",
     "start_time": "2023-04-26T02:55:16.995Z"
    }
   },
   "outputs": [
    {
     "data": {
      "text/plain": [
       "'string'"
      ]
     },
     "execution_count": 23,
     "metadata": {},
     "output_type": "execute_result"
    }
   ],
   "source": [
    "// 숫자 > 문자 : String()\n",
    "typeof('' + data2)"
   ]
  },
  {
   "cell_type": "markdown",
   "id": "5ea19272",
   "metadata": {},
   "source": [
    "## 3. 연산자 : operator\n",
    "- 산술 : 데이터 + 데이터 = 데이터 : +, -, *, /, %, **, ++, --\n",
    "- 비교 : 데이터 + 데이터 = 논리값 : 조건 1개 : ==, !=, >, <. >=, <=, ===, !==\n",
    "- 논리 : 논리값 + 논리값 = 논리값 : 조건 2개 이상 : !, &&(T and T = T), ||(F or F = F)\n",
    "- 할당 : 변수 산술 = 데이터 : 변수에 누적해서 연산 수행\n",
    "- 삼항 : (조건) ? (참) : (거짓)"
   ]
  },
  {
   "cell_type": "code",
   "execution_count": 25,
   "id": "685cad67",
   "metadata": {
    "ExecuteTime": {
     "end_time": "2023-04-26T03:02:15.928466Z",
     "start_time": "2023-04-26T03:02:15.924Z"
    }
   },
   "outputs": [
    {
     "name": "stdout",
     "output_type": "stream",
     "text": [
      "2.75 3 64\n"
     ]
    }
   ],
   "source": [
    "// 산술 연산자\n",
    "var data1 = 11, data2 = 4;\n",
    "console.log(data1 / data2, data1 % data2, data2 ** 3);"
   ]
  },
  {
   "cell_type": "code",
   "execution_count": 27,
   "id": "ecd5ec6a",
   "metadata": {
    "ExecuteTime": {
     "end_time": "2023-04-26T03:03:18.744854Z",
     "start_time": "2023-04-26T03:03:18.739Z"
    }
   },
   "outputs": [
    {
     "name": "stdout",
     "output_type": "stream",
     "text": [
      "3 3\n"
     ]
    }
   ],
   "source": [
    "// ++data : +1 후에 데이터 대입\n",
    "var data1 = 1, data2 = 2;\n",
    "data1 = ++data2;\n",
    "console.log(data1, data2);"
   ]
  },
  {
   "cell_type": "code",
   "execution_count": 28,
   "id": "6b686482",
   "metadata": {
    "ExecuteTime": {
     "end_time": "2023-04-26T03:04:33.443979Z",
     "start_time": "2023-04-26T03:04:33.438Z"
    }
   },
   "outputs": [
    {
     "name": "stdout",
     "output_type": "stream",
     "text": [
      "2 3\n"
     ]
    }
   ],
   "source": [
    "// data++ : 데이터 대입 후에 +1\n",
    "var data1 = 1, data2 = 2;\n",
    "data1 = data2++;\n",
    "console.log(data1, data2);"
   ]
  },
  {
   "cell_type": "code",
   "execution_count": 29,
   "id": "a7f07f9a",
   "metadata": {
    "ExecuteTime": {
     "end_time": "2023-04-26T03:06:08.426032Z",
     "start_time": "2023-04-26T03:06:08.419Z"
    }
   },
   "outputs": [
    {
     "name": "stdout",
     "output_type": "stream",
     "text": [
      "true\n",
      "false\n"
     ]
    }
   ],
   "source": [
    "// 비교연산자\n",
    "// ===, !== : 데이터 타입까지 비교\n",
    "// ==, != : 데이터만 비교\n",
    "var data1 = 1, data2 = '1';\n",
    "console.log(data1 == data2);\n",
    "console.log(data1 === data2);"
   ]
  },
  {
   "cell_type": "code",
   "execution_count": 30,
   "id": "56c1642c",
   "metadata": {
    "ExecuteTime": {
     "end_time": "2023-04-26T03:08:03.446377Z",
     "start_time": "2023-04-26T03:08:03.442Z"
    }
   },
   "outputs": [
    {
     "name": "stdout",
     "output_type": "stream",
     "text": [
      "false true\n"
     ]
    }
   ],
   "source": [
    "// 논리연산자\n",
    "console.log(true && false, true || false)"
   ]
  },
  {
   "cell_type": "code",
   "execution_count": 36,
   "id": "edff97c3",
   "metadata": {
    "ExecuteTime": {
     "end_time": "2023-04-26T03:16:58.565958Z",
     "start_time": "2023-04-26T03:16:58.559Z"
    }
   },
   "outputs": [
    {
     "name": "stdout",
     "output_type": "stream",
     "text": [
      "true\n"
     ]
    }
   ],
   "source": [
    "// 조건 1개 : 예금잔고(balance)에서 인출금액(withdraw)으로 인출이 가능하면 true, 불가능하면 false\n",
    "var balance = 999999, withdraw = 1000;\n",
    "\n",
    "console.log(balance >= withdraw)"
   ]
  },
  {
   "cell_type": "code",
   "execution_count": 37,
   "id": "704ba1ab",
   "metadata": {
    "ExecuteTime": {
     "end_time": "2023-04-26T03:17:04.023623Z",
     "start_time": "2023-04-26T03:17:04.017Z"
    }
   },
   "outputs": [
    {
     "name": "stdout",
     "output_type": "stream",
     "text": [
      "true\n"
     ]
    }
   ],
   "source": [
    "// 조건 2개 : 1회 최대 출금금액은 5000원으로 제한\n",
    "var balance = 10000, withdraw = 5000;\n",
    "console.log( (withdraw <= 5000) && (balance >= withdraw) )"
   ]
  },
  {
   "cell_type": "code",
   "execution_count": 38,
   "id": "bcb3ec3b",
   "metadata": {
    "ExecuteTime": {
     "end_time": "2023-04-26T03:17:36.843657Z",
     "start_time": "2023-04-26T03:17:36.838Z"
    }
   },
   "outputs": [
    {
     "name": "stdout",
     "output_type": "stream",
     "text": [
      "인출가능\n"
     ]
    }
   ],
   "source": [
    "// 삼항연산자 : 조건 ? 참 : 거짓\n",
    "var balance = 10000, withdraw = 5000;\n",
    "var msg = balance >= withdraw ? '인출가능' : '인출불가';\n",
    "console.log(msg)"
   ]
  },
  {
   "cell_type": "code",
   "execution_count": 39,
   "id": "9b075189",
   "metadata": {
    "ExecuteTime": {
     "end_time": "2023-04-26T03:18:36.064039Z",
     "start_time": "2023-04-26T03:18:36.058Z"
    }
   },
   "outputs": [
    {
     "name": "stdout",
     "output_type": "stream",
     "text": [
      "30\n"
     ]
    }
   ],
   "source": [
    "// 할당연산자\n",
    "var data1 = 10;\n",
    "// data1 = data1 + 20;\n",
    "data1 += 20;\n",
    "console.log(data1)"
   ]
  },
  {
   "cell_type": "markdown",
   "id": "1ec813f5",
   "metadata": {},
   "source": [
    "## 4. 조건문 : condition\n",
    "- if, else if, else\n",
    "- switch, case, default"
   ]
  },
  {
   "cell_type": "code",
   "execution_count": 40,
   "id": "f95980ca",
   "metadata": {
    "ExecuteTime": {
     "end_time": "2023-04-26T03:24:41.200172Z",
     "start_time": "2023-04-26T03:24:41.193Z"
    }
   },
   "outputs": [
    {
     "name": "stdout",
     "output_type": "stream",
     "text": [
      "B\n"
     ]
    }
   ],
   "source": [
    "// 학점출력\n",
    "var point = 87;\n",
    "if(point >= 90){\n",
    "    console.log('A');\n",
    "}\n",
    "else if(point >= 80){\n",
    "    console.log('B')\n",
    "}\n",
    "else if(point >= 70){\n",
    "    console.log('C')\n",
    "}\n",
    "else if(point >= 60){\n",
    "    console.log('D')\n",
    "}\n",
    "else {\n",
    "    console.log('F')\n",
    "}"
   ]
  },
  {
   "cell_type": "code",
   "execution_count": 41,
   "id": "11a6ef67",
   "metadata": {
    "ExecuteTime": {
     "end_time": "2023-04-26T03:27:16.601633Z",
     "start_time": "2023-04-26T03:27:16.595Z"
    }
   },
   "outputs": [
    {
     "name": "stdout",
     "output_type": "stream",
     "text": [
      "승점 3\n"
     ]
    }
   ],
   "source": [
    "// 승점출력\n",
    "var point = '승';\n",
    "switch(point){\n",
    "    case '승':\n",
    "        console.log('승점', 3);\n",
    "        break;\n",
    "    case '무':\n",
    "        console.log('승점', 1);\n",
    "        break;\n",
    "    default:\n",
    "        console.log('승점', 0);\n",
    "}"
   ]
  },
  {
   "cell_type": "markdown",
   "id": "232fd8f5",
   "metadata": {},
   "source": [
    "## 5. 반복문 : loop\n",
    "- while, for, break, continue"
   ]
  },
  {
   "cell_type": "code",
   "execution_count": 42,
   "id": "15d3518d",
   "metadata": {
    "ExecuteTime": {
     "end_time": "2023-04-26T04:33:58.421216Z",
     "start_time": "2023-04-26T04:33:58.413Z"
    }
   },
   "outputs": [
    {
     "name": "stdout",
     "output_type": "stream",
     "text": [
      "js\n",
      "js\n",
      "js\n"
     ]
    }
   ],
   "source": [
    "var count = 3;\n",
    "while (count > 0){\n",
    "    count -= 1;\n",
    "    console.log('js')\n",
    "}"
   ]
  },
  {
   "cell_type": "code",
   "execution_count": 43,
   "id": "bde1d027",
   "metadata": {
    "ExecuteTime": {
     "end_time": "2023-04-26T04:35:27.131648Z",
     "start_time": "2023-04-26T04:35:27.125Z"
    }
   },
   "outputs": [
    {
     "name": "stdout",
     "output_type": "stream",
     "text": [
      "js\n",
      "js\n",
      "js\n"
     ]
    }
   ],
   "source": [
    "var count = 3;\n",
    "while (count){ // 조건을 확인하는 부분에서 true, false가 아니면 Boolean()으로 형변환해서 판단\n",
    "    count -= 1;\n",
    "    console.log('js')\n",
    "}"
   ]
  },
  {
   "cell_type": "code",
   "execution_count": 44,
   "id": "c0ef0d8e",
   "metadata": {
    "ExecuteTime": {
     "end_time": "2023-04-26T04:36:15.370869Z",
     "start_time": "2023-04-26T04:36:15.365Z"
    }
   },
   "outputs": [
    {
     "name": "stdout",
     "output_type": "stream",
     "text": [
      "false true\n"
     ]
    }
   ],
   "source": [
    "console.log(Boolean(0), Boolean(1))"
   ]
  },
  {
   "cell_type": "code",
   "execution_count": 45,
   "id": "96c76c9b",
   "metadata": {
    "ExecuteTime": {
     "end_time": "2023-04-26T04:38:38.742379Z",
     "start_time": "2023-04-26T04:38:38.735Z"
    }
   },
   "outputs": [
    {
     "name": "stdout",
     "output_type": "stream",
     "text": [
      "js\n",
      "js\n",
      "js\n"
     ]
    }
   ],
   "source": [
    "var count = 3;\n",
    "for(var i = 0; i < count; i++){\n",
    "    console.log('js');\n",
    "}"
   ]
  },
  {
   "cell_type": "code",
   "execution_count": 49,
   "id": "e42b5b95",
   "metadata": {
    "ExecuteTime": {
     "end_time": "2023-04-26T04:40:46.905469Z",
     "start_time": "2023-04-26T04:40:46.897Z"
    }
   },
   "outputs": [
    {
     "name": "stdout",
     "output_type": "stream",
     "text": [
      "0 js\n",
      "1 js\n",
      "3 js\n"
     ]
    }
   ],
   "source": [
    "var count = 5;\n",
    "for(var i = 0; i < count; i++){\n",
    "    if (i == 2){\n",
    "        continue;\n",
    "    }\n",
    "    console.log(i, 'js');\n",
    "    if (i >= 3){\n",
    "        break;\n",
    "    }\n",
    "}"
   ]
  },
  {
   "cell_type": "code",
   "execution_count": 50,
   "id": "d615a39e",
   "metadata": {
    "ExecuteTime": {
     "end_time": "2023-04-26T04:42:15.883227Z",
     "start_time": "2023-04-26T04:42:15.876Z"
    }
   },
   "outputs": [
    {
     "name": "stdout",
     "output_type": "stream",
     "text": [
      "0.30000000000000004 false\n"
     ]
    }
   ],
   "source": [
    "// 실수하기 쉬운 코드 : 부동소수점문제\n",
    "var data1 = 0.1, data2 = 0.2;\n",
    "console.log(data1 + data2, (data1 + data2) === 0.3)"
   ]
  },
  {
   "cell_type": "code",
   "execution_count": 51,
   "id": "1b3c4445",
   "metadata": {
    "ExecuteTime": {
     "end_time": "2023-04-26T04:44:08.174001Z",
     "start_time": "2023-04-26T04:44:08.167Z"
    }
   },
   "outputs": [
    {
     "data": {
      "text/plain": [
       "1.235"
      ]
     },
     "execution_count": 51,
     "metadata": {},
     "output_type": "execute_result"
    }
   ],
   "source": [
    "// 해결법 : 반올림 : Math.round()\n",
    "Math.round(1.2345 * 1000) / 1000"
   ]
  },
  {
   "cell_type": "code",
   "execution_count": 53,
   "id": "db03bc70",
   "metadata": {
    "ExecuteTime": {
     "end_time": "2023-04-26T04:44:36.586133Z",
     "start_time": "2023-04-26T04:44:36.578Z"
    }
   },
   "outputs": [
    {
     "data": {
      "text/plain": [
       "true"
      ]
     },
     "execution_count": 53,
     "metadata": {},
     "output_type": "execute_result"
    }
   ],
   "source": [
    "Math.round( (data1 + data2) * 10) / 10 === 0.3"
   ]
  },
  {
   "cell_type": "code",
   "execution_count": 92,
   "id": "64ffabbd",
   "metadata": {
    "ExecuteTime": {
     "end_time": "2023-04-26T05:01:19.525869Z",
     "start_time": "2023-04-26T05:01:19.519Z"
    }
   },
   "outputs": [
    {
     "name": "stdout",
     "output_type": "stream",
     "text": [
      "34 31 38 31 25 28\n"
     ]
    }
   ],
   "source": [
    "// 로또번호 출력 : 중복허용\n",
    "var count = 6, lotto = '';\n",
    "for (var i=0; i < count; i++){\n",
    "    var randomNumber = Math.ceil(Math.random() * 45);\n",
    "    lotto += randomNumber;\n",
    "    if(i != count - 1) lotto += ' ';\n",
    "}\n",
    "\n",
    "console.log(lotto)"
   ]
  },
  {
   "cell_type": "markdown",
   "id": "945a7bb9",
   "metadata": {},
   "source": [
    "## 6. 함수 : function\n",
    "- 중복코드를 묶어서 코드 작성 실행 : 코드 유지보수가 좋아짐\n",
    "- 사용법 : 함수선언(코드작성) > 함수호출(코드실행)\n",
    "- function, argument, parameter, 표현식, 선언식, hoisting, scope, return"
   ]
  },
  {
   "cell_type": "code",
   "execution_count": 113,
   "id": "bd88730c",
   "metadata": {
    "ExecuteTime": {
     "end_time": "2023-04-26T05:02:52.405586Z",
     "start_time": "2023-04-26T05:02:52.399Z"
    }
   },
   "outputs": [
    {
     "name": "stdout",
     "output_type": "stream",
     "text": [
      "32 16 10 5 8 7\n",
      "js\n",
      "31 31 38 18 28 43\n"
     ]
    }
   ],
   "source": [
    "function showLotto(){\n",
    "    var count = 6, lotto = '';\n",
    "    for (var i=0; i < count; i++){\n",
    "        var randomNumber = Math.ceil(Math.random() * 45);\n",
    "        lotto += randomNumber;\n",
    "        if(i != count - 1) lotto += ' ';\n",
    "    }\n",
    "    console.log(lotto);\n",
    "}\n",
    "\n",
    "showLotto();\n",
    "console.log('js');\n",
    "showLotto();"
   ]
  },
  {
   "cell_type": "code",
   "execution_count": 115,
   "id": "6a2a6fc2",
   "metadata": {
    "ExecuteTime": {
     "end_time": "2023-04-26T05:05:14.126774Z",
     "start_time": "2023-04-26T05:05:14.120Z"
    }
   },
   "outputs": [
    {
     "name": "stdout",
     "output_type": "stream",
     "text": [
      "17 31 28 44 17 24\n",
      "36 26 47 28 6 33\n"
     ]
    }
   ],
   "source": [
    "// argument, parameter : 함수를 호출하는 코드에서 함수를 선언하는 코드로 데이터 전달\n",
    "function showLotto(endNumber){ // endNumber : parameter\n",
    "    var count = 6, lotto = '';\n",
    "    for (var i=0; i < count; i++){\n",
    "        var randomNumber = Math.ceil(Math.random() * endNumber);\n",
    "        lotto += randomNumber;\n",
    "        if(i != count - 1) lotto += ' ';\n",
    "    }\n",
    "    console.log(lotto);\n",
    "}\n",
    "// 로또번호 1~45까지 출력\n",
    "showLotto(45); // 45 : argument\n",
    "// 로또번호 1~50까지 출력\n",
    "showLotto(50); // 50 : argument"
   ]
  },
  {
   "cell_type": "code",
   "execution_count": 116,
   "id": "ea3f4096",
   "metadata": {
    "ExecuteTime": {
     "end_time": "2023-04-26T05:06:55.916848Z",
     "start_time": "2023-04-26T05:06:55.911Z"
    }
   },
   "outputs": [
    {
     "name": "stdout",
     "output_type": "stream",
     "text": [
      "3\n"
     ]
    }
   ],
   "source": [
    "// 함수선언 1 : 함수선언식\n",
    "function plus1(n1, n2){\n",
    "    console.log(n1 + n2);\n",
    "}\n",
    "plus1(1, 2);"
   ]
  },
  {
   "cell_type": "code",
   "execution_count": 117,
   "id": "4fa2950d",
   "metadata": {
    "ExecuteTime": {
     "end_time": "2023-04-26T05:08:08.396800Z",
     "start_time": "2023-04-26T05:08:08.391Z"
    }
   },
   "outputs": [
    {
     "name": "stdout",
     "output_type": "stream",
     "text": [
      "3\n"
     ]
    }
   ],
   "source": [
    "// 함수선언 2 : 함수표현식\n",
    "var plus2 = function(n1, n2){\n",
    "    console.log(n1 + n2);\n",
    "}\n",
    "plus2(1, 2);"
   ]
  },
  {
   "cell_type": "code",
   "execution_count": 118,
   "id": "6834fb2b",
   "metadata": {
    "ExecuteTime": {
     "end_time": "2023-04-26T05:09:19.650942Z",
     "start_time": "2023-04-26T05:09:19.642Z"
    }
   },
   "outputs": [
    {
     "name": "stdout",
     "output_type": "stream",
     "text": [
      "3\n"
     ]
    }
   ],
   "source": [
    "// 선언식과 표현식의 차이\n",
    "// 선언식 : 함수 선언하는 코드가 최상단으로 올라가서 우선적으로 선언 후 다른 코드 실행\n",
    "// hoisting : 선언식으로 작성된 코드를 우선적으로 메모리에 할당\n",
    "plus3(1, 2);\n",
    "\n",
    "function plus3(n1, n2){\n",
    "    console.log(n1 + n2);\n",
    "}"
   ]
  },
  {
   "cell_type": "code",
   "execution_count": 119,
   "id": "6a62ec81",
   "metadata": {
    "ExecuteTime": {
     "end_time": "2023-04-26T05:11:34.619009Z",
     "start_time": "2023-04-26T05:11:34.613Z"
    }
   },
   "outputs": [
    {
     "ename": "TypeError",
     "evalue": "plus4 is not a function",
     "output_type": "error",
     "traceback": [
      "evalmachine.<anonymous>:2",
      "plus4(1, 2);",
      "^",
      "",
      "TypeError: plus4 is not a function",
      "    at evalmachine.<anonymous>:2:1",
      "    at Script.runInThisContext (node:vm:129:12)",
      "    at Object.runInThisContext (node:vm:307:38)",
      "    at run ([eval]:1020:15)",
      "    at onRunRequest ([eval]:864:18)",
      "    at onMessage ([eval]:828:13)",
      "    at process.emit (node:events:513:28)",
      "    at emit (node:internal/child_process:937:14)",
      "    at process.processTicksAndRejections (node:internal/process/task_queues:83:21)"
     ]
    }
   ],
   "source": [
    "// 표현식\n",
    "plus4(1, 2);\n",
    "\n",
    "var plus4 = function(n1, n2){\n",
    "    console.log(n1 + n2);\n",
    "}"
   ]
  },
  {
   "cell_type": "markdown",
   "id": "ef97b875",
   "metadata": {},
   "source": [
    "### scope : 스코프\n",
    "- 함수 밖 : 전역영역 : global\n",
    "- 함수 안 : 지역영역 : local"
   ]
  },
  {
   "cell_type": "code",
   "execution_count": 120,
   "id": "df9116b0",
   "metadata": {
    "ExecuteTime": {
     "end_time": "2023-04-26T05:14:43.355306Z",
     "start_time": "2023-04-26T05:14:43.348Z"
    }
   },
   "outputs": [
    {
     "name": "stdout",
     "output_type": "stream",
     "text": [
      "20\n"
     ]
    }
   ],
   "source": [
    "var data = 10;\n",
    "function change(){\n",
    "    data = 20; // var 사용하지 않으면 전역영역의 변수로 사용\n",
    "}\n",
    "change();\n",
    "console.log(data)"
   ]
  },
  {
   "cell_type": "code",
   "execution_count": 121,
   "id": "3de2921c",
   "metadata": {
    "ExecuteTime": {
     "end_time": "2023-04-26T05:16:25.115601Z",
     "start_time": "2023-04-26T05:16:25.108Z"
    }
   },
   "outputs": [
    {
     "name": "stdout",
     "output_type": "stream",
     "text": [
      "10\n"
     ]
    }
   ],
   "source": [
    "var data = 10;\n",
    "function change(){\n",
    "    var data = 20; // var 사용하면 지역영역의 변수로 사용\n",
    "}\n",
    "change();\n",
    "console.log(data)"
   ]
  },
  {
   "cell_type": "code",
   "execution_count": 122,
   "id": "74925df6",
   "metadata": {
    "ExecuteTime": {
     "end_time": "2023-04-26T05:23:07.876929Z",
     "start_time": "2023-04-26T05:23:07.867Z"
    }
   },
   "outputs": [
    {
     "name": "stdout",
     "output_type": "stream",
     "text": [
      "20\n"
     ]
    }
   ],
   "source": [
    "// 지역영역의 변수를 전역영역으로 가져와서 사용 : return\n",
    "var data = 10;\n",
    "function change(){\n",
    "    var data = 20;\n",
    "    return data\n",
    "}\n",
    "data = change();\n",
    "console.log(data)"
   ]
  },
  {
   "cell_type": "code",
   "execution_count": 2,
   "id": "ea1d610d",
   "metadata": {
    "ExecuteTime": {
     "end_time": "2023-04-26T05:43:09.970086Z",
     "start_time": "2023-04-26T05:43:09.963Z"
    }
   },
   "outputs": [
    {
     "name": "stdout",
     "output_type": "stream",
     "text": [
      "undefined\n",
      "js\n",
      "python\n"
     ]
    }
   ],
   "source": [
    "console.log(data);\n",
    "var data = 'js';\n",
    "console.log(data);\n",
    "var data = 'python';\n",
    "console.log(data)"
   ]
  },
  {
   "cell_type": "markdown",
   "id": "96b6f936",
   "metadata": {},
   "source": [
    "### 익명함수 : anonymous function\n",
    "- 선언과 동시에 호출\n",
    "- 일회성으로 사용 > 외부에서 익명함수 내부의 변수, 함수 사용 불가 > 보안이 좋아짐"
   ]
  },
  {
   "cell_type": "code",
   "execution_count": 8,
   "id": "9eb52c64",
   "metadata": {
    "ExecuteTime": {
     "end_time": "2023-04-26T05:56:44.214735Z",
     "start_time": "2023-04-26T05:56:44.208Z"
    }
   },
   "outputs": [],
   "source": [
    "// 내부 \n",
    "var join1 = function(id, pw){\n",
    "    console.log(id, pw);\n",
    "}"
   ]
  },
  {
   "cell_type": "code",
   "execution_count": 9,
   "id": "c7a9fff7",
   "metadata": {
    "ExecuteTime": {
     "end_time": "2023-04-26T05:56:46.673032Z",
     "start_time": "2023-04-26T05:56:46.668Z"
    }
   },
   "outputs": [
    {
     "name": "stdout",
     "output_type": "stream",
     "text": [
      "Andy 1234\n"
     ]
    }
   ],
   "source": [
    "// 외부 : 브라우져의 개발자 도구 사용\n",
    "join1('Andy', '1234');"
   ]
  },
  {
   "cell_type": "code",
   "execution_count": 10,
   "id": "f5dd847c",
   "metadata": {
    "ExecuteTime": {
     "end_time": "2023-04-26T05:56:47.812527Z",
     "start_time": "2023-04-26T05:56:47.807Z"
    }
   },
   "outputs": [
    {
     "name": "stdout",
     "output_type": "stream",
     "text": [
      "Andy 1234\n"
     ]
    }
   ],
   "source": [
    "// 내부\n",
    "(function join2(id, pw){\n",
    "    console.log(id, pw);\n",
    "}('Andy', '1234'));"
   ]
  },
  {
   "cell_type": "code",
   "execution_count": 11,
   "id": "9ba9b279",
   "metadata": {
    "ExecuteTime": {
     "end_time": "2023-04-26T05:57:02.244124Z",
     "start_time": "2023-04-26T05:57:02.238Z"
    }
   },
   "outputs": [
    {
     "ename": "ReferenceError",
     "evalue": "join2 is not defined",
     "output_type": "error",
     "traceback": [
      "evalmachine.<anonymous>:2",
      "join2('Andy', '1234');",
      "^",
      "",
      "ReferenceError: join2 is not defined",
      "    at evalmachine.<anonymous>:2:1",
      "    at Script.runInThisContext (node:vm:129:12)",
      "    at Object.runInThisContext (node:vm:307:38)",
      "    at run ([eval]:1020:15)",
      "    at onRunRequest ([eval]:864:18)",
      "    at onMessage ([eval]:828:13)",
      "    at process.emit (node:events:513:28)",
      "    at emit (node:internal/child_process:937:14)",
      "    at process.processTicksAndRejections (node:internal/process/task_queues:83:21)"
     ]
    }
   ],
   "source": [
    "// 외부\n",
    "join2('Andy', '1234');"
   ]
  },
  {
   "cell_type": "markdown",
   "id": "0ac61ce1",
   "metadata": {},
   "source": [
    "### return\n",
    "- 함수에서 실행된 결과를 변수에 저장하거나 출력\n",
    "- 함수에서 코드 실행 중단"
   ]
  },
  {
   "cell_type": "code",
   "execution_count": 14,
   "id": "37393ec7",
   "metadata": {
    "ExecuteTime": {
     "end_time": "2023-04-26T06:01:48.751713Z",
     "start_time": "2023-04-26T06:01:48.743Z"
    }
   },
   "outputs": [
    {
     "name": "stdout",
     "output_type": "stream",
     "text": [
      "result 3\n"
     ]
    }
   ],
   "source": [
    "var plus = function(n1, n2){\n",
    "    return n1 + n2;\n",
    "    // console.log(n1 + n2);\n",
    "}\n",
    "result = plus(1, 2);\n",
    "console.log('result', result);"
   ]
  },
  {
   "cell_type": "code",
   "execution_count": 16,
   "id": "bcfcb432",
   "metadata": {
    "ExecuteTime": {
     "end_time": "2023-04-26T06:02:13.113322Z",
     "start_time": "2023-04-26T06:02:13.104Z"
    }
   },
   "outputs": [
    {
     "name": "stdout",
     "output_type": "stream",
     "text": [
      "1\n"
     ]
    }
   ],
   "source": [
    "var echo = function(){\n",
    "    console.log(1);\n",
    "    return\n",
    "    console.log(2);\n",
    "}\n",
    "echo();"
   ]
  },
  {
   "cell_type": "code",
   "execution_count": 17,
   "id": "f3ad5c5c",
   "metadata": {
    "ExecuteTime": {
     "end_time": "2023-04-26T06:04:31.441104Z",
     "start_time": "2023-04-26T06:04:31.434Z"
    }
   },
   "outputs": [],
   "source": [
    "// default parameter\n",
    "var plus = function(n1, n2){\n",
    "    console.log(n1, n2);\n",
    "    n2 = n2 || 10; // n2에 데이터가 없으면 10을 저장\n",
    "    return n1 + n2;\n",
    "}"
   ]
  },
  {
   "cell_type": "code",
   "execution_count": 19,
   "id": "89f3660d",
   "metadata": {
    "ExecuteTime": {
     "end_time": "2023-04-26T06:04:52.354085Z",
     "start_time": "2023-04-26T06:04:52.345Z"
    }
   },
   "outputs": [
    {
     "name": "stdout",
     "output_type": "stream",
     "text": [
      "10 20\n",
      "30\n"
     ]
    }
   ],
   "source": [
    "console.log(plus(10, 20));"
   ]
  },
  {
   "cell_type": "code",
   "execution_count": 20,
   "id": "42541f3d",
   "metadata": {
    "ExecuteTime": {
     "end_time": "2023-04-26T06:05:30.934179Z",
     "start_time": "2023-04-26T06:05:30.927Z"
    }
   },
   "outputs": [
    {
     "name": "stdout",
     "output_type": "stream",
     "text": [
      "10 undefined\n",
      "20\n"
     ]
    }
   ],
   "source": [
    "console.log(plus(10));"
   ]
  },
  {
   "cell_type": "markdown",
   "id": "8e23940d",
   "metadata": {},
   "source": [
    "## 7. 객체 : object\n",
    "- 컬렉션 데이터 타입, 클래스 문법"
   ]
  },
  {
   "cell_type": "code",
   "execution_count": 21,
   "id": "6a6ea938",
   "metadata": {
    "ExecuteTime": {
     "end_time": "2023-04-26T06:08:24.276392Z",
     "start_time": "2023-04-26T06:08:24.268Z"
    }
   },
   "outputs": [
    {
     "name": "stdout",
     "output_type": "stream",
     "text": [
      "object [ 1, 2, 3, 'A', 'B' ]\n"
     ]
    }
   ],
   "source": [
    "// 컬렉션 데이터 타입으로 사용\n",
    "// 식별자 1개, 데이터 n개\n",
    "var data = [1, 2, 3, 'A', 'B'];\n",
    "console.log(typeof data, data);"
   ]
  },
  {
   "cell_type": "code",
   "execution_count": 22,
   "id": "7211c37e",
   "metadata": {
    "ExecuteTime": {
     "end_time": "2023-04-26T06:08:52.265515Z",
     "start_time": "2023-04-26T06:08:52.258Z"
    }
   },
   "outputs": [
    {
     "name": "stdout",
     "output_type": "stream",
     "text": [
      "object { '2': 'two', one: 1 }\n"
     ]
    }
   ],
   "source": [
    "var data = {one : 1, 2 : 'two'};\n",
    "console.log(typeof data, data);"
   ]
  },
  {
   "cell_type": "code",
   "execution_count": 23,
   "id": "7804482f",
   "metadata": {
    "ExecuteTime": {
     "end_time": "2023-04-26T06:10:18.608354Z",
     "start_time": "2023-04-26T06:10:18.602Z"
    }
   },
   "outputs": [],
   "source": [
    "// 클래스 문법의 객체\n",
    "// 변수, 함수를 묶어서 코드 작성 실행, 객체지향 구현"
   ]
  },
  {
   "cell_type": "code",
   "execution_count": 24,
   "id": "0f2b6122",
   "metadata": {
    "ExecuteTime": {
     "end_time": "2023-04-26T06:13:26.439726Z",
     "start_time": "2023-04-26T06:13:26.432Z"
    }
   },
   "outputs": [],
   "source": [
    "var obj = {\n",
    "    data: 'js',\n",
    "    plus: function(n1, n2){\n",
    "        return n1 + n2;\n",
    "    },\n",
    "}"
   ]
  },
  {
   "cell_type": "code",
   "execution_count": 25,
   "id": "5ce8b5ef",
   "metadata": {
    "ExecuteTime": {
     "end_time": "2023-04-26T06:13:29.498051Z",
     "start_time": "2023-04-26T06:13:29.492Z"
    }
   },
   "outputs": [
    {
     "data": {
      "text/plain": [
       "'js'"
      ]
     },
     "execution_count": 25,
     "metadata": {},
     "output_type": "execute_result"
    }
   ],
   "source": [
    "obj.data;"
   ]
  },
  {
   "cell_type": "code",
   "execution_count": 26,
   "id": "e3fa4ca5",
   "metadata": {
    "ExecuteTime": {
     "end_time": "2023-04-26T06:13:35.918177Z",
     "start_time": "2023-04-26T06:13:35.912Z"
    }
   },
   "outputs": [
    {
     "data": {
      "text/plain": [
       "3"
      ]
     },
     "execution_count": 26,
     "metadata": {},
     "output_type": "execute_result"
    }
   ],
   "source": [
    "obj.plus(1, 2)"
   ]
  },
  {
   "cell_type": "code",
   "execution_count": 27,
   "id": "ac956d7c",
   "metadata": {
    "ExecuteTime": {
     "end_time": "2023-04-26T06:16:00.251634Z",
     "start_time": "2023-04-26T06:16:00.244Z"
    }
   },
   "outputs": [
    {
     "name": "stdout",
     "output_type": "stream",
     "text": [
      "Person { name: 'andy' }\n"
     ]
    }
   ],
   "source": [
    "function Person(name){\n",
    "    this.name = name;\n",
    "}\n",
    "var person = new Person('andy');\n",
    "console.log(person);"
   ]
  },
  {
   "cell_type": "code",
   "execution_count": 29,
   "id": "0a2d2bd5",
   "metadata": {
    "ExecuteTime": {
     "end_time": "2023-04-26T06:17:05.381953Z",
     "start_time": "2023-04-26T06:17:05.375Z"
    }
   },
   "outputs": [
    {
     "name": "stdout",
     "output_type": "stream",
     "text": [
      "{ name: 'Andy', addr: 'Seoul' }\n"
     ]
    }
   ],
   "source": [
    "var data = {};\n",
    "data.name = 'Andy';\n",
    "data['addr'] = 'Seoul';\n",
    "console.log(data);"
   ]
  },
  {
   "cell_type": "markdown",
   "id": "35df7df6",
   "metadata": {},
   "source": [
    "### json object"
   ]
  },
  {
   "cell_type": "code",
   "execution_count": 30,
   "id": "f27595ae",
   "metadata": {
    "ExecuteTime": {
     "end_time": "2023-04-26T06:19:25.901526Z",
     "start_time": "2023-04-26T06:19:25.896Z"
    }
   },
   "outputs": [
    {
     "name": "stdout",
     "output_type": "stream",
     "text": [
      "object { name: 'Andy', addr: 'Seoul' }\n",
      "string {\"name\":\"Andy\",\"addr\":\"Seoul\"}\n"
     ]
    }
   ],
   "source": [
    "// 객체 > 문자열\n",
    "var obj = { name: 'Andy', addr: 'Seoul' };\n",
    "var json = JSON.stringify(obj);\n",
    "console.log(typeof obj, obj);\n",
    "console.log(typeof json, json);"
   ]
  },
  {
   "cell_type": "code",
   "execution_count": 31,
   "id": "c6556bfa",
   "metadata": {
    "ExecuteTime": {
     "end_time": "2023-04-26T06:20:50.655157Z",
     "start_time": "2023-04-26T06:20:50.648Z"
    }
   },
   "outputs": [
    {
     "data": {
      "text/plain": [
       "{ name: 'Andy', addr: 'Seoul' }"
      ]
     },
     "execution_count": 31,
     "metadata": {},
     "output_type": "execute_result"
    }
   ],
   "source": [
    "// 문자열 > 객체\n",
    "JSON.parse(json)"
   ]
  },
  {
   "cell_type": "code",
   "execution_count": null,
   "id": "40cc9838",
   "metadata": {},
   "outputs": [],
   "source": []
  }
 ],
 "metadata": {
  "kernelspec": {
   "display_name": "JavaScript (Node.js)",
   "language": "javascript",
   "name": "javascript"
  },
  "language_info": {
   "file_extension": ".js",
   "mimetype": "application/javascript",
   "name": "javascript",
   "version": "18.16.0"
  },
  "toc": {
   "base_numbering": 1,
   "nav_menu": {},
   "number_sections": false,
   "sideBar": true,
   "skip_h1_title": false,
   "title_cell": "Table of Contents",
   "title_sidebar": "Contents",
   "toc_cell": false,
   "toc_position": {},
   "toc_section_display": true,
   "toc_window_display": false
  }
 },
 "nbformat": 4,
 "nbformat_minor": 5
}
