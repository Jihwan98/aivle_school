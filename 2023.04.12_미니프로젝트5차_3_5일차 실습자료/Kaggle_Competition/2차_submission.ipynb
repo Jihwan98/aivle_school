{
 "cells": [
  {
   "attachments": {},
   "cell_type": "markdown",
   "metadata": {},
   "source": [
    "# 2차 Submission\n",
    "전처리\n",
    "- Min Max Scaling\n",
    "\n",
    "PyCaret 결과 바탕\n",
    "\n",
    "- model1 : 정적 동적 구분 () - Extra Trees Classifier\n",
    "- model2-1 : 정적으로 구분한 것을 세부 Class 분류 - LGBM\n",
    "- model2-1 : 동적으로 구분한 것을 세부 Class 분류 - LGBM"
   ]
  },
  {
   "attachments": {},
   "cell_type": "markdown",
   "metadata": {},
   "source": [
    "# 데이터 확인"
   ]
  },
  {
   "cell_type": "code",
   "execution_count": 41,
   "metadata": {},
   "outputs": [],
   "source": [
    "# library import\n",
    "import pandas as pd\n",
    "import numpy as np\n",
    "import matplotlib.pyplot as plt\n",
    "import seaborn as sns"
   ]
  },
  {
   "cell_type": "code",
   "execution_count": 42,
   "metadata": {},
   "outputs": [],
   "source": [
    "import tensorflow as tf\n",
    "import numpy as np\n",
    "import random\n",
    "import os\n",
    "\n",
    "def my_seed_everywhere(seed: int = 42):\n",
    "    random.seed(seed) # random\n",
    "    np.random.seed(seed) # np\n",
    "    os.environ[\"PYTHONHASHSEED\"] = str(seed) # os\n",
    "    tf.random.set_seed(seed) # tensorflow\n",
    "\n",
    "my_seed = 42\n",
    "my_seed_everywhere(my_seed)"
   ]
  },
  {
   "cell_type": "code",
   "execution_count": 43,
   "metadata": {},
   "outputs": [
    {
     "data": {
      "text/plain": [
       "((5881, 52), (1471, 50))"
      ]
     },
     "execution_count": 43,
     "metadata": {},
     "output_type": "execute_result"
    }
   ],
   "source": [
    "# data 확인\n",
    "train_path = 'data/train_dataset.csv'\n",
    "test_path = 'data/test_dataset.csv'\n",
    "\n",
    "train_data = pd.read_csv(train_path)\n",
    "x_test = pd.read_csv(test_path)\n",
    "\n",
    "train_data.shape, x_test.shape"
   ]
  },
  {
   "cell_type": "code",
   "execution_count": 44,
   "metadata": {},
   "outputs": [],
   "source": [
    "from sklearn.preprocessing import MinMaxScaler\n",
    "mm_scaler = MinMaxScaler()\n",
    "temp_x = train_data.drop(['Activity', 'Activity_dynamic'], axis=1)\n",
    "temp_x = mm_scaler.fit_transform(temp_x)\n",
    "\n",
    "temp_x = pd.DataFrame(temp_x, columns=[list(train_data)[:-2]])\n",
    "temp_y = train_data[['Activity', 'Activity_dynamic']]\n",
    "\n",
    "train_data = pd.concat([temp_x, temp_y], axis=1, join='outer')"
   ]
  },
  {
   "cell_type": "code",
   "execution_count": 45,
   "metadata": {},
   "outputs": [
    {
     "data": {
      "text/html": [
       "<div>\n",
       "<style scoped>\n",
       "    .dataframe tbody tr th:only-of-type {\n",
       "        vertical-align: middle;\n",
       "    }\n",
       "\n",
       "    .dataframe tbody tr th {\n",
       "        vertical-align: top;\n",
       "    }\n",
       "\n",
       "    .dataframe thead th {\n",
       "        text-align: right;\n",
       "    }\n",
       "</style>\n",
       "<table border=\"1\" class=\"dataframe\">\n",
       "  <thead>\n",
       "    <tr style=\"text-align: right;\">\n",
       "      <th></th>\n",
       "      <th>(tBodyAcc-mean()-Z,)</th>\n",
       "      <th>(tBodyAcc-arCoeff()-X,2,)</th>\n",
       "      <th>(tBodyAcc-arCoeff()-Y,1,)</th>\n",
       "      <th>(tBodyAccJerk-mean()-X,)</th>\n",
       "      <th>(tBodyAccJerk-mean()-Y,)</th>\n",
       "      <th>(tBodyAccJerk-arCoeff()-X,2,)</th>\n",
       "      <th>(tBodyAccJerk-arCoeff()-Y,1,)</th>\n",
       "      <th>(tBodyAccJerk-arCoeff()-Y,3,)</th>\n",
       "      <th>(tBodyAccJerk-arCoeff()-Z,1,)</th>\n",
       "      <th>(tBodyGyro-arCoeff()-Z,3,)</th>\n",
       "      <th>...</th>\n",
       "      <th>(fBodyGyro-min()-Y,)</th>\n",
       "      <th>(fBodyGyro-bandsEnergy()-49,64.1,)</th>\n",
       "      <th>(fBodyBodyAccJerkMag-iqr(),)</th>\n",
       "      <th>(fBodyBodyAccJerkMag-entropy(),)</th>\n",
       "      <th>(fBodyBodyGyroMag-mean(),)</th>\n",
       "      <th>(fBodyBodyGyroJerkMag-min(),)</th>\n",
       "      <th>(fBodyBodyGyroJerkMag-meanFreq(),)</th>\n",
       "      <th>(angle(tBodyAccMean,gravity),)</th>\n",
       "      <th>Activity</th>\n",
       "      <th>Activity_dynamic</th>\n",
       "    </tr>\n",
       "  </thead>\n",
       "  <tbody>\n",
       "    <tr>\n",
       "      <th>0</th>\n",
       "      <td>0.448319</td>\n",
       "      <td>0.447229</td>\n",
       "      <td>0.445396</td>\n",
       "      <td>0.534292</td>\n",
       "      <td>0.492843</td>\n",
       "      <td>0.614582</td>\n",
       "      <td>0.463167</td>\n",
       "      <td>0.568554</td>\n",
       "      <td>0.489135</td>\n",
       "      <td>0.668398</td>\n",
       "      <td>...</td>\n",
       "      <td>0.001889</td>\n",
       "      <td>0.000015</td>\n",
       "      <td>0.007181</td>\n",
       "      <td>0.000000</td>\n",
       "      <td>0.012283</td>\n",
       "      <td>0.003018</td>\n",
       "      <td>0.488133</td>\n",
       "      <td>0.472577</td>\n",
       "      <td>STANDING</td>\n",
       "      <td>4</td>\n",
       "    </tr>\n",
       "    <tr>\n",
       "      <th>1</th>\n",
       "      <td>0.450918</td>\n",
       "      <td>0.469018</td>\n",
       "      <td>0.732382</td>\n",
       "      <td>0.537974</td>\n",
       "      <td>0.502228</td>\n",
       "      <td>0.579566</td>\n",
       "      <td>0.700956</td>\n",
       "      <td>0.772599</td>\n",
       "      <td>0.525651</td>\n",
       "      <td>0.745015</td>\n",
       "      <td>...</td>\n",
       "      <td>0.004077</td>\n",
       "      <td>0.000030</td>\n",
       "      <td>0.005260</td>\n",
       "      <td>0.000000</td>\n",
       "      <td>0.010733</td>\n",
       "      <td>0.002633</td>\n",
       "      <td>0.375973</td>\n",
       "      <td>0.462253</td>\n",
       "      <td>LAYING</td>\n",
       "      <td>3</td>\n",
       "    </tr>\n",
       "    <tr>\n",
       "      <th>2</th>\n",
       "      <td>0.445641</td>\n",
       "      <td>0.379275</td>\n",
       "      <td>0.650582</td>\n",
       "      <td>0.539765</td>\n",
       "      <td>0.507252</td>\n",
       "      <td>0.569840</td>\n",
       "      <td>0.631778</td>\n",
       "      <td>0.798220</td>\n",
       "      <td>0.682830</td>\n",
       "      <td>0.554287</td>\n",
       "      <td>...</td>\n",
       "      <td>0.000014</td>\n",
       "      <td>0.000012</td>\n",
       "      <td>0.003983</td>\n",
       "      <td>0.000000</td>\n",
       "      <td>0.004024</td>\n",
       "      <td>0.003900</td>\n",
       "      <td>0.708258</td>\n",
       "      <td>0.494210</td>\n",
       "      <td>STANDING</td>\n",
       "      <td>4</td>\n",
       "    </tr>\n",
       "    <tr>\n",
       "      <th>3</th>\n",
       "      <td>0.424823</td>\n",
       "      <td>0.778998</td>\n",
       "      <td>0.307941</td>\n",
       "      <td>0.345245</td>\n",
       "      <td>0.399354</td>\n",
       "      <td>0.723856</td>\n",
       "      <td>0.313690</td>\n",
       "      <td>0.658070</td>\n",
       "      <td>0.384665</td>\n",
       "      <td>0.120890</td>\n",
       "      <td>...</td>\n",
       "      <td>0.068815</td>\n",
       "      <td>0.015335</td>\n",
       "      <td>0.306143</td>\n",
       "      <td>0.661630</td>\n",
       "      <td>0.260205</td>\n",
       "      <td>0.055387</td>\n",
       "      <td>0.531583</td>\n",
       "      <td>0.365002</td>\n",
       "      <td>WALKING</td>\n",
       "      <td>0</td>\n",
       "    </tr>\n",
       "    <tr>\n",
       "      <th>4</th>\n",
       "      <td>0.545615</td>\n",
       "      <td>0.448901</td>\n",
       "      <td>0.194603</td>\n",
       "      <td>0.792106</td>\n",
       "      <td>0.366592</td>\n",
       "      <td>0.385231</td>\n",
       "      <td>0.185574</td>\n",
       "      <td>0.559455</td>\n",
       "      <td>0.394503</td>\n",
       "      <td>0.329348</td>\n",
       "      <td>...</td>\n",
       "      <td>0.022235</td>\n",
       "      <td>0.004854</td>\n",
       "      <td>0.389366</td>\n",
       "      <td>0.723193</td>\n",
       "      <td>0.283317</td>\n",
       "      <td>0.094777</td>\n",
       "      <td>0.497705</td>\n",
       "      <td>0.471641</td>\n",
       "      <td>WALKING_DOWNSTAIRS</td>\n",
       "      <td>2</td>\n",
       "    </tr>\n",
       "    <tr>\n",
       "      <th>...</th>\n",
       "      <td>...</td>\n",
       "      <td>...</td>\n",
       "      <td>...</td>\n",
       "      <td>...</td>\n",
       "      <td>...</td>\n",
       "      <td>...</td>\n",
       "      <td>...</td>\n",
       "      <td>...</td>\n",
       "      <td>...</td>\n",
       "      <td>...</td>\n",
       "      <td>...</td>\n",
       "      <td>...</td>\n",
       "      <td>...</td>\n",
       "      <td>...</td>\n",
       "      <td>...</td>\n",
       "      <td>...</td>\n",
       "      <td>...</td>\n",
       "      <td>...</td>\n",
       "      <td>...</td>\n",
       "      <td>...</td>\n",
       "      <td>...</td>\n",
       "    </tr>\n",
       "    <tr>\n",
       "      <th>5876</th>\n",
       "      <td>0.434013</td>\n",
       "      <td>0.465618</td>\n",
       "      <td>0.500220</td>\n",
       "      <td>0.541196</td>\n",
       "      <td>0.495633</td>\n",
       "      <td>0.605125</td>\n",
       "      <td>0.520506</td>\n",
       "      <td>0.599205</td>\n",
       "      <td>0.518822</td>\n",
       "      <td>0.701988</td>\n",
       "      <td>...</td>\n",
       "      <td>0.001122</td>\n",
       "      <td>0.000016</td>\n",
       "      <td>0.006037</td>\n",
       "      <td>0.000000</td>\n",
       "      <td>0.009441</td>\n",
       "      <td>0.008118</td>\n",
       "      <td>0.532643</td>\n",
       "      <td>0.476425</td>\n",
       "      <td>SITTING</td>\n",
       "      <td>5</td>\n",
       "    </tr>\n",
       "    <tr>\n",
       "      <th>5877</th>\n",
       "      <td>0.447413</td>\n",
       "      <td>0.637774</td>\n",
       "      <td>0.404305</td>\n",
       "      <td>0.445851</td>\n",
       "      <td>0.525288</td>\n",
       "      <td>0.599053</td>\n",
       "      <td>0.343252</td>\n",
       "      <td>0.476330</td>\n",
       "      <td>0.515924</td>\n",
       "      <td>0.352664</td>\n",
       "      <td>...</td>\n",
       "      <td>0.027155</td>\n",
       "      <td>0.008789</td>\n",
       "      <td>0.219126</td>\n",
       "      <td>0.620684</td>\n",
       "      <td>0.292391</td>\n",
       "      <td>0.077277</td>\n",
       "      <td>0.675157</td>\n",
       "      <td>0.859210</td>\n",
       "      <td>WALKING_UPSTAIRS</td>\n",
       "      <td>1</td>\n",
       "    </tr>\n",
       "    <tr>\n",
       "      <th>5878</th>\n",
       "      <td>0.446280</td>\n",
       "      <td>0.483090</td>\n",
       "      <td>0.703809</td>\n",
       "      <td>0.535371</td>\n",
       "      <td>0.505674</td>\n",
       "      <td>0.626798</td>\n",
       "      <td>0.629726</td>\n",
       "      <td>0.764954</td>\n",
       "      <td>0.616595</td>\n",
       "      <td>0.566344</td>\n",
       "      <td>...</td>\n",
       "      <td>0.001014</td>\n",
       "      <td>0.000040</td>\n",
       "      <td>0.004909</td>\n",
       "      <td>0.000000</td>\n",
       "      <td>0.004274</td>\n",
       "      <td>0.005484</td>\n",
       "      <td>0.694492</td>\n",
       "      <td>0.524518</td>\n",
       "      <td>LAYING</td>\n",
       "      <td>3</td>\n",
       "    </tr>\n",
       "    <tr>\n",
       "      <th>5879</th>\n",
       "      <td>0.439500</td>\n",
       "      <td>0.849437</td>\n",
       "      <td>0.196991</td>\n",
       "      <td>0.457078</td>\n",
       "      <td>0.480402</td>\n",
       "      <td>0.768843</td>\n",
       "      <td>0.185966</td>\n",
       "      <td>0.683271</td>\n",
       "      <td>0.499931</td>\n",
       "      <td>0.368673</td>\n",
       "      <td>...</td>\n",
       "      <td>0.173878</td>\n",
       "      <td>0.029745</td>\n",
       "      <td>0.267051</td>\n",
       "      <td>0.661701</td>\n",
       "      <td>0.247838</td>\n",
       "      <td>0.066003</td>\n",
       "      <td>0.521662</td>\n",
       "      <td>0.626061</td>\n",
       "      <td>WALKING_UPSTAIRS</td>\n",
       "      <td>1</td>\n",
       "    </tr>\n",
       "    <tr>\n",
       "      <th>5880</th>\n",
       "      <td>0.430991</td>\n",
       "      <td>0.354189</td>\n",
       "      <td>0.420685</td>\n",
       "      <td>0.539778</td>\n",
       "      <td>0.440272</td>\n",
       "      <td>0.526928</td>\n",
       "      <td>0.474411</td>\n",
       "      <td>0.571358</td>\n",
       "      <td>0.603049</td>\n",
       "      <td>0.746228</td>\n",
       "      <td>...</td>\n",
       "      <td>0.051918</td>\n",
       "      <td>0.001342</td>\n",
       "      <td>0.010123</td>\n",
       "      <td>0.000000</td>\n",
       "      <td>0.025042</td>\n",
       "      <td>0.005950</td>\n",
       "      <td>0.747095</td>\n",
       "      <td>0.548559</td>\n",
       "      <td>SITTING</td>\n",
       "      <td>5</td>\n",
       "    </tr>\n",
       "  </tbody>\n",
       "</table>\n",
       "<p>5881 rows × 52 columns</p>\n",
       "</div>"
      ],
      "text/plain": [
       "      (tBodyAcc-mean()-Z,)  (tBodyAcc-arCoeff()-X,2,)  \\\n",
       "0                 0.448319                   0.447229   \n",
       "1                 0.450918                   0.469018   \n",
       "2                 0.445641                   0.379275   \n",
       "3                 0.424823                   0.778998   \n",
       "4                 0.545615                   0.448901   \n",
       "...                    ...                        ...   \n",
       "5876              0.434013                   0.465618   \n",
       "5877              0.447413                   0.637774   \n",
       "5878              0.446280                   0.483090   \n",
       "5879              0.439500                   0.849437   \n",
       "5880              0.430991                   0.354189   \n",
       "\n",
       "      (tBodyAcc-arCoeff()-Y,1,)  (tBodyAccJerk-mean()-X,)  \\\n",
       "0                      0.445396                  0.534292   \n",
       "1                      0.732382                  0.537974   \n",
       "2                      0.650582                  0.539765   \n",
       "3                      0.307941                  0.345245   \n",
       "4                      0.194603                  0.792106   \n",
       "...                         ...                       ...   \n",
       "5876                   0.500220                  0.541196   \n",
       "5877                   0.404305                  0.445851   \n",
       "5878                   0.703809                  0.535371   \n",
       "5879                   0.196991                  0.457078   \n",
       "5880                   0.420685                  0.539778   \n",
       "\n",
       "      (tBodyAccJerk-mean()-Y,)  (tBodyAccJerk-arCoeff()-X,2,)  \\\n",
       "0                     0.492843                       0.614582   \n",
       "1                     0.502228                       0.579566   \n",
       "2                     0.507252                       0.569840   \n",
       "3                     0.399354                       0.723856   \n",
       "4                     0.366592                       0.385231   \n",
       "...                        ...                            ...   \n",
       "5876                  0.495633                       0.605125   \n",
       "5877                  0.525288                       0.599053   \n",
       "5878                  0.505674                       0.626798   \n",
       "5879                  0.480402                       0.768843   \n",
       "5880                  0.440272                       0.526928   \n",
       "\n",
       "      (tBodyAccJerk-arCoeff()-Y,1,)  (tBodyAccJerk-arCoeff()-Y,3,)  \\\n",
       "0                          0.463167                       0.568554   \n",
       "1                          0.700956                       0.772599   \n",
       "2                          0.631778                       0.798220   \n",
       "3                          0.313690                       0.658070   \n",
       "4                          0.185574                       0.559455   \n",
       "...                             ...                            ...   \n",
       "5876                       0.520506                       0.599205   \n",
       "5877                       0.343252                       0.476330   \n",
       "5878                       0.629726                       0.764954   \n",
       "5879                       0.185966                       0.683271   \n",
       "5880                       0.474411                       0.571358   \n",
       "\n",
       "      (tBodyAccJerk-arCoeff()-Z,1,)  (tBodyGyro-arCoeff()-Z,3,)  ...  \\\n",
       "0                          0.489135                    0.668398  ...   \n",
       "1                          0.525651                    0.745015  ...   \n",
       "2                          0.682830                    0.554287  ...   \n",
       "3                          0.384665                    0.120890  ...   \n",
       "4                          0.394503                    0.329348  ...   \n",
       "...                             ...                         ...  ...   \n",
       "5876                       0.518822                    0.701988  ...   \n",
       "5877                       0.515924                    0.352664  ...   \n",
       "5878                       0.616595                    0.566344  ...   \n",
       "5879                       0.499931                    0.368673  ...   \n",
       "5880                       0.603049                    0.746228  ...   \n",
       "\n",
       "      (fBodyGyro-min()-Y,)  (fBodyGyro-bandsEnergy()-49,64.1,)  \\\n",
       "0                 0.001889                            0.000015   \n",
       "1                 0.004077                            0.000030   \n",
       "2                 0.000014                            0.000012   \n",
       "3                 0.068815                            0.015335   \n",
       "4                 0.022235                            0.004854   \n",
       "...                    ...                                 ...   \n",
       "5876              0.001122                            0.000016   \n",
       "5877              0.027155                            0.008789   \n",
       "5878              0.001014                            0.000040   \n",
       "5879              0.173878                            0.029745   \n",
       "5880              0.051918                            0.001342   \n",
       "\n",
       "      (fBodyBodyAccJerkMag-iqr(),)  (fBodyBodyAccJerkMag-entropy(),)  \\\n",
       "0                         0.007181                          0.000000   \n",
       "1                         0.005260                          0.000000   \n",
       "2                         0.003983                          0.000000   \n",
       "3                         0.306143                          0.661630   \n",
       "4                         0.389366                          0.723193   \n",
       "...                            ...                               ...   \n",
       "5876                      0.006037                          0.000000   \n",
       "5877                      0.219126                          0.620684   \n",
       "5878                      0.004909                          0.000000   \n",
       "5879                      0.267051                          0.661701   \n",
       "5880                      0.010123                          0.000000   \n",
       "\n",
       "      (fBodyBodyGyroMag-mean(),)  (fBodyBodyGyroJerkMag-min(),)  \\\n",
       "0                       0.012283                       0.003018   \n",
       "1                       0.010733                       0.002633   \n",
       "2                       0.004024                       0.003900   \n",
       "3                       0.260205                       0.055387   \n",
       "4                       0.283317                       0.094777   \n",
       "...                          ...                            ...   \n",
       "5876                    0.009441                       0.008118   \n",
       "5877                    0.292391                       0.077277   \n",
       "5878                    0.004274                       0.005484   \n",
       "5879                    0.247838                       0.066003   \n",
       "5880                    0.025042                       0.005950   \n",
       "\n",
       "      (fBodyBodyGyroJerkMag-meanFreq(),)  (angle(tBodyAccMean,gravity),)  \\\n",
       "0                               0.488133                        0.472577   \n",
       "1                               0.375973                        0.462253   \n",
       "2                               0.708258                        0.494210   \n",
       "3                               0.531583                        0.365002   \n",
       "4                               0.497705                        0.471641   \n",
       "...                                  ...                             ...   \n",
       "5876                            0.532643                        0.476425   \n",
       "5877                            0.675157                        0.859210   \n",
       "5878                            0.694492                        0.524518   \n",
       "5879                            0.521662                        0.626061   \n",
       "5880                            0.747095                        0.548559   \n",
       "\n",
       "                Activity  Activity_dynamic  \n",
       "0               STANDING                 4  \n",
       "1                 LAYING                 3  \n",
       "2               STANDING                 4  \n",
       "3                WALKING                 0  \n",
       "4     WALKING_DOWNSTAIRS                 2  \n",
       "...                  ...               ...  \n",
       "5876             SITTING                 5  \n",
       "5877    WALKING_UPSTAIRS                 1  \n",
       "5878              LAYING                 3  \n",
       "5879    WALKING_UPSTAIRS                 1  \n",
       "5880             SITTING                 5  \n",
       "\n",
       "[5881 rows x 52 columns]"
      ]
     },
     "execution_count": 45,
     "metadata": {},
     "output_type": "execute_result"
    }
   ],
   "source": [
    "train_data"
   ]
  },
  {
   "cell_type": "code",
   "execution_count": 46,
   "metadata": {},
   "outputs": [
    {
     "data": {
      "text/plain": [
       "{'LAYING': 3,\n",
       " 'SITTING': 5,\n",
       " 'STANDING': 4,\n",
       " 'WALKING': 0,\n",
       " 'WALKING_DOWNSTAIRS': 2,\n",
       " 'WALKING_UPSTAIRS': 1}"
      ]
     },
     "execution_count": 46,
     "metadata": {},
     "output_type": "execute_result"
    }
   ],
   "source": [
    "dict(train_data.groupby(['Activity', 'Activity_dynamic']).count().index)"
   ]
  },
  {
   "attachments": {},
   "cell_type": "markdown",
   "metadata": {},
   "source": [
    "- Dynamic : 0, 1, 2 (WALKING, WALKING_UPSTAIRS, WALKING_DOWNSTAIRS)\n",
    "- Static : 3, 4, 5 (LAYING, STANDING, SITTING)"
   ]
  },
  {
   "cell_type": "code",
   "execution_count": 47,
   "metadata": {},
   "outputs": [
    {
     "name": "stdout",
     "output_type": "stream",
     "text": [
      "<class 'pandas.core.frame.DataFrame'>\n",
      "RangeIndex: 5881 entries, 0 to 5880\n",
      "Data columns (total 52 columns):\n",
      " #   Column                                 Non-Null Count  Dtype  \n",
      "---  ------                                 --------------  -----  \n",
      " 0   (tBodyAcc-mean()-Z,)                   5881 non-null   float64\n",
      " 1   (tBodyAcc-arCoeff()-X,2,)              5881 non-null   float64\n",
      " 2   (tBodyAcc-arCoeff()-Y,1,)              5881 non-null   float64\n",
      " 3   (tBodyAccJerk-mean()-X,)               5881 non-null   float64\n",
      " 4   (tBodyAccJerk-mean()-Y,)               5881 non-null   float64\n",
      " 5   (tBodyAccJerk-arCoeff()-X,2,)          5881 non-null   float64\n",
      " 6   (tBodyAccJerk-arCoeff()-Y,1,)          5881 non-null   float64\n",
      " 7   (tBodyAccJerk-arCoeff()-Y,3,)          5881 non-null   float64\n",
      " 8   (tBodyAccJerk-arCoeff()-Z,1,)          5881 non-null   float64\n",
      " 9   (tBodyGyro-arCoeff()-Z,3,)             5881 non-null   float64\n",
      " 10  (tBodyGyroJerk-mean()-Y,)              5881 non-null   float64\n",
      " 11  (tBodyGyroJerk-max()-Y,)               5881 non-null   float64\n",
      " 12  (tBodyGyroJerk-arCoeff()-Y,3,)         5881 non-null   float64\n",
      " 13  (tBodyGyroJerk-arCoeff()-Z,2,)         5881 non-null   float64\n",
      " 14  (tBodyGyroJerk-arCoeff()-Z,3,)         5881 non-null   float64\n",
      " 15  (tBodyAccMag-min(),)                   5881 non-null   float64\n",
      " 16  (tGravityAccMag-arCoeff()3,)           5881 non-null   float64\n",
      " 17  (tBodyAccJerkMag-min(),)               5881 non-null   float64\n",
      " 18  (tBodyGyroMag-std(),)                  5881 non-null   float64\n",
      " 19  (tBodyGyroMag-energy(),)               5881 non-null   float64\n",
      " 20  (tBodyGyroJerkMag-arCoeff()3,)         5881 non-null   float64\n",
      " 21  (fBodyAcc-min()-X,)                    5881 non-null   float64\n",
      " 22  (fBodyAcc-min()-Z,)                    5881 non-null   float64\n",
      " 23  (fBodyAcc-maxInds-X,)                  5881 non-null   float64\n",
      " 24  (fBodyAcc-maxInds-Z,)                  5881 non-null   float64\n",
      " 25  (fBodyAcc-bandsEnergy()-25,32,)        5881 non-null   float64\n",
      " 26  (fBodyAcc-bandsEnergy()-57,64,)        5881 non-null   float64\n",
      " 27  (fBodyAcc-bandsEnergy()-25,32.1,)      5881 non-null   float64\n",
      " 28  (fBodyAcc-bandsEnergy()-41,48.1,)      5881 non-null   float64\n",
      " 29  (fBodyAcc-bandsEnergy()-25,48.1,)      5881 non-null   float64\n",
      " 30  (fBodyAcc-bandsEnergy()-49,56.2,)      5881 non-null   float64\n",
      " 31  (fBodyAcc-bandsEnergy()-49,64.2,)      5881 non-null   float64\n",
      " 32  (fBodyAccJerk-min()-Y,)                5881 non-null   float64\n",
      " 33  (fBodyAccJerk-min()-Z,)                5881 non-null   float64\n",
      " 34  (fBodyAccJerk-skewness()-X,)           5881 non-null   float64\n",
      " 35  (fBodyAccJerk-skewness()-Z,)           5881 non-null   float64\n",
      " 36  (fBodyAccJerk-bandsEnergy()-57,64,)    5881 non-null   float64\n",
      " 37  (fBodyAccJerk-bandsEnergy()-49,64,)    5881 non-null   float64\n",
      " 38  (fBodyAccJerk-bandsEnergy()-25,48,)    5881 non-null   float64\n",
      " 39  (fBodyAccJerk-bandsEnergy()-49,64.1,)  5881 non-null   float64\n",
      " 40  (fBodyAccJerk-bandsEnergy()-41,48.2,)  5881 non-null   float64\n",
      " 41  (fBodyAccJerk-bandsEnergy()-49,64.2,)  5881 non-null   float64\n",
      " 42  (fBodyGyro-min()-Y,)                   5881 non-null   float64\n",
      " 43  (fBodyGyro-bandsEnergy()-49,64.1,)     5881 non-null   float64\n",
      " 44  (fBodyBodyAccJerkMag-iqr(),)           5881 non-null   float64\n",
      " 45  (fBodyBodyAccJerkMag-entropy(),)       5881 non-null   float64\n",
      " 46  (fBodyBodyGyroMag-mean(),)             5881 non-null   float64\n",
      " 47  (fBodyBodyGyroJerkMag-min(),)          5881 non-null   float64\n",
      " 48  (fBodyBodyGyroJerkMag-meanFreq(),)     5881 non-null   float64\n",
      " 49  (angle(tBodyAccMean,gravity),)         5881 non-null   float64\n",
      " 50  Activity                               5881 non-null   object \n",
      " 51  Activity_dynamic                       5881 non-null   int64  \n",
      "dtypes: float64(50), int64(1), object(1)\n",
      "memory usage: 2.3+ MB\n"
     ]
    }
   ],
   "source": [
    "train_data.info()"
   ]
  },
  {
   "cell_type": "code",
   "execution_count": 48,
   "metadata": {},
   "outputs": [
    {
     "data": {
      "text/plain": [
       "0"
      ]
     },
     "execution_count": 48,
     "metadata": {},
     "output_type": "execute_result"
    }
   ],
   "source": [
    "# 결측치는 없음\n",
    "train_data.isnull().sum().sum()"
   ]
  },
  {
   "cell_type": "code",
   "execution_count": 49,
   "metadata": {},
   "outputs": [
    {
     "data": {
      "text/html": [
       "<div>\n",
       "<style scoped>\n",
       "    .dataframe tbody tr th:only-of-type {\n",
       "        vertical-align: middle;\n",
       "    }\n",
       "\n",
       "    .dataframe tbody tr th {\n",
       "        vertical-align: top;\n",
       "    }\n",
       "\n",
       "    .dataframe thead th {\n",
       "        text-align: right;\n",
       "    }\n",
       "</style>\n",
       "<table border=\"1\" class=\"dataframe\">\n",
       "  <thead>\n",
       "    <tr style=\"text-align: right;\">\n",
       "      <th></th>\n",
       "      <th>(tBodyAcc-mean()-Z,)</th>\n",
       "      <th>(tBodyAcc-arCoeff()-X,2,)</th>\n",
       "      <th>(tBodyAcc-arCoeff()-Y,1,)</th>\n",
       "      <th>(tBodyAccJerk-mean()-X,)</th>\n",
       "      <th>(tBodyAccJerk-mean()-Y,)</th>\n",
       "      <th>(tBodyAccJerk-arCoeff()-X,2,)</th>\n",
       "      <th>(tBodyAccJerk-arCoeff()-Y,1,)</th>\n",
       "      <th>(tBodyAccJerk-arCoeff()-Y,3,)</th>\n",
       "      <th>(tBodyAccJerk-arCoeff()-Z,1,)</th>\n",
       "      <th>(tBodyGyro-arCoeff()-Z,3,)</th>\n",
       "      <th>...</th>\n",
       "      <th>(fBodyAccJerk-bandsEnergy()-41,48.2,)</th>\n",
       "      <th>(fBodyAccJerk-bandsEnergy()-49,64.2,)</th>\n",
       "      <th>(fBodyGyro-min()-Y,)</th>\n",
       "      <th>(fBodyGyro-bandsEnergy()-49,64.1,)</th>\n",
       "      <th>(fBodyBodyAccJerkMag-iqr(),)</th>\n",
       "      <th>(fBodyBodyAccJerkMag-entropy(),)</th>\n",
       "      <th>(fBodyBodyGyroMag-mean(),)</th>\n",
       "      <th>(fBodyBodyGyroJerkMag-min(),)</th>\n",
       "      <th>(fBodyBodyGyroJerkMag-meanFreq(),)</th>\n",
       "      <th>(angle(tBodyAccMean,gravity),)</th>\n",
       "    </tr>\n",
       "  </thead>\n",
       "  <tbody>\n",
       "    <tr>\n",
       "      <th>count</th>\n",
       "      <td>5881.000000</td>\n",
       "      <td>5881.000000</td>\n",
       "      <td>5881.000000</td>\n",
       "      <td>5881.000000</td>\n",
       "      <td>5881.000000</td>\n",
       "      <td>5881.000000</td>\n",
       "      <td>5881.000000</td>\n",
       "      <td>5881.000000</td>\n",
       "      <td>5881.000000</td>\n",
       "      <td>5881.000000</td>\n",
       "      <td>...</td>\n",
       "      <td>5881.000000</td>\n",
       "      <td>5881.000000</td>\n",
       "      <td>5881.000000</td>\n",
       "      <td>5881.000000</td>\n",
       "      <td>5881.000000</td>\n",
       "      <td>5881.000000</td>\n",
       "      <td>5881.000000</td>\n",
       "      <td>5881.000000</td>\n",
       "      <td>5881.000000</td>\n",
       "      <td>5881.000000</td>\n",
       "    </tr>\n",
       "    <tr>\n",
       "      <th>mean</th>\n",
       "      <td>0.445302</td>\n",
       "      <td>0.549642</td>\n",
       "      <td>0.486995</td>\n",
       "      <td>0.540150</td>\n",
       "      <td>0.504088</td>\n",
       "      <td>0.596383</td>\n",
       "      <td>0.465111</td>\n",
       "      <td>0.598993</td>\n",
       "      <td>0.503638</td>\n",
       "      <td>0.484260</td>\n",
       "      <td>...</td>\n",
       "      <td>0.031074</td>\n",
       "      <td>0.035488</td>\n",
       "      <td>0.056127</td>\n",
       "      <td>0.022832</td>\n",
       "      <td>0.161209</td>\n",
       "      <td>0.328278</td>\n",
       "      <td>0.153425</td>\n",
       "      <td>0.064533</td>\n",
       "      <td>0.571358</td>\n",
       "      <td>0.498388</td>\n",
       "    </tr>\n",
       "    <tr>\n",
       "      <th>std</th>\n",
       "      <td>0.029186</td>\n",
       "      <td>0.127291</td>\n",
       "      <td>0.128560</td>\n",
       "      <td>0.090797</td>\n",
       "      <td>0.081056</td>\n",
       "      <td>0.099225</td>\n",
       "      <td>0.135519</td>\n",
       "      <td>0.123236</td>\n",
       "      <td>0.143151</td>\n",
       "      <td>0.139160</td>\n",
       "      <td>...</td>\n",
       "      <td>0.063359</td>\n",
       "      <td>0.070521</td>\n",
       "      <td>0.088817</td>\n",
       "      <td>0.055502</td>\n",
       "      <td>0.185434</td>\n",
       "      <td>0.335165</td>\n",
       "      <td>0.166809</td>\n",
       "      <td>0.097154</td>\n",
       "      <td>0.130293</td>\n",
       "      <td>0.171878</td>\n",
       "    </tr>\n",
       "    <tr>\n",
       "      <th>min</th>\n",
       "      <td>0.000000</td>\n",
       "      <td>0.000000</td>\n",
       "      <td>0.000000</td>\n",
       "      <td>0.000000</td>\n",
       "      <td>0.000000</td>\n",
       "      <td>0.000000</td>\n",
       "      <td>0.000000</td>\n",
       "      <td>0.000000</td>\n",
       "      <td>0.000000</td>\n",
       "      <td>0.000000</td>\n",
       "      <td>...</td>\n",
       "      <td>0.000000</td>\n",
       "      <td>0.000000</td>\n",
       "      <td>0.000000</td>\n",
       "      <td>0.000000</td>\n",
       "      <td>0.000000</td>\n",
       "      <td>0.000000</td>\n",
       "      <td>0.000000</td>\n",
       "      <td>0.000000</td>\n",
       "      <td>0.000000</td>\n",
       "      <td>0.000000</td>\n",
       "    </tr>\n",
       "    <tr>\n",
       "      <th>25%</th>\n",
       "      <td>0.439475</td>\n",
       "      <td>0.454230</td>\n",
       "      <td>0.389460</td>\n",
       "      <td>0.532326</td>\n",
       "      <td>0.491932</td>\n",
       "      <td>0.533990</td>\n",
       "      <td>0.361119</td>\n",
       "      <td>0.519261</td>\n",
       "      <td>0.396143</td>\n",
       "      <td>0.386334</td>\n",
       "      <td>...</td>\n",
       "      <td>0.000207</td>\n",
       "      <td>0.000255</td>\n",
       "      <td>0.002822</td>\n",
       "      <td>0.000029</td>\n",
       "      <td>0.005275</td>\n",
       "      <td>0.000000</td>\n",
       "      <td>0.007975</td>\n",
       "      <td>0.003001</td>\n",
       "      <td>0.493674</td>\n",
       "      <td>0.432170</td>\n",
       "    </tr>\n",
       "    <tr>\n",
       "      <th>50%</th>\n",
       "      <td>0.445610</td>\n",
       "      <td>0.532824</td>\n",
       "      <td>0.479716</td>\n",
       "      <td>0.538005</td>\n",
       "      <td>0.505386</td>\n",
       "      <td>0.598533</td>\n",
       "      <td>0.458657</td>\n",
       "      <td>0.604008</td>\n",
       "      <td>0.515485</td>\n",
       "      <td>0.494535</td>\n",
       "      <td>...</td>\n",
       "      <td>0.000910</td>\n",
       "      <td>0.001092</td>\n",
       "      <td>0.014078</td>\n",
       "      <td>0.000843</td>\n",
       "      <td>0.025589</td>\n",
       "      <td>0.138179</td>\n",
       "      <td>0.058788</td>\n",
       "      <td>0.012356</td>\n",
       "      <td>0.574983</td>\n",
       "      <td>0.499276</td>\n",
       "    </tr>\n",
       "    <tr>\n",
       "      <th>75%</th>\n",
       "      <td>0.450918</td>\n",
       "      <td>0.639540</td>\n",
       "      <td>0.585024</td>\n",
       "      <td>0.546094</td>\n",
       "      <td>0.516232</td>\n",
       "      <td>0.658719</td>\n",
       "      <td>0.573614</td>\n",
       "      <td>0.685399</td>\n",
       "      <td>0.616141</td>\n",
       "      <td>0.587638</td>\n",
       "      <td>...</td>\n",
       "      <td>0.038213</td>\n",
       "      <td>0.042828</td>\n",
       "      <td>0.077809</td>\n",
       "      <td>0.022728</td>\n",
       "      <td>0.313094</td>\n",
       "      <td>0.674021</td>\n",
       "      <td>0.278998</td>\n",
       "      <td>0.096598</td>\n",
       "      <td>0.656062</td>\n",
       "      <td>0.572486</td>\n",
       "    </tr>\n",
       "    <tr>\n",
       "      <th>max</th>\n",
       "      <td>1.000000</td>\n",
       "      <td>1.000000</td>\n",
       "      <td>1.000000</td>\n",
       "      <td>1.000000</td>\n",
       "      <td>1.000000</td>\n",
       "      <td>1.000000</td>\n",
       "      <td>1.000000</td>\n",
       "      <td>1.000000</td>\n",
       "      <td>1.000000</td>\n",
       "      <td>1.000000</td>\n",
       "      <td>...</td>\n",
       "      <td>1.000000</td>\n",
       "      <td>1.000000</td>\n",
       "      <td>1.000000</td>\n",
       "      <td>1.000000</td>\n",
       "      <td>1.000000</td>\n",
       "      <td>1.000000</td>\n",
       "      <td>1.000000</td>\n",
       "      <td>1.000000</td>\n",
       "      <td>1.000000</td>\n",
       "      <td>1.000000</td>\n",
       "    </tr>\n",
       "  </tbody>\n",
       "</table>\n",
       "<p>8 rows × 50 columns</p>\n",
       "</div>"
      ],
      "text/plain": [
       "       (tBodyAcc-mean()-Z,)  (tBodyAcc-arCoeff()-X,2,)  \\\n",
       "count           5881.000000                5881.000000   \n",
       "mean               0.445302                   0.549642   \n",
       "std                0.029186                   0.127291   \n",
       "min                0.000000                   0.000000   \n",
       "25%                0.439475                   0.454230   \n",
       "50%                0.445610                   0.532824   \n",
       "75%                0.450918                   0.639540   \n",
       "max                1.000000                   1.000000   \n",
       "\n",
       "       (tBodyAcc-arCoeff()-Y,1,)  (tBodyAccJerk-mean()-X,)  \\\n",
       "count                5881.000000               5881.000000   \n",
       "mean                    0.486995                  0.540150   \n",
       "std                     0.128560                  0.090797   \n",
       "min                     0.000000                  0.000000   \n",
       "25%                     0.389460                  0.532326   \n",
       "50%                     0.479716                  0.538005   \n",
       "75%                     0.585024                  0.546094   \n",
       "max                     1.000000                  1.000000   \n",
       "\n",
       "       (tBodyAccJerk-mean()-Y,)  (tBodyAccJerk-arCoeff()-X,2,)  \\\n",
       "count               5881.000000                    5881.000000   \n",
       "mean                   0.504088                       0.596383   \n",
       "std                    0.081056                       0.099225   \n",
       "min                    0.000000                       0.000000   \n",
       "25%                    0.491932                       0.533990   \n",
       "50%                    0.505386                       0.598533   \n",
       "75%                    0.516232                       0.658719   \n",
       "max                    1.000000                       1.000000   \n",
       "\n",
       "       (tBodyAccJerk-arCoeff()-Y,1,)  (tBodyAccJerk-arCoeff()-Y,3,)  \\\n",
       "count                    5881.000000                    5881.000000   \n",
       "mean                        0.465111                       0.598993   \n",
       "std                         0.135519                       0.123236   \n",
       "min                         0.000000                       0.000000   \n",
       "25%                         0.361119                       0.519261   \n",
       "50%                         0.458657                       0.604008   \n",
       "75%                         0.573614                       0.685399   \n",
       "max                         1.000000                       1.000000   \n",
       "\n",
       "       (tBodyAccJerk-arCoeff()-Z,1,)  (tBodyGyro-arCoeff()-Z,3,)  ...  \\\n",
       "count                    5881.000000                 5881.000000  ...   \n",
       "mean                        0.503638                    0.484260  ...   \n",
       "std                         0.143151                    0.139160  ...   \n",
       "min                         0.000000                    0.000000  ...   \n",
       "25%                         0.396143                    0.386334  ...   \n",
       "50%                         0.515485                    0.494535  ...   \n",
       "75%                         0.616141                    0.587638  ...   \n",
       "max                         1.000000                    1.000000  ...   \n",
       "\n",
       "       (fBodyAccJerk-bandsEnergy()-41,48.2,)  \\\n",
       "count                            5881.000000   \n",
       "mean                                0.031074   \n",
       "std                                 0.063359   \n",
       "min                                 0.000000   \n",
       "25%                                 0.000207   \n",
       "50%                                 0.000910   \n",
       "75%                                 0.038213   \n",
       "max                                 1.000000   \n",
       "\n",
       "       (fBodyAccJerk-bandsEnergy()-49,64.2,)  (fBodyGyro-min()-Y,)  \\\n",
       "count                            5881.000000           5881.000000   \n",
       "mean                                0.035488              0.056127   \n",
       "std                                 0.070521              0.088817   \n",
       "min                                 0.000000              0.000000   \n",
       "25%                                 0.000255              0.002822   \n",
       "50%                                 0.001092              0.014078   \n",
       "75%                                 0.042828              0.077809   \n",
       "max                                 1.000000              1.000000   \n",
       "\n",
       "       (fBodyGyro-bandsEnergy()-49,64.1,)  (fBodyBodyAccJerkMag-iqr(),)  \\\n",
       "count                         5881.000000                   5881.000000   \n",
       "mean                             0.022832                      0.161209   \n",
       "std                              0.055502                      0.185434   \n",
       "min                              0.000000                      0.000000   \n",
       "25%                              0.000029                      0.005275   \n",
       "50%                              0.000843                      0.025589   \n",
       "75%                              0.022728                      0.313094   \n",
       "max                              1.000000                      1.000000   \n",
       "\n",
       "       (fBodyBodyAccJerkMag-entropy(),)  (fBodyBodyGyroMag-mean(),)  \\\n",
       "count                       5881.000000                 5881.000000   \n",
       "mean                           0.328278                    0.153425   \n",
       "std                            0.335165                    0.166809   \n",
       "min                            0.000000                    0.000000   \n",
       "25%                            0.000000                    0.007975   \n",
       "50%                            0.138179                    0.058788   \n",
       "75%                            0.674021                    0.278998   \n",
       "max                            1.000000                    1.000000   \n",
       "\n",
       "       (fBodyBodyGyroJerkMag-min(),)  (fBodyBodyGyroJerkMag-meanFreq(),)  \\\n",
       "count                    5881.000000                         5881.000000   \n",
       "mean                        0.064533                            0.571358   \n",
       "std                         0.097154                            0.130293   \n",
       "min                         0.000000                            0.000000   \n",
       "25%                         0.003001                            0.493674   \n",
       "50%                         0.012356                            0.574983   \n",
       "75%                         0.096598                            0.656062   \n",
       "max                         1.000000                            1.000000   \n",
       "\n",
       "       (angle(tBodyAccMean,gravity),)  \n",
       "count                     5881.000000  \n",
       "mean                         0.498388  \n",
       "std                          0.171878  \n",
       "min                          0.000000  \n",
       "25%                          0.432170  \n",
       "50%                          0.499276  \n",
       "75%                          0.572486  \n",
       "max                          1.000000  \n",
       "\n",
       "[8 rows x 50 columns]"
      ]
     },
     "execution_count": 49,
     "metadata": {},
     "output_type": "execute_result"
    }
   ],
   "source": [
    "temp = train_data.drop(['Activity', 'Activity_dynamic'], axis=1)\n",
    "temp.describe()"
   ]
  },
  {
   "cell_type": "code",
   "execution_count": 50,
   "metadata": {},
   "outputs": [
    {
     "data": {
      "text/plain": [
       "<Axes: >"
      ]
     },
     "execution_count": 50,
     "metadata": {},
     "output_type": "execute_result"
    },
    {
     "data": {
      "image/png": "[encoded data removed]",
      "text/plain": [
       "<Figure size 640x480 with 1 Axes>"
      ]
     },
     "metadata": {},
     "output_type": "display_data"
    }
   ],
   "source": [
    "temp.describe().loc[\"min\"].plot()"
   ]
  },
  {
   "cell_type": "code",
   "execution_count": 51,
   "metadata": {},
   "outputs": [
    {
     "data": {
      "text/plain": [
       "<Axes: >"
      ]
     },
     "execution_count": 51,
     "metadata": {},
     "output_type": "execute_result"
    },
    {
     "data": {
      "image/png": "[encoded data removed]",
      "text/plain": [
       "<Figure size 640x480 with 1 Axes>"
      ]
     },
     "metadata": {},
     "output_type": "display_data"
    }
   ],
   "source": [
    "temp.describe().loc[\"max\"].plot()"
   ]
  },
  {
   "cell_type": "code",
   "execution_count": 52,
   "metadata": {},
   "outputs": [],
   "source": [
    "# x, y 분리\n",
    "x = train_data.drop(['Activity', 'Activity_dynamic'], axis=1).values\n",
    "y = train_data['Activity_dynamic'].values"
   ]
  },
  {
   "attachments": {},
   "cell_type": "markdown",
   "metadata": {},
   "source": [
    "## Target 분포 확인"
   ]
  },
  {
   "cell_type": "code",
   "execution_count": 53,
   "metadata": {},
   "outputs": [
    {
     "data": {
      "text/plain": [
       "LAYING                1115\n",
       "STANDING              1087\n",
       "SITTING               1032\n",
       "WALKING                998\n",
       "WALKING_UPSTAIRS       858\n",
       "WALKING_DOWNSTAIRS     791\n",
       "Name: Activity, dtype: int64"
      ]
     },
     "execution_count": 53,
     "metadata": {},
     "output_type": "execute_result"
    }
   ],
   "source": [
    "train_data['Activity'].value_counts()"
   ]
  },
  {
   "cell_type": "code",
   "execution_count": 54,
   "metadata": {},
   "outputs": [
    {
     "data": {
      "text/plain": [
       "<Axes: >"
      ]
     },
     "execution_count": 54,
     "metadata": {},
     "output_type": "execute_result"
    },
    {
     "data": {
      "image/png": "[encoded data removed]",
      "text/plain": [
       "<Figure size 640x480 with 1 Axes>"
      ]
     },
     "metadata": {},
     "output_type": "display_data"
    }
   ],
   "source": [
    "train_data['Activity'].value_counts().plot(kind='barh')"
   ]
  },
  {
   "attachments": {},
   "cell_type": "markdown",
   "metadata": {},
   "source": [
    "- 분포가 살짝 불균형 함을 확인 -> SMOTE, BorderLineSMOTE 등을 사용해보자"
   ]
  },
  {
   "attachments": {},
   "cell_type": "markdown",
   "metadata": {},
   "source": [
    "# 모델링"
   ]
  },
  {
   "cell_type": "code",
   "execution_count": 55,
   "metadata": {},
   "outputs": [],
   "source": [
    "from sklearn.metrics import *\n",
    "from sklearn.model_selection import cross_val_score"
   ]
  },
  {
   "attachments": {},
   "cell_type": "markdown",
   "metadata": {},
   "source": [
    "## is_dynamic 분류\n",
    "- PyCaret 결과 : Extra Trees Classifier가 가장 좋았음"
   ]
  },
  {
   "cell_type": "code",
   "execution_count": 56,
   "metadata": {},
   "outputs": [
    {
     "data": {
      "text/plain": [
       "MultiIndex([(            'LAYING', 0),\n",
       "            (           'SITTING', 0),\n",
       "            (          'STANDING', 0),\n",
       "            (           'WALKING', 1),\n",
       "            ('WALKING_DOWNSTAIRS', 1),\n",
       "            (  'WALKING_UPSTAIRS', 1)],\n",
       "           names=['Activity', 'is_dynamic'])"
      ]
     },
     "execution_count": 56,
     "metadata": {},
     "output_type": "execute_result"
    }
   ],
   "source": [
    "train_data['is_dynamic'] = np.where(train_data['Activity_dynamic'] < 3, 1, 0)\n",
    "train_data.groupby(['Activity', 'is_dynamic']).count().index"
   ]
  },
  {
   "cell_type": "code",
   "execution_count": 57,
   "metadata": {},
   "outputs": [],
   "source": [
    "y_is_dy = train_data['is_dynamic'].values"
   ]
  },
  {
   "cell_type": "code",
   "execution_count": 58,
   "metadata": {},
   "outputs": [
    {
     "name": "stdout",
     "output_type": "stream",
     "text": [
      "[1.         0.99659864 1.         1.         1.         0.99829932\n",
      " 1.         0.99829932 1.         1.        ]\n",
      "평균: 0.9993197278911564\n",
      "표준편차: 0.0011281036701889027\n"
     ]
    }
   ],
   "source": [
    "from sklearn.ensemble import ExtraTreesClassifier\n",
    "\n",
    "my_seed_everywhere(42)\n",
    "model = ExtraTreesClassifier(bootstrap=False, ccp_alpha=0.0, class_weight=None,\n",
    "                     criterion='gini', max_depth=None, max_features='sqrt',\n",
    "                     max_leaf_nodes=None, max_samples=None,\n",
    "                     min_impurity_decrease=0.0, min_samples_leaf=1,\n",
    "                     min_samples_split=2, min_weight_fraction_leaf=0.0,\n",
    "                     n_estimators=100, n_jobs=-1, oob_score=False,\n",
    "                     random_state=42, verbose=0, warm_start=False)\n",
    "# 검증하기\n",
    "cv_score = cross_val_score(model, x, y_is_dy, cv=10)\n",
    "\n",
    "# 확인\n",
    "print(cv_score)\n",
    "print('평균:', cv_score.mean())\n",
    "print('표준편차:', cv_score.std())"
   ]
  },
  {
   "cell_type": "code",
   "execution_count": 59,
   "metadata": {},
   "outputs": [
    {
     "data": {
      "text/html": [
       "<style>#sk-container-id-4 {color: black;background-color: white;}#sk-container-id-4 pre{padding: 0;}#sk-container-id-4 div.sk-toggleable {background-color: white;}#sk-container-id-4 label.sk-toggleable__label {cursor: pointer;display: block;width: 100%;margin-bottom: 0;padding: 0.3em;box-sizing: border-box;text-align: center;}#sk-container-id-4 label.sk-toggleable__label-arrow:before {content: \"▸\";float: left;margin-right: 0.25em;color: #696969;}#sk-container-id-4 label.sk-toggleable__label-arrow:hover:before {color: black;}#sk-container-id-4 div.sk-estimator:hover label.sk-toggleable__label-arrow:before {color: black;}#sk-container-id-4 div.sk-toggleable__content {max-height: 0;max-width: 0;overflow: hidden;text-align: left;background-color: #f0f8ff;}#sk-container-id-4 div.sk-toggleable__content pre {margin: 0.2em;color: black;border-radius: 0.25em;background-color: #f0f8ff;}#sk-container-id-4 input.sk-toggleable__control:checked~div.sk-toggleable__content {max-height: 200px;max-width: 100%;overflow: auto;}#sk-container-id-4 input.sk-toggleable__control:checked~label.sk-toggleable__label-arrow:before {content: \"▾\";}#sk-container-id-4 div.sk-estimator input.sk-toggleable__control:checked~label.sk-toggleable__label {background-color: #d4ebff;}#sk-container-id-4 div.sk-label input.sk-toggleable__control:checked~label.sk-toggleable__label {background-color: #d4ebff;}#sk-container-id-4 input.sk-hidden--visually {border: 0;clip: rect(1px 1px 1px 1px);clip: rect(1px, 1px, 1px, 1px);height: 1px;margin: -1px;overflow: hidden;padding: 0;position: absolute;width: 1px;}#sk-container-id-4 div.sk-estimator {font-family: monospace;background-color: #f0f8ff;border: 1px dotted black;border-radius: 0.25em;box-sizing: border-box;margin-bottom: 0.5em;}#sk-container-id-4 div.sk-estimator:hover {background-color: #d4ebff;}#sk-container-id-4 div.sk-parallel-item::after {content: \"\";width: 100%;border-bottom: 1px solid gray;flex-grow: 1;}#sk-container-id-4 div.sk-label:hover label.sk-toggleable__label {background-color: #d4ebff;}#sk-container-id-4 div.sk-serial::before {content: \"\";position: absolute;border-left: 1px solid gray;box-sizing: border-box;top: 0;bottom: 0;left: 50%;z-index: 0;}#sk-container-id-4 div.sk-serial {display: flex;flex-direction: column;align-items: center;background-color: white;padding-right: 0.2em;padding-left: 0.2em;position: relative;}#sk-container-id-4 div.sk-item {position: relative;z-index: 1;}#sk-container-id-4 div.sk-parallel {display: flex;align-items: stretch;justify-content: center;background-color: white;position: relative;}#sk-container-id-4 div.sk-item::before, #sk-container-id-4 div.sk-parallel-item::before {content: \"\";position: absolute;border-left: 1px solid gray;box-sizing: border-box;top: 0;bottom: 0;left: 50%;z-index: -1;}#sk-container-id-4 div.sk-parallel-item {display: flex;flex-direction: column;z-index: 1;position: relative;background-color: white;}#sk-container-id-4 div.sk-parallel-item:first-child::after {align-self: flex-end;width: 50%;}#sk-container-id-4 div.sk-parallel-item:last-child::after {align-self: flex-start;width: 50%;}#sk-container-id-4 div.sk-parallel-item:only-child::after {width: 0;}#sk-container-id-4 div.sk-dashed-wrapped {border: 1px dashed gray;margin: 0 0.4em 0.5em 0.4em;box-sizing: border-box;padding-bottom: 0.4em;background-color: white;}#sk-container-id-4 div.sk-label label {font-family: monospace;font-weight: bold;display: inline-block;line-height: 1.2em;}#sk-container-id-4 div.sk-label-container {text-align: center;}#sk-container-id-4 div.sk-container {/* jupyter's `normalize.less` sets `[hidden] { display: none; }` but bootstrap.min.css set `[hidden] { display: none !important; }` so we also need the `!important` here to be able to override the default hidden behavior on the sphinx rendered scikit-learn.org. See: https://github.com/scikit-learn/scikit-learn/issues/21755 */display: inline-block !important;position: relative;}#sk-container-id-4 div.sk-text-repr-fallback {display: none;}</style><div id=\"sk-container-id-4\" class=\"sk-top-container\"><div class=\"sk-text-repr-fallback\"><pre>ExtraTreesClassifier(n_jobs=-1, random_state=42)</pre><b>In a Jupyter environment, please rerun this cell to show the HTML representation or trust the notebook. <br />On GitHub, the HTML representation is unable to render, please try loading this page with nbviewer.org.</b></div><div class=\"sk-container\" hidden><div class=\"sk-item\"><div class=\"sk-estimator sk-toggleable\"><input class=\"sk-toggleable__control sk-hidden--visually\" id=\"sk-estimator-id-4\" type=\"checkbox\" checked><label for=\"sk-estimator-id-4\" class=\"sk-toggleable__label sk-toggleable__label-arrow\">ExtraTreesClassifier</label><div class=\"sk-toggleable__content\"><pre>ExtraTreesClassifier(n_jobs=-1, random_state=42)</pre></div></div></div></div></div>"
      ],
      "text/plain": [
       "ExtraTreesClassifier(n_jobs=-1, random_state=42)"
      ]
     },
     "execution_count": 59,
     "metadata": {},
     "output_type": "execute_result"
    }
   ],
   "source": [
    "# model1은 is_dynamic 분류 모델\n",
    "my_seed_everywhere(42)\n",
    "model1 = ExtraTreesClassifier(bootstrap=False, ccp_alpha=0.0, class_weight=None,\n",
    "                     criterion='gini', max_depth=None, max_features='sqrt',\n",
    "                     max_leaf_nodes=None, max_samples=None,\n",
    "                     min_impurity_decrease=0.0, min_samples_leaf=1,\n",
    "                     min_samples_split=2, min_weight_fraction_leaf=0.0,\n",
    "                     n_estimators=100, n_jobs=-1, oob_score=False,\n",
    "                     random_state=42, verbose=0, warm_start=False)\n",
    "model1.fit(x, y_is_dy)"
   ]
  },
  {
   "attachments": {},
   "cell_type": "markdown",
   "metadata": {},
   "source": [
    "## 정적 Class 분류\n",
    "- LGBM이 성능이 좋았음.\n",
    "- LGBM을 사용할 때는, label 값이 0부터 시작해야함.\n",
    "- 따라서 정적 class의 경우 3~5로 존재하는 것을 -3을 해서 0~1으로 바꿔줘야함\n",
    "- 그러므로 결과를 낼때 +3 을 해줘야함"
   ]
  },
  {
   "cell_type": "code",
   "execution_count": 60,
   "metadata": {},
   "outputs": [],
   "source": [
    "static_data = train_data[train_data['is_dynamic'] == 0].reset_index(drop=True)\n",
    "x_static = static_data.drop(columns=['Activity', 'Activity_dynamic', 'is_dynamic']).values\n",
    "y_static = static_data['Activity_dynamic'].values"
   ]
  },
  {
   "cell_type": "code",
   "execution_count": 61,
   "metadata": {},
   "outputs": [
    {
     "name": "stdout",
     "output_type": "stream",
     "text": [
      "[0.72839506 0.72839506 0.69444444 0.69135802 0.71517028 0.71826625\n",
      " 0.6996904  0.68421053 0.6873065  0.70588235]\n",
      "평균: 0.7053118908382066\n",
      "표준편차: 0.01563607638261874\n"
     ]
    }
   ],
   "source": [
    "from lightgbm import LGBMClassifier\n",
    "my_seed_everywhere(42)\n",
    "model = LGBMClassifier(boosting_type='gbdt', class_weight=None, colsample_bytree=1.0,\n",
    "               importance_type='split', learning_rate=0.1, max_depth=-1,\n",
    "               min_child_samples=20, min_child_weight=0.001, min_split_gain=0.0,\n",
    "               n_estimators=100, n_jobs=-1, num_leaves=31, objective=None,\n",
    "               random_state=42, reg_alpha=0.0, reg_lambda=0.0, silent='warn',\n",
    "               subsample=1.0, subsample_for_bin=200000, subsample_freq=0)\n",
    "# 검증하기\n",
    "cv_score = cross_val_score(model, x_static, y_static-3, cv=10)\n",
    "\n",
    "# 확인\n",
    "print(cv_score)\n",
    "print('평균:', cv_score.mean())\n",
    "print('표준편차:', cv_score.std())"
   ]
  },
  {
   "cell_type": "code",
   "execution_count": 62,
   "metadata": {},
   "outputs": [
    {
     "data": {
      "text/html": [
       "<style>#sk-container-id-5 {color: black;background-color: white;}#sk-container-id-5 pre{padding: 0;}#sk-container-id-5 div.sk-toggleable {background-color: white;}#sk-container-id-5 label.sk-toggleable__label {cursor: pointer;display: block;width: 100%;margin-bottom: 0;padding: 0.3em;box-sizing: border-box;text-align: center;}#sk-container-id-5 label.sk-toggleable__label-arrow:before {content: \"▸\";float: left;margin-right: 0.25em;color: #696969;}#sk-container-id-5 label.sk-toggleable__label-arrow:hover:before {color: black;}#sk-container-id-5 div.sk-estimator:hover label.sk-toggleable__label-arrow:before {color: black;}#sk-container-id-5 div.sk-toggleable__content {max-height: 0;max-width: 0;overflow: hidden;text-align: left;background-color: #f0f8ff;}#sk-container-id-5 div.sk-toggleable__content pre {margin: 0.2em;color: black;border-radius: 0.25em;background-color: #f0f8ff;}#sk-container-id-5 input.sk-toggleable__control:checked~div.sk-toggleable__content {max-height: 200px;max-width: 100%;overflow: auto;}#sk-container-id-5 input.sk-toggleable__control:checked~label.sk-toggleable__label-arrow:before {content: \"▾\";}#sk-container-id-5 div.sk-estimator input.sk-toggleable__control:checked~label.sk-toggleable__label {background-color: #d4ebff;}#sk-container-id-5 div.sk-label input.sk-toggleable__control:checked~label.sk-toggleable__label {background-color: #d4ebff;}#sk-container-id-5 input.sk-hidden--visually {border: 0;clip: rect(1px 1px 1px 1px);clip: rect(1px, 1px, 1px, 1px);height: 1px;margin: -1px;overflow: hidden;padding: 0;position: absolute;width: 1px;}#sk-container-id-5 div.sk-estimator {font-family: monospace;background-color: #f0f8ff;border: 1px dotted black;border-radius: 0.25em;box-sizing: border-box;margin-bottom: 0.5em;}#sk-container-id-5 div.sk-estimator:hover {background-color: #d4ebff;}#sk-container-id-5 div.sk-parallel-item::after {content: \"\";width: 100%;border-bottom: 1px solid gray;flex-grow: 1;}#sk-container-id-5 div.sk-label:hover label.sk-toggleable__label {background-color: #d4ebff;}#sk-container-id-5 div.sk-serial::before {content: \"\";position: absolute;border-left: 1px solid gray;box-sizing: border-box;top: 0;bottom: 0;left: 50%;z-index: 0;}#sk-container-id-5 div.sk-serial {display: flex;flex-direction: column;align-items: center;background-color: white;padding-right: 0.2em;padding-left: 0.2em;position: relative;}#sk-container-id-5 div.sk-item {position: relative;z-index: 1;}#sk-container-id-5 div.sk-parallel {display: flex;align-items: stretch;justify-content: center;background-color: white;position: relative;}#sk-container-id-5 div.sk-item::before, #sk-container-id-5 div.sk-parallel-item::before {content: \"\";position: absolute;border-left: 1px solid gray;box-sizing: border-box;top: 0;bottom: 0;left: 50%;z-index: -1;}#sk-container-id-5 div.sk-parallel-item {display: flex;flex-direction: column;z-index: 1;position: relative;background-color: white;}#sk-container-id-5 div.sk-parallel-item:first-child::after {align-self: flex-end;width: 50%;}#sk-container-id-5 div.sk-parallel-item:last-child::after {align-self: flex-start;width: 50%;}#sk-container-id-5 div.sk-parallel-item:only-child::after {width: 0;}#sk-container-id-5 div.sk-dashed-wrapped {border: 1px dashed gray;margin: 0 0.4em 0.5em 0.4em;box-sizing: border-box;padding-bottom: 0.4em;background-color: white;}#sk-container-id-5 div.sk-label label {font-family: monospace;font-weight: bold;display: inline-block;line-height: 1.2em;}#sk-container-id-5 div.sk-label-container {text-align: center;}#sk-container-id-5 div.sk-container {/* jupyter's `normalize.less` sets `[hidden] { display: none; }` but bootstrap.min.css set `[hidden] { display: none !important; }` so we also need the `!important` here to be able to override the default hidden behavior on the sphinx rendered scikit-learn.org. See: https://github.com/scikit-learn/scikit-learn/issues/21755 */display: inline-block !important;position: relative;}#sk-container-id-5 div.sk-text-repr-fallback {display: none;}</style><div id=\"sk-container-id-5\" class=\"sk-top-container\"><div class=\"sk-text-repr-fallback\"><pre>LGBMClassifier(random_state=42)</pre><b>In a Jupyter environment, please rerun this cell to show the HTML representation or trust the notebook. <br />On GitHub, the HTML representation is unable to render, please try loading this page with nbviewer.org.</b></div><div class=\"sk-container\" hidden><div class=\"sk-item\"><div class=\"sk-estimator sk-toggleable\"><input class=\"sk-toggleable__control sk-hidden--visually\" id=\"sk-estimator-id-5\" type=\"checkbox\" checked><label for=\"sk-estimator-id-5\" class=\"sk-toggleable__label sk-toggleable__label-arrow\">LGBMClassifier</label><div class=\"sk-toggleable__content\"><pre>LGBMClassifier(random_state=42)</pre></div></div></div></div></div>"
      ],
      "text/plain": [
       "LGBMClassifier(random_state=42)"
      ]
     },
     "execution_count": 62,
     "metadata": {},
     "output_type": "execute_result"
    }
   ],
   "source": [
    "# model2_1은 정적 Class 분류\n",
    "my_seed_everywhere(42)\n",
    "model2_1 = LGBMClassifier(random_state=42)\n",
    "\n",
    "model2_1.fit(x_static, y_static-3)"
   ]
  },
  {
   "attachments": {},
   "cell_type": "markdown",
   "metadata": {},
   "source": [
    "## 동적 Class 분류\n",
    "- 마찬가지로 LGBM"
   ]
  },
  {
   "cell_type": "code",
   "execution_count": 63,
   "metadata": {},
   "outputs": [],
   "source": [
    "dynamic_data = train_data[train_data['is_dynamic'] == 1].reset_index(drop=True)\n",
    "x_dynamic = dynamic_data.drop(columns=['Activity', 'Activity_dynamic', 'is_dynamic']).values\n",
    "y_dynamic = dynamic_data['Activity_dynamic'].values"
   ]
  },
  {
   "cell_type": "code",
   "execution_count": 64,
   "metadata": {},
   "outputs": [
    {
     "name": "stdout",
     "output_type": "stream",
     "text": [
      "[0.87169811 0.81132075 0.82264151 0.84528302 0.85660377 0.89433962\n",
      " 0.86037736 0.87878788 0.86742424 0.85227273]\n",
      "평균: 0.8560748999428244\n",
      "표준편차: 0.023713704825574927\n"
     ]
    }
   ],
   "source": [
    "my_seed_everywhere(42)\n",
    "model = LGBMClassifier(boosting_type='gbdt', class_weight=None, colsample_bytree=1.0,\n",
    "               importance_type='split', learning_rate=0.1, max_depth=-1,\n",
    "               min_child_samples=20, min_child_weight=0.001, min_split_gain=0.0,\n",
    "               n_estimators=100, n_jobs=-1, num_leaves=31, objective=None,\n",
    "               random_state=42, reg_alpha=0.0, reg_lambda=0.0, silent='warn',\n",
    "               subsample=1.0, subsample_for_bin=200000, subsample_freq=0)\n",
    "# 검증하기\n",
    "cv_score = cross_val_score(model, x_dynamic, y_dynamic, cv=10)\n",
    "\n",
    "# 확인\n",
    "print(cv_score)\n",
    "print('평균:', cv_score.mean())\n",
    "print('표준편차:', cv_score.std())"
   ]
  },
  {
   "cell_type": "code",
   "execution_count": 65,
   "metadata": {},
   "outputs": [
    {
     "data": {
      "text/html": [
       "<style>#sk-container-id-6 {color: black;background-color: white;}#sk-container-id-6 pre{padding: 0;}#sk-container-id-6 div.sk-toggleable {background-color: white;}#sk-container-id-6 label.sk-toggleable__label {cursor: pointer;display: block;width: 100%;margin-bottom: 0;padding: 0.3em;box-sizing: border-box;text-align: center;}#sk-container-id-6 label.sk-toggleable__label-arrow:before {content: \"▸\";float: left;margin-right: 0.25em;color: #696969;}#sk-container-id-6 label.sk-toggleable__label-arrow:hover:before {color: black;}#sk-container-id-6 div.sk-estimator:hover label.sk-toggleable__label-arrow:before {color: black;}#sk-container-id-6 div.sk-toggleable__content {max-height: 0;max-width: 0;overflow: hidden;text-align: left;background-color: #f0f8ff;}#sk-container-id-6 div.sk-toggleable__content pre {margin: 0.2em;color: black;border-radius: 0.25em;background-color: #f0f8ff;}#sk-container-id-6 input.sk-toggleable__control:checked~div.sk-toggleable__content {max-height: 200px;max-width: 100%;overflow: auto;}#sk-container-id-6 input.sk-toggleable__control:checked~label.sk-toggleable__label-arrow:before {content: \"▾\";}#sk-container-id-6 div.sk-estimator input.sk-toggleable__control:checked~label.sk-toggleable__label {background-color: #d4ebff;}#sk-container-id-6 div.sk-label input.sk-toggleable__control:checked~label.sk-toggleable__label {background-color: #d4ebff;}#sk-container-id-6 input.sk-hidden--visually {border: 0;clip: rect(1px 1px 1px 1px);clip: rect(1px, 1px, 1px, 1px);height: 1px;margin: -1px;overflow: hidden;padding: 0;position: absolute;width: 1px;}#sk-container-id-6 div.sk-estimator {font-family: monospace;background-color: #f0f8ff;border: 1px dotted black;border-radius: 0.25em;box-sizing: border-box;margin-bottom: 0.5em;}#sk-container-id-6 div.sk-estimator:hover {background-color: #d4ebff;}#sk-container-id-6 div.sk-parallel-item::after {content: \"\";width: 100%;border-bottom: 1px solid gray;flex-grow: 1;}#sk-container-id-6 div.sk-label:hover label.sk-toggleable__label {background-color: #d4ebff;}#sk-container-id-6 div.sk-serial::before {content: \"\";position: absolute;border-left: 1px solid gray;box-sizing: border-box;top: 0;bottom: 0;left: 50%;z-index: 0;}#sk-container-id-6 div.sk-serial {display: flex;flex-direction: column;align-items: center;background-color: white;padding-right: 0.2em;padding-left: 0.2em;position: relative;}#sk-container-id-6 div.sk-item {position: relative;z-index: 1;}#sk-container-id-6 div.sk-parallel {display: flex;align-items: stretch;justify-content: center;background-color: white;position: relative;}#sk-container-id-6 div.sk-item::before, #sk-container-id-6 div.sk-parallel-item::before {content: \"\";position: absolute;border-left: 1px solid gray;box-sizing: border-box;top: 0;bottom: 0;left: 50%;z-index: -1;}#sk-container-id-6 div.sk-parallel-item {display: flex;flex-direction: column;z-index: 1;position: relative;background-color: white;}#sk-container-id-6 div.sk-parallel-item:first-child::after {align-self: flex-end;width: 50%;}#sk-container-id-6 div.sk-parallel-item:last-child::after {align-self: flex-start;width: 50%;}#sk-container-id-6 div.sk-parallel-item:only-child::after {width: 0;}#sk-container-id-6 div.sk-dashed-wrapped {border: 1px dashed gray;margin: 0 0.4em 0.5em 0.4em;box-sizing: border-box;padding-bottom: 0.4em;background-color: white;}#sk-container-id-6 div.sk-label label {font-family: monospace;font-weight: bold;display: inline-block;line-height: 1.2em;}#sk-container-id-6 div.sk-label-container {text-align: center;}#sk-container-id-6 div.sk-container {/* jupyter's `normalize.less` sets `[hidden] { display: none; }` but bootstrap.min.css set `[hidden] { display: none !important; }` so we also need the `!important` here to be able to override the default hidden behavior on the sphinx rendered scikit-learn.org. See: https://github.com/scikit-learn/scikit-learn/issues/21755 */display: inline-block !important;position: relative;}#sk-container-id-6 div.sk-text-repr-fallback {display: none;}</style><div id=\"sk-container-id-6\" class=\"sk-top-container\"><div class=\"sk-text-repr-fallback\"><pre>LGBMClassifier(random_state=42)</pre><b>In a Jupyter environment, please rerun this cell to show the HTML representation or trust the notebook. <br />On GitHub, the HTML representation is unable to render, please try loading this page with nbviewer.org.</b></div><div class=\"sk-container\" hidden><div class=\"sk-item\"><div class=\"sk-estimator sk-toggleable\"><input class=\"sk-toggleable__control sk-hidden--visually\" id=\"sk-estimator-id-6\" type=\"checkbox\" checked><label for=\"sk-estimator-id-6\" class=\"sk-toggleable__label sk-toggleable__label-arrow\">LGBMClassifier</label><div class=\"sk-toggleable__content\"><pre>LGBMClassifier(random_state=42)</pre></div></div></div></div></div>"
      ],
      "text/plain": [
       "LGBMClassifier(random_state=42)"
      ]
     },
     "execution_count": 65,
     "metadata": {},
     "output_type": "execute_result"
    }
   ],
   "source": [
    "# model2_2 는 동적 Class 분류\n",
    "my_seed_everywhere(42)\n",
    "model2_2 = LGBMClassifier(random_state=42)\n",
    "model2_2.fit(x_dynamic, y_dynamic)"
   ]
  },
  {
   "cell_type": "code",
   "execution_count": 66,
   "metadata": {},
   "outputs": [
    {
     "data": {
      "text/plain": [
       "array([3, 3, 3, ..., 3, 3, 3], dtype=int64)"
      ]
     },
     "execution_count": 66,
     "metadata": {},
     "output_type": "execute_result"
    }
   ],
   "source": [
    "model2_1.predict( x_test ) + 3"
   ]
  },
  {
   "cell_type": "code",
   "execution_count": 67,
   "metadata": {},
   "outputs": [],
   "source": [
    "def my_model_predict(x):\n",
    "    \"\"\"\n",
    "    params:\n",
    "        x : DataFrame. Features\n",
    "    ret:\n",
    "        y_pred : numpy array\n",
    "\n",
    "    model1 : 정적 동적 구분 \n",
    "    model2-1 : 정적으로 구분한 것을 세부 Class 분류 \n",
    "    model2-1 : 동적으로 구분한 것을 세부 Class 분류 \n",
    "    \"\"\"\n",
    "    # 전처리 수행\n",
    "    x = pd.DataFrame(mm_scaler.transform(x), columns=list(x))\n",
    "    \n",
    "    # 정적, 동적 예측 결과 저장\n",
    "    x['is_dynamic'] = model1.predict(x.values)\n",
    "\n",
    "    # 정적과 동적 예측 결과에 따라 나누기\n",
    "    # reset_index로 원래의 index 를 column으로 빼서 나중에 concat 후 사용\n",
    "    temp_static = x[x['is_dynamic'] == 0].reset_index()\n",
    "    temp_dynamic = x[x['is_dynamic'] == 1].reset_index()\n",
    "\n",
    "    # 정적, 동적 별로 각 Class 예측\n",
    "    # 정적 Class 는 결과값 + 3!!\n",
    "    temp_static['label'] = model2_1.predict( temp_static.drop(['is_dynamic', 'index'], axis=1) ) + 3\n",
    "    temp_dynamic['label'] = model2_2.predict( temp_dynamic.drop(['is_dynamic', 'index'], axis=1) )\n",
    "\n",
    "    # 각 예측 결과를 합치고, index로 정렬\n",
    "    result_df = pd.concat([temp_static, temp_dynamic], axis=0).sort_values(by='index').set_index('index')\n",
    "\n",
    "    # y_pred 뽑기\n",
    "    y_pred = result_df['label'].values\n",
    "    \n",
    "    x.drop('is_dynamic', axis=1, inplace=True)\n",
    "\n",
    "    return y_pred"
   ]
  },
  {
   "cell_type": "code",
   "execution_count": 68,
   "metadata": {},
   "outputs": [
    {
     "data": {
      "text/plain": [
       "array([5, 4, 0, ..., 2, 3, 2], dtype=int64)"
      ]
     },
     "execution_count": 68,
     "metadata": {},
     "output_type": "execute_result"
    }
   ],
   "source": [
    "y_pred = my_model_predict(x_test)\n",
    "y_pred"
   ]
  },
  {
   "cell_type": "code",
   "execution_count": 69,
   "metadata": {},
   "outputs": [
    {
     "data": {
      "text/html": [
       "<div>\n",
       "<style scoped>\n",
       "    .dataframe tbody tr th:only-of-type {\n",
       "        vertical-align: middle;\n",
       "    }\n",
       "\n",
       "    .dataframe tbody tr th {\n",
       "        vertical-align: top;\n",
       "    }\n",
       "\n",
       "    .dataframe thead th {\n",
       "        text-align: right;\n",
       "    }\n",
       "</style>\n",
       "<table border=\"1\" class=\"dataframe\">\n",
       "  <thead>\n",
       "    <tr style=\"text-align: right;\">\n",
       "      <th></th>\n",
       "      <th>ID</th>\n",
       "      <th>Activity</th>\n",
       "    </tr>\n",
       "  </thead>\n",
       "  <tbody>\n",
       "    <tr>\n",
       "      <th>0</th>\n",
       "      <td>0</td>\n",
       "      <td>5</td>\n",
       "    </tr>\n",
       "    <tr>\n",
       "      <th>1</th>\n",
       "      <td>1</td>\n",
       "      <td>4</td>\n",
       "    </tr>\n",
       "    <tr>\n",
       "      <th>2</th>\n",
       "      <td>2</td>\n",
       "      <td>0</td>\n",
       "    </tr>\n",
       "    <tr>\n",
       "      <th>3</th>\n",
       "      <td>3</td>\n",
       "      <td>5</td>\n",
       "    </tr>\n",
       "    <tr>\n",
       "      <th>4</th>\n",
       "      <td>4</td>\n",
       "      <td>4</td>\n",
       "    </tr>\n",
       "    <tr>\n",
       "      <th>...</th>\n",
       "      <td>...</td>\n",
       "      <td>...</td>\n",
       "    </tr>\n",
       "    <tr>\n",
       "      <th>1466</th>\n",
       "      <td>1466</td>\n",
       "      <td>3</td>\n",
       "    </tr>\n",
       "    <tr>\n",
       "      <th>1467</th>\n",
       "      <td>1467</td>\n",
       "      <td>5</td>\n",
       "    </tr>\n",
       "    <tr>\n",
       "      <th>1468</th>\n",
       "      <td>1468</td>\n",
       "      <td>2</td>\n",
       "    </tr>\n",
       "    <tr>\n",
       "      <th>1469</th>\n",
       "      <td>1469</td>\n",
       "      <td>3</td>\n",
       "    </tr>\n",
       "    <tr>\n",
       "      <th>1470</th>\n",
       "      <td>1470</td>\n",
       "      <td>2</td>\n",
       "    </tr>\n",
       "  </tbody>\n",
       "</table>\n",
       "<p>1471 rows × 2 columns</p>\n",
       "</div>"
      ],
      "text/plain": [
       "        ID  Activity\n",
       "0        0         5\n",
       "1        1         4\n",
       "2        2         0\n",
       "3        3         5\n",
       "4        4         4\n",
       "...    ...       ...\n",
       "1466  1466         3\n",
       "1467  1467         5\n",
       "1468  1468         2\n",
       "1469  1469         3\n",
       "1470  1470         2\n",
       "\n",
       "[1471 rows x 2 columns]"
      ]
     },
     "execution_count": 69,
     "metadata": {},
     "output_type": "execute_result"
    }
   ],
   "source": [
    "result = pd.DataFrame(y_pred, columns=['Activity']).reset_index(names='ID')\n",
    "result"
   ]
  },
  {
   "cell_type": "code",
   "execution_count": 70,
   "metadata": {},
   "outputs": [],
   "source": [
    "result.to_csv(\"submssion_2.csv\", index=False)"
   ]
  },
  {
   "cell_type": "code",
   "execution_count": 71,
   "metadata": {},
   "outputs": [],
   "source": [
    "temp = pd.read_csv('submssion_1.csv')"
   ]
  },
  {
   "cell_type": "code",
   "execution_count": 72,
   "metadata": {},
   "outputs": [
    {
     "data": {
      "text/plain": [
       "138"
      ]
     },
     "execution_count": 72,
     "metadata": {},
     "output_type": "execute_result"
    }
   ],
   "source": [
    "(temp['Activity'] != result['Activity']).sum()"
   ]
  }
 ],
 "metadata": {
  "kernelspec": {
   "display_name": "tf",
   "language": "python",
   "name": "tf"
  },
  "language_info": {
   "codemirror_mode": {
    "name": "ipython",
    "version": 3
   },
   "file_extension": ".py",
   "mimetype": "text/x-python",
   "name": "python",
   "nbconvert_exporter": "python",
   "pygments_lexer": "ipython3",
   "version": "3.9.16"
  },
  "orig_nbformat": 4
 },
 "nbformat": 4,
 "nbformat_minor": 2
}
