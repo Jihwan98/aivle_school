{
 "cells": [
  {
   "attachments": {},
   "cell_type": "markdown",
   "metadata": {},
   "source": [
    "# 3. 데이터 전처리 이해와 실무\n",
    "## 3.1 데이터 정제 : 이상 데이터 처리\n",
    "### 이상치(Outlier)\n",
    "- 관측된 데이터 내 전체적 패턴에서 아주 작게 혹은 아주 크게 벗어난 값  \n",
    "=> 데이터 분석 과정 및 결과에서 영향을 미쳐 **분석 결과 및 의사 결정의 왜곡**을 불러일으킬 수 있음\n",
    "### 이상치 유형\n",
    "- 잘못 수집된 경우 (오류 데이터) : 센서 혹은 시스템 오류로 인해 잘못된 값을 수집\n",
    "- 실제 극단치의 값 (실제 데이터) : 극단적 관측치로 인해 일반적 관측 범위를 벗어남\n",
    "### 이상치 처리 프로세스\n",
    "- 통계적 방안 or 인적 판단 방안 => 이상치 처리\n",
    "- 통계적 방안의 이상치 판단 : Z-Score, IQR 등\n",
    "- 인적 판단의 이상치 판단 : 현업 관리자의 데이터 및 비즈니스 관점 기반의 이상치 여부 판단\n",
    "- 이상치 처리 : 삭제, 대체 등의 방안을 적용하여 처리\n",
    "\n",
    "#### 이상치 판단 방안\n",
    "##### Z-Score\n",
    "- 해당 데이터가 평균으로부터 얼마의 표준편차 만큼 벗어나 있는지를 의미\n",
    "- 일반적으로, -3이하 3이상 Z값 관측치는 이상치로 정의  \n",
    "`Z = (x - mean) / std.dev`\n",
    "##### IQR (Interquartile Range)\n",
    "- 사분위수 개념 기반의 이상치 판단 방안으로 데이터 흩어짐 정도를 기반으로 이상치를 정의\n",
    "- Min, Max 범위를 벗어난 관측치는 이상치로 정의\n",
    "### 이상치 처리 방안\n",
    "#### 삭제 \n",
    "- 대체방안이 없거나 이상치 수가 적을 경우 활용\n",
    "- 이상치 값이 의미를 지니지 않을 경우 활용\n",
    "- **데이터 손실 발생**\n",
    "#### 대체 및 변경\n",
    "- 최대한 데이터 활용을 목적으로 할 경우 활용\n",
    "- 현업 관점에서 정의된 기준 기반의 다른 값으로 대체\n",
    "- 데이터가 의미를 지닐 경우 Log 변환 등을 활용한 데이터 간격 조정으로 변경\n",
    "- **현업/데이터 관점을 신중히 고려하여 적용 필요**"
   ]
  },
  {
   "attachments": {},
   "cell_type": "markdown",
   "metadata": {},
   "source": [
    "## 실습\n",
    "샘플 데이터 필요"
   ]
  },
  {
   "cell_type": "code",
   "execution_count": 1,
   "metadata": {},
   "outputs": [],
   "source": [
    "import numpy as np\n",
    "import pandas as pd"
   ]
  },
  {
   "cell_type": "code",
   "execution_count": null,
   "metadata": {},
   "outputs": [],
   "source": [
    "click_data = pd.read_csv(\"./data/click_sample_data.csv\", encoding='cp949')\n",
    "click_data.head(15)"
   ]
  },
  {
   "cell_type": "code",
   "execution_count": null,
   "metadata": {},
   "outputs": [],
   "source": [
    "click_data.info()\n",
    "\n",
    "click_copy = click_data.copy()"
   ]
  },
  {
   "cell_type": "code",
   "execution_count": null,
   "metadata": {},
   "outputs": [],
   "source": [
    "click_copy['num_click'].describe()"
   ]
  },
  {
   "attachments": {},
   "cell_type": "markdown",
   "metadata": {},
   "source": [
    "### 이상치 처리\n",
    "#### Z-Score\n",
    "- 수식 : `Z = (x-mean) / std.dev`"
   ]
  },
  {
   "cell_type": "code",
   "execution_count": null,
   "metadata": {},
   "outputs": [],
   "source": [
    "click_copy['z_score'] = (click_copy['num_click'] - np.mena(click_copy['num_click'])) / np.std(click_copy['num_click'])\n",
    "click_copy.head()"
   ]
  },
  {
   "cell_type": "code",
   "execution_count": null,
   "metadata": {},
   "outputs": [],
   "source": [
    "click_copy.describe()"
   ]
  },
  {
   "cell_type": "code",
   "execution_count": null,
   "metadata": {},
   "outputs": [],
   "source": [
    "click_copy = click_copy[ (click_copy['z_score'] < 3) & (click_copy['z_score'] > -3)]\n",
    "\n",
    "click_copy.info()"
   ]
  },
  {
   "cell_type": "code",
   "execution_count": null,
   "metadata": {},
   "outputs": [],
   "source": [
    "# scipy 내 z-score 함수 제공\n",
    "from scipy.stats import zscore\n",
    "click_copy = click_data.copy()\n",
    "\n",
    "click_copy['z_score'] = zscore(click_copy['num_click'])\n",
    "click_copy = click_copy[ (click_copy['z_score'] < 3) & (click_copy['z_score'] > -3)]\n",
    "print(click_copy.shape)"
   ]
  },
  {
   "cell_type": "code",
   "execution_count": null,
   "metadata": {},
   "outputs": [],
   "source": [
    "click_copy.describe()"
   ]
  },
  {
   "attachments": {},
   "cell_type": "markdown",
   "metadata": {},
   "source": [
    "#### IQR 판단 기반 이상치 처리\n",
    "click_copy = click_data.copy()"
   ]
  },
  {
   "cell_type": "code",
   "execution_count": null,
   "metadata": {},
   "outputs": [],
   "source": [
    "# 1, 3 분위수 (Q1, Q3) 구하기\n",
    "q1 = click_copy['num_click'].quantile(0.25)\n",
    "q3 = click_copy['num_click'].quantile(0.75)\n",
    "\n",
    "# IQR 구하기\n",
    "iqr = q3 - q1\n",
    "iqr"
   ]
  },
  {
   "cell_type": "code",
   "execution_count": null,
   "metadata": {},
   "outputs": [],
   "source": [
    "# IQR 기반 이상치 제거\n",
    "click_copy = click_copy[ (click_copy['num_click'] > (q1 - 1.5*iqr)) & (click_copy['num_click'] < (q3 + 1.5*iqr))]\n",
    "click_copy.describe()"
   ]
  },
  {
   "cell_type": "code",
   "execution_count": null,
   "metadata": {},
   "outputs": [],
   "source": [
    "np.shape(click_copy)"
   ]
  },
  {
   "attachments": {},
   "cell_type": "markdown",
   "metadata": {},
   "source": [
    "### 이상치 대체하기\n",
    "- 일반적으로 이상치 대체 및 번경은 기존 도메인 지식 및 현업 담당자와의 협의를 통해 진행\n",
    "- 위 데이터 예제에서 기사 클릭 수의 Max 값을 1000회로 정의하고 1000회 이상의 수 값은 모두 1000회로 대체"
   ]
  },
  {
   "cell_type": "code",
   "execution_count": null,
   "metadata": {},
   "outputs": [],
   "source": [
    "click_copy = click_data.copy()"
   ]
  },
  {
   "cell_type": "code",
   "execution_count": null,
   "metadata": {},
   "outputs": [],
   "source": [
    "# 대체할 기준 정의\n",
    "max_click = 10000"
   ]
  },
  {
   "cell_type": "code",
   "execution_count": null,
   "metadata": {},
   "outputs": [],
   "source": [
    "click_copy['new_num_click'] = click_copy['num_click']\n",
    "\n",
    "click_copy.loc[click_copy['new_num_click'] > max_click, 'new_num_click'] = max_click\n",
    "click_copy.describe()"
   ]
  },
  {
   "cell_type": "code",
   "execution_count": null,
   "metadata": {},
   "outputs": [],
   "source": [
    "click_copy.info()"
   ]
  }
 ],
 "metadata": {
  "kernelspec": {
   "display_name": "dicom",
   "language": "python",
   "name": "python3"
  },
  "language_info": {
   "codemirror_mode": {
    "name": "ipython",
    "version": 3
   },
   "file_extension": ".py",
   "mimetype": "text/x-python",
   "name": "python",
   "nbconvert_exporter": "python",
   "pygments_lexer": "ipython3",
   "version": "3.8.12"
  },
  "orig_nbformat": 4,
  "vscode": {
   "interpreter": {
    "hash": "88bd2e5fa4fd7387bccdf8178a88b6fb38174a4dc7856e8ea66f0bd24e8d1ea3"
   }
  }
 },
 "nbformat": 4,
 "nbformat_minor": 2
}
