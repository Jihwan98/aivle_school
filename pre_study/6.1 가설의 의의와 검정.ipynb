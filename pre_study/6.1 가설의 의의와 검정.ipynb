{
 "cells": [
  {
   "attachments": {},
   "cell_type": "markdown",
   "metadata": {},
   "source": [
    "# 가설의 의의와 검정\n",
    "## 가설 검정이란?\n",
    "**모집단**에 어떤 가설을 설정한 뒤, 통계 기법을 이용한 가설의 채택 여부를 확률적으로 판정하는 **통계적 추론**의 방법\n",
    "\n",
    "|귀무가설|대립가설|\n",
    "|---|---|\n",
    "|비교하는 값과 차이가 **없다**|비교하는 값과 차이가 **있다**|\n",
    "|기존 이론 가설|연구자 목적, 주장|\n",
    "|$H_0$ : Null Hypothesis|$H_1$ or $H_\\alpha$ : Alternative Hypothesis|\n",
    "\n",
    "## 가설 검정 통계적 오류\n",
    "**제1종 오류**와 **제2종 오류**가 존재\n",
    "\n",
    "||귀무가설 : 진실|대립가설 : 진실|\n",
    "|---|---|---|\n",
    "|귀무가설 선택|옳은 결정<br>신뢰수준(1-$\\alpha$)|**제2종 오류**<br>$\\beta$|\n",
    "|대립가설 선택|**제1종 오류**<br>유의수준($\\alpha$)|옳은 결정<br>검정력(1-$\\beta$)|\n",
    "\n",
    "- 제 1종 오류 ($\\alpha$) : $H_0$이 *참*이지만, $H_1$으로 **잘못 선택** -> \"유의수준\"이라고 불림\n",
    "- 제 2종 오류 ($\\beta$) : $H_1$이 *참*이지만, $H_0$으로 **잘못 선택**\n",
    "\n",
    "## 가설 검정 방법\n",
    "목적에 맞는 설정 필요\n",
    "- 양측 검정<br>\n",
    "    검정 통계량의 분포에서 기각영역이 **양쪽**에 나타나는 형태의 가설검정\n",
    "    - 귀무가설 : $H_0$ : $\\mu = \\mu_0$\n",
    "    - 대립가설 : $H_1$ : $\\mu \\neq \\mu_0$\n",
    "\n",
    "- 단측 검정<br>\n",
    "    검정 통계량의 분포에서 기각 영역이 **한쪽**에 나타나는 형태의 가설검정\n",
    "    - 귀무가설 : $H_0$ : $\\mu = \\mu_0$\n",
    "    - 대립가설 : $H_1$ : $\\mu < \\mu_0$ 또는 $H_1$ : $\\mu > \\mu_0$\n"
   ]
  },
  {
   "cell_type": "code",
   "execution_count": null,
   "metadata": {},
   "outputs": [],
   "source": []
  },
  {
   "cell_type": "code",
   "execution_count": null,
   "metadata": {},
   "outputs": [],
   "source": []
  },
  {
   "cell_type": "code",
   "execution_count": null,
   "metadata": {},
   "outputs": [],
   "source": []
  },
  {
   "cell_type": "code",
   "execution_count": null,
   "metadata": {},
   "outputs": [],
   "source": []
  },
  {
   "cell_type": "code",
   "execution_count": null,
   "metadata": {},
   "outputs": [],
   "source": []
  },
  {
   "cell_type": "code",
   "execution_count": null,
   "metadata": {},
   "outputs": [],
   "source": []
  },
  {
   "cell_type": "code",
   "execution_count": null,
   "metadata": {},
   "outputs": [],
   "source": []
  }
 ],
 "metadata": {
  "language_info": {
   "name": "python"
  },
  "orig_nbformat": 4
 },
 "nbformat": 4,
 "nbformat_minor": 2
}
