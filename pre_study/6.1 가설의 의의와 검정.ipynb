{
 "cells": [
  {
   "attachments": {},
   "cell_type": "markdown",
   "metadata": {},
   "source": [
    "# 가설의 의의와 검정\n",
    "## 가설 검정이란?\n",
    "**모집단**에 어떤 가설을 설정한 뒤, 통계 기법을 이용한 가설의 채택 여부를 확률적으로 판정하는 **통계적 추론**의 방법\n",
    "\n",
    "|귀무가설|대립가설|\n",
    "|---|---|\n",
    "|비교하는 값과 차이가 **없다**|비교하는 값과 차이가 **있다**|\n",
    "|기존 이론 가설|연구자 목적, 주장|\n",
    "|$H_0$ : Null Hypothesis|$H_1$ or $H_\\alpha$ : Alternative Hypothesis|\n",
    "\n",
    "## 가설 검정 통계적 오류\n",
    "**제1종 오류**와 **제2종 오류**가 존재\n",
    "\n",
    "||귀무가설 : 진실|대립가설 : 진실|\n",
    "|---|---|---|\n",
    "|귀무가설 선택|옳은 결정<br>신뢰수준(1-$\\alpha$)|**제2종 오류**<br>$\\beta$|\n",
    "|대립가설 선택|**제1종 오류**<br>유의수준($\\alpha$)|옳은 결정<br>검정력(1-$\\beta$)|\n",
    "\n",
    "- 제 1종 오류 ($\\alpha$) : $H_0$이 *참*이지만, $H_1$으로 **잘못 선택** -> \"유의수준\"이라고 불림\n",
    "- 제 2종 오류 ($\\beta$) : $H_1$이 *참*이지만, $H_0$으로 **잘못 선택**\n",
    "\n",
    "## 가설 검정 방법\n",
    "목적에 맞는 설정 필요\n",
    "- 양측 검정<br>\n",
    "    검정 통계량의 분포에서 기각영역이 **양쪽**에 나타나는 형태의 가설검정\n",
    "    - 귀무가설 : $H_0$ : $\\mu = \\mu_0$\n",
    "    - 대립가설 : $H_1$ : $\\mu \\neq \\mu_0$\n",
    "\n",
    "- 단측 검정<br>\n",
    "    검정 통계량의 분포에서 기각 영역이 **한쪽**에 나타나는 형태의 가설검정\n",
    "    - 귀무가설 : $H_0$ : $\\mu = \\mu_0$\n",
    "    - 대립가설 : $H_1$ : $\\mu < \\mu_0$ 또는 $H_1$ : $\\mu > \\mu_0$\n",
    "\n",
    "## 가설 기반 의사 결정 방법\n",
    "**검정 통계량**과 **유의 확률**을 토대로 가설 채택 여부 결정\n",
    "- 검정 통계량   >   기각역      ->  귀무가설 기각\n",
    "- 검정 통계량   <   기각역      ->  귀무가설 채택\n",
    "- 유의 확률     <   유의수준    ->  귀무가설 기각\n",
    "- 유의 확률     >   유의수준    ->  귀무가설 채택\n",
    "\n",
    "## 단일표본 t 검정\n",
    "가장 기본적인 가설 검정 중 하나<br>\n",
    "한 *모집단의 평균값*과 *기준값*의 *차이를 비교*하는 분석법\n",
    "\n",
    "## 독립표본 t 검정\n",
    "두 집단 간 평균의 차이를 비교하는 분석법<br>\n",
    "[기본 가정]<br>\n",
    "- 독립성 : 독립변수의 그룹군은 서로 독립\n",
    "- 정규성 : 집단별 종속변수는 정규분포를 만족\n",
    "- 등분산성 : 집단별 종속 변수 분포의 분산은 각 군마다 동일\n",
    "\n",
    "## 기타 통계 분석 기법..\n",
    "- ANOVA, 카이제곰, 상관분석 등\n",
    "\n",
    "## 가설 검정 순서\n",
    "1. 가설 수립\n",
    "2. 판단 기준 수립\n",
    "3. 통계 기법 도출\n",
    "4. 분석 통계량 산출\n",
    "5. 판단 기준\n",
    "6. 결과 도출\n",
    "\n",
    "# 실습\n",
    "sample data 필요"
   ]
  },
  {
   "cell_type": "code",
   "execution_count": 1,
   "metadata": {},
   "outputs": [],
   "source": [
    "import numpy as np\n",
    "import pandas as pd\n",
    "\n",
    "from scipy import stats\n",
    "\n",
    "import matplotlib.pyplot as plt\n",
    "import seaborn as sns"
   ]
  },
  {
   "cell_type": "code",
   "execution_count": null,
   "metadata": {},
   "outputs": [],
   "source": [
    "df = pd.read_csv('./data/interior_effect.csv')\n",
    "display(df.head())"
   ]
  },
  {
   "cell_type": "code",
   "execution_count": null,
   "metadata": {},
   "outputs": [],
   "source": [
    "# 데이터 셔플\n",
    "df = df.sample(frac=1, random_state=0).reset_index(drop=True)"
   ]
  },
  {
   "cell_type": "code",
   "execution_count": null,
   "metadata": {},
   "outputs": [],
   "source": [
    "df.shape"
   ]
  },
  {
   "attachments": {},
   "cell_type": "markdown",
   "metadata": {},
   "source": [
    "## boxplot"
   ]
  },
  {
   "cell_type": "code",
   "execution_count": null,
   "metadata": {},
   "outputs": [],
   "source": [
    "p = sns.boxplot(x=df['interior'], y=df['preference'])\n",
    "p.set_title('Box Plot of Preference of Interior')"
   ]
  },
  {
   "attachments": {},
   "cell_type": "markdown",
   "metadata": {},
   "source": [
    "## Assumption 1 : 독립성\n",
    "> 독립변수 그룹은 서로 독립적<br>\n",
    "\n",
    "두개의 집단을 구성하는 구성원이나 구성들이 서로 관계가 없음을 의미. 즉, 아무런 관계가 없어야함\n",
    "## Assumption 2 : 정규성 확인\n",
    "Shapiro-Wilk 검정을 통해 정규성을 확인합니다.<br>\n",
    "귀무 가설과 대립 가설은 아래와 같습니다.\n",
    "- $H_0$ : 각 독립 표본이 정규성을 만족한다.\n",
    "- $H_1$ : 각 독립 표본이 정규성을 만족하지 않는다."
   ]
  },
  {
   "cell_type": "code",
   "execution_count": null,
   "metadata": {},
   "outputs": [],
   "source": [
    "df.loc[ df['interior'] == 'classic', 'interior'].value_counts()"
   ]
  },
  {
   "cell_type": "code",
   "execution_count": null,
   "metadata": {},
   "outputs": [],
   "source": [
    "classic_pref = df.loc[ df['interior'] == 'classic', 'preference' ]\n",
    "\n",
    "modern_pref = df.loc[ df['interior'] == 'modern', 'preference' ]\n",
    "print(modern_pref)"
   ]
  },
  {
   "cell_type": "code",
   "execution_count": null,
   "metadata": {},
   "outputs": [],
   "source": [
    "modern_pref.size"
   ]
  },
  {
   "cell_type": "code",
   "execution_count": null,
   "metadata": {},
   "outputs": [],
   "source": [
    "# 정규성을 충족하는지 확인\n",
    "print('classic 인테리어 선호도 정규성 shapiro test : ', stats.shapiro(classic_pref))\n",
    "print('modern 인테리어 선호도 정규성 shapiro test : ', stats.shapiro(modern_pref))"
   ]
  },
  {
   "attachments": {},
   "cell_type": "markdown",
   "metadata": {},
   "source": [
    "## Assumption 3 : 등분산성 확인 (두 집단이 동일한 분산을 가지는가?)\n",
    "F 검정으로 확인\n",
    "- $H_0$ : 두 독립 표본의 분산은 동일하다.\n",
    "- $H_1$ : 두 독립 표본의 분산은 동일하지 않다."
   ]
  },
  {
   "cell_type": "code",
   "execution_count": null,
   "metadata": {},
   "outputs": [],
   "source": [
    "f = np.var(classic_pref, ddof=1) / np.var(modern_pref, ddof=1)\n",
    "classic_size = classic_pref.size - 1\n",
    "modern_size = modern_pref.size - 1\n",
    "\n",
    "p_value = 1 - stats.f.cdf(f, classic_size, modern_size)\n",
    "\n",
    "print('F statistics : {}'.format(np.round(f, 4)))\n",
    "print('p value : {:.3f}'.format(p_value, 4))"
   ]
  },
  {
   "cell_type": "code",
   "execution_count": null,
   "metadata": {},
   "outputs": [],
   "source": [
    "def f_test(g1, g2):\n",
    "    f = np.var(g1, ddof=1) / np.var(g2, ddof=1)\n",
    "    num = g1.size - 1\n",
    "    denom = g2.size - 1\n",
    "\n",
    "    p_value = 1 - stats.f.cdf(f, num, denom)\n",
    "\n",
    "    return f, p_value"
   ]
  },
  {
   "attachments": {},
   "cell_type": "markdown",
   "metadata": {},
   "source": [
    "## 독립표본 t 검정"
   ]
  },
  {
   "cell_type": "code",
   "execution_count": null,
   "metadata": {},
   "outputs": [],
   "source": [
    "print(np.mean(classic_pref))\n",
    "print(np.mean(modern_pref))"
   ]
  },
  {
   "cell_type": "code",
   "execution_count": null,
   "metadata": {},
   "outputs": [],
   "source": [
    "result = stats.ttest_ind(classic_pref, modern_pref, equal_var=False)"
   ]
  },
  {
   "cell_type": "code",
   "execution_count": null,
   "metadata": {},
   "outputs": [],
   "source": [
    "print('classic 인테리어 평균 선호도 : ', np.mean(classic_pref))\n",
    "print('modern 인테리어 평균 선호도 : ', np.round(np.mean(modern_pref), 4))\n",
    "print('독립표본 t 검정통계량 : ', result[0].astype(str)[:6])\n",
    "print('p - value : ', result[1].astype(str)[:5])"
   ]
  },
  {
   "cell_type": "code",
   "execution_count": null,
   "metadata": {},
   "outputs": [],
   "source": []
  }
 ],
 "metadata": {
  "kernelspec": {
   "display_name": "dx_env",
   "language": "python",
   "name": "python3"
  },
  "language_info": {
   "codemirror_mode": {
    "name": "ipython",
    "version": 3
   },
   "file_extension": ".py",
   "mimetype": "text/x-python",
   "name": "python",
   "nbconvert_exporter": "python",
   "pygments_lexer": "ipython3",
   "version": "3.7.12"
  },
  "orig_nbformat": 4,
  "vscode": {
   "interpreter": {
    "hash": "6158785473a6d75b19748ef1b8cc77ba1e7f9997f3f5b0cf94b745aa449b3572"
   }
  }
 },
 "nbformat": 4,
 "nbformat_minor": 2
}
