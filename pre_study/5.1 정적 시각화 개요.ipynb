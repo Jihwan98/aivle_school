{
 "cells": [
  {
   "attachments": {},
   "cell_type": "markdown",
   "metadata": {},
   "source": [
    "# 5.1 정적 시각화 개요\n",
    "## 데이터 시각화\n",
    "직관적으로 정보를 확인하는 효과적인 방법 => 적절한 **그래프 유형 선택**과 **옵션 활용**이 중요\n",
    "\n",
    "## 그래프 구성 요소\n",
    "그래프를 구성하는 요소와 방식을 안다면 다양한 활용 가능\n",
    "- figure : 도화지(그림 전체)\n",
    "- axes : 도화지 내 plot이 그려지는 공간\n",
    "- axis : plot의 축 -> y축, x축\n",
    "\n",
    "## 파이썬 시각화 라이브러리\n",
    "대표적으로 Matplotlib과 Seaborn을 많이 사용함\n",
    "|Matplotlib||Seaborn|\n",
    "|---|:---:|---|\n",
    "|파이썬의 기본적인 시각화 라이브러리|기능|통계 시각화에 특화|\n",
    "|기본적이고 단순한 디스플레이|디스플레이|다채로운 시각화 가능|\n",
    "|한 줄의 코드로 복잡한 그래프 구현이 어려움|복잡도|쉽고 간단하게 복잡한 기능 구현|\n",
    "|여러 개의 시각화 가능|다중성|다중 시각화 어려움(메모리 부족 이슈)|\n",
    "|유연한 인터페이스 제공<br>(즉, 원하는 기능 구현 용이)|유연성|유연성이 상대적으로 떨어짐|\n",
    "\n",
    "# 정적 시각화\n",
    "## Matplotlib\n",
    "파이썬의 가장 인기 있는 **데이터 시각화** 라이브러리로, **2D 형태의 그래프**와 **이미지**를 그릴 때 많이 사용  \n",
    "=> **pyplot** 모듈을 많이 사용, 주로 **plt**라는 별칭 이용하여 호출\n",
    "> `import matplotlib.pyplot as plt`"
   ]
  },
  {
   "cell_type": "code",
   "execution_count": null,
   "metadata": {},
   "outputs": [],
   "source": []
  }
 ],
 "metadata": {
  "language_info": {
   "name": "python"
  },
  "orig_nbformat": 4
 },
 "nbformat": 4,
 "nbformat_minor": 2
}
