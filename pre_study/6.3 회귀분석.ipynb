{
 "cells": [
  {
   "attachments": {},
   "cell_type": "markdown",
   "metadata": {},
   "source": [
    "# 회귀분석\n",
    "## 단순회귀분석\n",
    "한 개의 **종속변수(Y)**와 한 개의 **독립변수(X)** 사이의 관계를 분석하는 통계 기법<br>\n",
    "=> Y와 X간의 관계를 일차식(선형)에 대입하여, X의 변화에 따라 Y가 얼마나 변하는지를 예측할 때 사용\n",
    "\n",
    "## 회귀분석 기본 과정\n",
    "- 선형성 : 독리변수(X)와 종속변수(Y)는 선형관계이다.\n",
    "- 독립성 : 종속변수 Y는 서로 독립이어야 한다. (한 관측 값이 다른 관측치에 의해 영향을 받으면 안됨)\n",
    "- 등분산성 : 독립변수 X의 값에 관계없이 종속변수 Y의 분산은 일정하다.\n",
    "- 정규성 : 독립변수 X의 고정된 어떤 값에 대하여 종속변수 Y는 정규분포를 따른다.\n",
    "\n",
    "## 최소제곱법(OLS)\n",
    "잔차의 제곱의 합을 최소화\n",
    "\n",
    "## 결정계수($R^2$)\n",
    "전체 제곱합(SST) = 회귀 제곱합(SSR) + 잔차 제곱합(SSE)\n",
    "\n",
    "## t 검정\n",
    "단순회귀계수를 검정할 때, 개별회귀계수의 통계적 유의성은 t 검정으로 확인\n",
    "\n",
    "## 다중회귀분석\n",
    "단순회귀분석의 확장으로 **독립변수가** **두 개 이상**인 회귀모형에 대한 분석\n",
    "- 다중선형회귀모델 : $Y_i = \\beta_0 + \\beta_1X_{1i} + \\beta_2X_{2i} + \\cdots + \\beta_kX_{ki} + e_i$ (단, $i = 1, 2, \\cdots, n$)\n",
    "- 단순회귀와의 차이점 : 단일 개의 독립변수가 아닌 *여러 개의 독립변수를 사용*\n",
    "- 다중공선성 :\n",
    "    - 다중선형회귀분석 : 각 독립변수 간 *독립성* 가정\n",
    "    - **다중공선성** : *독립변수 간 상관성 존재*를 의미 -> 독립성 x<br>\n",
    "        => 여러 개의 독립변수가 존재할 때 종속변수의 영향을 주는 독립변수를 찾는 것이 중요하며 *최적의 변수 선택의 필요*\n",
    "\n",
    "## 이차회귀모델\n",
    "비선형성을 고려한 이차회귀분석\n",
    "\n",
    "## 다항회귀모델\n",
    "3차, 4차 등과 같은 다항회귀모델이 있음\n",
    "- 2차 이상의 회귀 모형\n",
    "- 변수 간 상호작용 가능(Interaction)\n",
    "- 장점 : 비선형적 추세를 고려할 수 있음\n",
    "> 데이터에 따라서 Log나 차분을 통한 선형화로 계산을 용이하게 할 수 있음\n",
    "\n",
    "# 실습"
   ]
  },
  {
   "cell_type": "code",
   "execution_count": null,
   "metadata": {},
   "outputs": [],
   "source": []
  },
  {
   "cell_type": "code",
   "execution_count": null,
   "metadata": {},
   "outputs": [],
   "source": []
  },
  {
   "cell_type": "code",
   "execution_count": null,
   "metadata": {},
   "outputs": [],
   "source": []
  },
  {
   "cell_type": "code",
   "execution_count": null,
   "metadata": {},
   "outputs": [],
   "source": []
  },
  {
   "cell_type": "code",
   "execution_count": null,
   "metadata": {},
   "outputs": [],
   "source": []
  }
 ],
 "metadata": {
  "language_info": {
   "name": "python"
  },
  "orig_nbformat": 4
 },
 "nbformat": 4,
 "nbformat_minor": 2
}
