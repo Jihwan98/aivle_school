{
 "cells": [
  {
   "cell_type": "markdown",
   "metadata": {
    "id": "kq-gIjADyBis"
   },
   "source": [
    "## <b> [3단계] AI 모델링\n",
    "---\n",
    "\n",
    "## 1, 2 단계에서 진행하신 내용을 아래에 그대로 진행해주세요.\n",
    "\n",
    "---"
   ]
  },
  {
   "cell_type": "markdown",
   "metadata": {
    "id": "9lxaVIQZyBiv"
   },
   "source": [
    "# <b>Step 0. 라이브러리 import 및 데이터 불러오기\n",
    "### **가. 라이브러리 import**"
   ]
  },
  {
   "cell_type": "markdown",
   "metadata": {
    "id": "nfdwnFPTyBix"
   },
   "source": [
    "* 데이터 프레임 관련 라이브러리"
   ]
  },
  {
   "cell_type": "code",
   "execution_count": 1,
   "metadata": {
    "ExecuteTime": {
     "end_time": "2023-03-08T06:40:06.821435Z",
     "start_time": "2023-03-08T06:40:05.049731Z"
    },
    "executionInfo": {
     "elapsed": 3,
     "status": "ok",
     "timestamp": 1678175495192,
     "user": {
      "displayName": "박지환",
      "userId": "01747138341474302424"
     },
     "user_tz": -540
    },
    "id": "Nt3IhQd5yBix"
   },
   "outputs": [],
   "source": [
    "#라이브러리 불러오기\n",
    "import numpy as np\n",
    "import pandas as pd\n",
    "import matplotlib.pyplot as plt\n",
    "import seaborn as sns\n",
    "\n",
    "import warnings\n",
    "\n",
    "warnings.filterwarnings(action='ignore')\n",
    "%config InlineBackend.figure_format='retina'"
   ]
  },
  {
   "cell_type": "markdown",
   "metadata": {
    "id": "O6VN6k07yBix"
   },
   "source": [
    "### **나.  학습데이터 불러오기**\n",
    "- label 0, 1 변경\n",
    "- train 데이터의 결측치 2개 행 삭제"
   ]
  },
  {
   "cell_type": "code",
   "execution_count": 2,
   "metadata": {
    "ExecuteTime": {
     "end_time": "2023-03-08T06:40:06.852437Z",
     "start_time": "2023-03-08T06:40:06.824428Z"
    }
   },
   "outputs": [
    {
     "data": {
      "text/plain": [
       "((3664, 24), (3664, 24), (2441, 24))"
      ]
     },
     "execution_count": 2,
     "metadata": {},
     "output_type": "execute_result"
    }
   ],
   "source": [
    "train_df = pd.read_csv('data/train.csv')\n",
    "test_x = pd.read_csv('data/test.csv')\n",
    "train_df.shape,train_df.shape, test_x.shape"
   ]
  },
  {
   "cell_type": "code",
   "execution_count": 3,
   "metadata": {
    "ExecuteTime": {
     "end_time": "2023-03-08T06:40:06.867428Z",
     "start_time": "2023-03-08T06:40:06.854428Z"
    },
    "scrolled": true
   },
   "outputs": [
    {
     "data": {
      "text/plain": [
       "url_len                    0\n",
       "url_num_hyphens_dom        0\n",
       "url_path_len               0\n",
       "url_domain_len             0\n",
       "url_hostname_len           0\n",
       "url_num_dots               0\n",
       "url_num_underscores        0\n",
       "url_query_len              0\n",
       "url_num_query_para         0\n",
       "url_ip_present             0\n",
       "url_entropy                0\n",
       "url_chinese_present        0\n",
       "url_port                   0\n",
       "html_num_tags('iframe')    0\n",
       "html_num_tags('script')    0\n",
       "html_num_tags('embed')     0\n",
       "html_num_tags('object')    0\n",
       "html_num_tags('div')       0\n",
       "html_num_tags('head')      0\n",
       "html_num_tags('body')      0\n",
       "html_num_tags('form')      0\n",
       "html_num_tags('a')         0\n",
       "html_num_tags('applet')    0\n",
       "label                      0\n",
       "dtype: int64"
      ]
     },
     "execution_count": 3,
     "metadata": {},
     "output_type": "execute_result"
    }
   ],
   "source": [
    "train_df = train_df.dropna()\n",
    "train_df.isnull().sum()"
   ]
  },
  {
   "cell_type": "code",
   "execution_count": 4,
   "metadata": {
    "ExecuteTime": {
     "end_time": "2023-03-08T06:40:06.883429Z",
     "start_time": "2023-03-08T06:40:06.869428Z"
    }
   },
   "outputs": [
    {
     "data": {
      "text/plain": [
       "(3662, 24)"
      ]
     },
     "execution_count": 4,
     "metadata": {},
     "output_type": "execute_result"
    }
   ],
   "source": [
    "train_df.shape"
   ]
  },
  {
   "cell_type": "code",
   "execution_count": 5,
   "metadata": {
    "ExecuteTime": {
     "end_time": "2023-03-08T06:40:07.571691Z",
     "start_time": "2023-03-08T06:40:07.555691Z"
    }
   },
   "outputs": [],
   "source": [
    "train_df['label'] = train_df['label'].replace({'benign' : 0, 'malicious' : 1})"
   ]
  },
  {
   "cell_type": "markdown",
   "metadata": {
    "id": "sLon5fQiyBiy"
   },
   "source": [
    "### **다.  데이터 전처리**\n",
    "- 값이 0밖에 없는 특징 제거\n",
    "    1. url_chinese_present\n",
    "    2. html_num_tags('applet')\n",
    "- 상관관계가 높은 변수 제거\n",
    "    - url_hostname_len 과 url_domain_len : 0.998 -> label과 상관관계가 더 높은 url_hostname_len 만 살리기\n",
    "    - url_len 과 url_path_len : 0.944 -> label과 상관관계가 더 높은 url_path_len 만 살리기\n",
    "    - url_query_len_is 와 url_num_query_para_is : 0.914 : label과 상관관계가 더 높은 url_query_len_is 만 살리기\n",
    "- 중복 데이터 제거\n",
    "- test 데이터 결측치 -> 중앙값으로 대체"
   ]
  },
  {
   "cell_type": "markdown",
   "metadata": {},
   "source": [
    "#### 값이 0밖에 없는 특징 제거\n",
    "1. url_chinese_present\n",
    "2. html_num_tags('applet')"
   ]
  },
  {
   "cell_type": "code",
   "execution_count": 6,
   "metadata": {
    "ExecuteTime": {
     "end_time": "2023-03-08T06:40:09.809483Z",
     "start_time": "2023-03-08T06:40:09.801064Z"
    }
   },
   "outputs": [],
   "source": [
    "train_df = train_df.drop([\"url_chinese_present\", \"html_num_tags('applet')\"], axis=1)\n",
    "test_x = test_x.drop([\"url_chinese_present\", \"html_num_tags('applet')\"], axis=1)"
   ]
  },
  {
   "cell_type": "markdown",
   "metadata": {},
   "source": [
    "#### 상관관계가 높은 변수 제거\n",
    "- url_hostname_len 과 url_domain_len : 0.998 -> label과 상관관계가 더 높은 url_hostname_len 만 살리기\n",
    "- url_len 과 url_path_len : 0.944 -> label과 상관관계가 더 높은 url_path_len 만 살리기\n",
    "- url_query_len_is 와 url_num_query_para_is : 0.914 : label과 상관관계가 더 높은 url_query_len_is 만 살리기"
   ]
  },
  {
   "cell_type": "code",
   "execution_count": 7,
   "metadata": {
    "ExecuteTime": {
     "end_time": "2023-03-08T06:40:10.139068Z",
     "start_time": "2023-03-08T06:40:10.118067Z"
    }
   },
   "outputs": [],
   "source": [
    "train_df = train_df.drop([\"url_domain_len\", \"url_path_len\", \"url_num_query_para\"], axis=1)\n",
    "test_x = test_x.drop([\"url_domain_len\", \"url_path_len\", \"url_num_query_para\"], axis=1)"
   ]
  },
  {
   "cell_type": "markdown",
   "metadata": {},
   "source": [
    "#### 중복 데이터 제거"
   ]
  },
  {
   "cell_type": "code",
   "execution_count": 8,
   "metadata": {
    "ExecuteTime": {
     "end_time": "2023-03-08T06:40:10.452084Z",
     "start_time": "2023-03-08T06:40:10.435084Z"
    }
   },
   "outputs": [],
   "source": [
    "train_df = train_df.drop_duplicates()"
   ]
  },
  {
   "cell_type": "markdown",
   "metadata": {},
   "source": [
    "#### test 데이터 결측치 처리\n",
    "- 평균으로 대체"
   ]
  },
  {
   "cell_type": "code",
   "execution_count": 9,
   "metadata": {
    "ExecuteTime": {
     "end_time": "2023-03-08T06:40:11.193337Z",
     "start_time": "2023-03-08T06:40:11.181337Z"
    }
   },
   "outputs": [
    {
     "data": {
      "text/plain": [
       "id                           0\n",
       "url_len                      0\n",
       "url_num_hyphens_dom          0\n",
       "url_hostname_len           463\n",
       "url_num_dots                 0\n",
       "url_num_underscores          0\n",
       "url_query_len                0\n",
       "url_ip_present               0\n",
       "url_entropy                  0\n",
       "url_port                     0\n",
       "html_num_tags('iframe')      0\n",
       "html_num_tags('script')    467\n",
       "html_num_tags('embed')       0\n",
       "html_num_tags('object')      0\n",
       "html_num_tags('div')         0\n",
       "html_num_tags('head')        0\n",
       "html_num_tags('body')        0\n",
       "html_num_tags('form')      467\n",
       "html_num_tags('a')         461\n",
       "dtype: int64"
      ]
     },
     "execution_count": 9,
     "metadata": {},
     "output_type": "execute_result"
    }
   ],
   "source": [
    "test_x.isnull().sum()"
   ]
  },
  {
   "cell_type": "code",
   "execution_count": 10,
   "metadata": {
    "ExecuteTime": {
     "end_time": "2023-03-08T06:40:11.350393Z",
     "start_time": "2023-03-08T06:40:11.327386Z"
    },
    "scrolled": true
   },
   "outputs": [],
   "source": [
    "null_cols = ['url_hostname_len', \"html_num_tags('script')\", \"html_num_tags('form')\", \"html_num_tags('a')\"]\n",
    "for col in null_cols:\n",
    "    value = train_df[col].median()\n",
    "    test_x[col] = test_x[col].fillna(value)"
   ]
  },
  {
   "cell_type": "code",
   "execution_count": 11,
   "metadata": {
    "ExecuteTime": {
     "end_time": "2023-03-08T06:40:11.493386Z",
     "start_time": "2023-03-08T06:40:11.483386Z"
    }
   },
   "outputs": [
    {
     "data": {
      "text/plain": [
       "id                         0\n",
       "url_len                    0\n",
       "url_num_hyphens_dom        0\n",
       "url_hostname_len           0\n",
       "url_num_dots               0\n",
       "url_num_underscores        0\n",
       "url_query_len              0\n",
       "url_ip_present             0\n",
       "url_entropy                0\n",
       "url_port                   0\n",
       "html_num_tags('iframe')    0\n",
       "html_num_tags('script')    0\n",
       "html_num_tags('embed')     0\n",
       "html_num_tags('object')    0\n",
       "html_num_tags('div')       0\n",
       "html_num_tags('head')      0\n",
       "html_num_tags('body')      0\n",
       "html_num_tags('form')      0\n",
       "html_num_tags('a')         0\n",
       "dtype: int64"
      ]
     },
     "execution_count": 11,
     "metadata": {},
     "output_type": "execute_result"
    }
   ],
   "source": [
    "test_x.isnull().sum()"
   ]
  },
  {
   "cell_type": "markdown",
   "metadata": {
    "id": "DyhEBdUCyBiz"
   },
   "source": [
    "### **마. Confusion Matrix 함수 정의**\n"
   ]
  },
  {
   "cell_type": "markdown",
   "metadata": {
    "id": "ytXA4toAyBi0"
   },
   "source": [
    "#### Confusion Matrix란 Training 을 통한 Prediction 성능을 측정하기 위해 예측 value와 실제 value를 비교하기 위한 표입니다.\n",
    "#### 아래 함수는 이번 과제에서 confusion matrix 결과를 보기 쉽게 표현한 것으로 사용 예를 참고하여 모델 결과 확인에 사용하시기 바랍니다.\n",
    "\n"
   ]
  },
  {
   "cell_type": "markdown",
   "metadata": {
    "id": "g2-ZOTY1yBi0"
   },
   "source": [
    "**<span style=\"color:green\">[참고링크] 공식 Document**</span>\n",
    " \n",
    "* confusion matrix(https://scikit-learn.org/stable/modules/generated/sklearn.metrics.confusion_matrix.html)"
   ]
  },
  {
   "cell_type": "code",
   "execution_count": 12,
   "metadata": {
    "ExecuteTime": {
     "end_time": "2023-03-08T06:40:13.046218Z",
     "start_time": "2023-03-08T06:40:12.731741Z"
    },
    "executionInfo": {
     "elapsed": 2,
     "status": "ok",
     "timestamp": 1678175499217,
     "user": {
      "displayName": "박지환",
      "userId": "01747138341474302424"
     },
     "user_tz": -540
    },
    "id": "rTXu5X36yBi0"
   },
   "outputs": [],
   "source": [
    "from sklearn.metrics import classification_report as creport\n",
    "from sklearn.metrics import confusion_matrix, accuracy_score, precision_score, recall_score"
   ]
  },
  {
   "cell_type": "code",
   "execution_count": 13,
   "metadata": {
    "ExecuteTime": {
     "end_time": "2023-03-08T06:40:13.062216Z",
     "start_time": "2023-03-08T06:40:13.048218Z"
    },
    "executionInfo": {
     "elapsed": 2,
     "status": "ok",
     "timestamp": 1678175500000,
     "user": {
      "displayName": "박지환",
      "userId": "01747138341474302424"
     },
     "user_tz": -540
    },
    "id": "p7ImYzZzyBi0"
   },
   "outputs": [],
   "source": [
    "def plot_confusion_matrix(ax, matrix, labels = ['malicious','benign'], title='Confusion matrix', fontsize=9):\n",
    "    ax.set_xticks([x for x in range(len(labels))])\n",
    "    ax.set_yticks([y for y in range(len(labels))])\n",
    "\n",
    "    # Place labels on minor ticks\n",
    "    ax.set_xticks([x + 0.5 for x in range(len(labels))], minor=True)\n",
    "    ax.set_xticklabels(labels, rotation=90, fontsize=fontsize, minor=True)\n",
    "    ax.set_yticks([y + 0.5 for y in range(len(labels))], minor=True)\n",
    "    ax.set_yticklabels(labels[::-1], fontsize=fontsize, minor=True)\n",
    "\n",
    "    # Hide major tick labels\n",
    "    ax.tick_params(which='major', labelbottom='off', labelleft='off')\n",
    "\n",
    "    # Finally, hide minor tick marks\n",
    "    ax.tick_params(which='minor', width=0)\n",
    "\n",
    "    # Plot heat map\n",
    "    proportions = [1. * row / sum(row) for row in matrix]\n",
    "    ax.pcolor(np.array(proportions[::-1]), cmap=plt.cm.Blues)\n",
    "\n",
    "    # Plot counts as text\n",
    "    for row in range(len(matrix)):\n",
    "        for col in range(len(matrix[row])):\n",
    "            confusion = matrix[::-1][row][col]\n",
    "            if confusion != 0:\n",
    "                ax.text(col + 0.5, row + 0.5, int(confusion),\n",
    "                        fontsize=fontsize,\n",
    "                        horizontalalignment='center',\n",
    "                        verticalalignment='center')\n",
    "\n",
    "    # Add finishing touches\n",
    "    ax.grid(True, linestyle=':')\n",
    "    ax.set_title(title, fontsize=fontsize)\n",
    "    ax.set_xlabel('prediction', fontsize=fontsize)\n",
    "    ax.set_ylabel('actual', fontsize=fontsize)\n",
    "\n",
    "    plt.show()"
   ]
  },
  {
   "cell_type": "markdown",
   "metadata": {
    "id": "zQ4-WtJFyBi0"
   },
   "source": [
    "### <span style=\"color:blue\">[예시] Confusion Matrix 사용 방법<span>"
   ]
  },
  {
   "cell_type": "markdown",
   "metadata": {
    "id": "hxbHh9BzyBi1"
   },
   "source": [
    "- 샘플\n",
    "#### > confusion = confusion_matrix(test_y, dt_pred)\n",
    "#### > fig, ax = plt.subplots(figsize=(10,3))\n",
    "#### > plot_confusion_matrix(ax, confusion, fontsize=30)\n"
   ]
  },
  {
   "cell_type": "markdown",
   "metadata": {
    "id": "-UzhUoqYyBi1"
   },
   "source": [
    "---"
   ]
  },
  {
   "cell_type": "markdown",
   "metadata": {
    "id": "27qN3qQiyBi1"
   },
   "source": [
    "## <b> Q. AI 분류 모델 만들기\n",
    "\n",
    "* 전처리한 데이터셋을 활용해 악성사이트 여부를 판별하는 AI 분류 모델을 <font color=\"red\">최소 3개 이상 </font>만들어보세요."
   ]
  },
  {
   "cell_type": "code",
   "execution_count": 14,
   "metadata": {
    "ExecuteTime": {
     "end_time": "2023-03-08T06:40:14.684130Z",
     "start_time": "2023-03-08T06:40:14.676130Z"
    }
   },
   "outputs": [],
   "source": [
    "train_x = train_df.drop(\"label\", axis=1)\n",
    "train_y = train_df.loc[:, \"label\"]\n",
    "feature_names = list(train_x)"
   ]
  },
  {
   "cell_type": "code",
   "execution_count": 15,
   "metadata": {
    "ExecuteTime": {
     "end_time": "2023-03-08T06:40:15.032150Z",
     "start_time": "2023-03-08T06:40:14.933149Z"
    },
    "executionInfo": {
     "elapsed": 285,
     "status": "ok",
     "timestamp": 1678175565507,
     "user": {
      "displayName": "박지환",
      "userId": "01747138341474302424"
     },
     "user_tz": -540
    },
    "id": "-_1XBgCU8hI5"
   },
   "outputs": [],
   "source": [
    "from sklearn.linear_model import LogisticRegression\n",
    "from sklearn.metrics import accuracy_score, f1_score\n",
    "from sklearn.model_selection import cross_val_score"
   ]
  },
  {
   "cell_type": "markdown",
   "metadata": {},
   "source": [
    "### XGBoost"
   ]
  },
  {
   "cell_type": "code",
   "execution_count": 16,
   "metadata": {
    "ExecuteTime": {
     "end_time": "2023-03-08T06:40:17.668957Z",
     "start_time": "2023-03-08T06:40:17.620949Z"
    }
   },
   "outputs": [],
   "source": [
    "from xgboost import XGBClassifier"
   ]
  },
  {
   "cell_type": "code",
   "execution_count": 20,
   "metadata": {
    "ExecuteTime": {
     "end_time": "2023-03-08T06:41:38.095706Z",
     "start_time": "2023-03-08T06:41:38.075707Z"
    }
   },
   "outputs": [],
   "source": [
    "model = XGBClassifier(\n",
    "    learning_rate=0.01,\n",
    "    n_estimators=1000,\n",
    "    max_depth=9,\n",
    "    min_child_weight=1,\n",
    "    gamma=0.1,\n",
    "    colsample_bytree=0.6,\n",
    "    subsample=0.74\n",
    ")"
   ]
  },
  {
   "cell_type": "code",
   "execution_count": 21,
   "metadata": {
    "ExecuteTime": {
     "end_time": "2023-03-08T06:41:44.308859Z",
     "start_time": "2023-03-08T06:41:39.180870Z"
    }
   },
   "outputs": [],
   "source": [
    "model.fit(train_x, train_y)\n",
    "test = test_x.drop('id', axis=1)\n",
    "y_pred = model.predict(test)"
   ]
  },
  {
   "cell_type": "code",
   "execution_count": 22,
   "metadata": {
    "ExecuteTime": {
     "end_time": "2023-03-08T06:41:44.323860Z",
     "start_time": "2023-03-08T06:41:44.314860Z"
    }
   },
   "outputs": [],
   "source": [
    "# 'benign' : 0, 'malicious' : 1\n",
    "prediction = np.where(y_pred == 0, 'benign', 'malicious')"
   ]
  },
  {
   "cell_type": "code",
   "execution_count": 23,
   "metadata": {
    "ExecuteTime": {
     "end_time": "2023-03-08T06:41:44.368859Z",
     "start_time": "2023-03-08T06:41:44.328860Z"
    }
   },
   "outputs": [],
   "source": [
    "pd.DataFrame(data = {\"id\" : test_x['id'], \"label\" : prediction}, columns=['id', 'label']).to_csv(\"prediction_11_최적_전처리.csv\", index=False)"
   ]
  },
  {
   "cell_type": "code",
   "execution_count": null,
   "metadata": {},
   "outputs": [],
   "source": []
  }
 ],
 "metadata": {
  "accelerator": "GPU",
  "colab": {
   "provenance": []
  },
  "gpuClass": "standard",
  "kernelspec": {
   "display_name": "aivle",
   "language": "python",
   "name": "aivle"
  },
  "language_info": {
   "codemirror_mode": {
    "name": "ipython",
    "version": 3
   },
   "file_extension": ".py",
   "mimetype": "text/x-python",
   "name": "python",
   "nbconvert_exporter": "python",
   "pygments_lexer": "ipython3",
   "version": "3.9.16"
  },
  "toc": {
   "base_numbering": 1,
   "nav_menu": {},
   "number_sections": false,
   "sideBar": true,
   "skip_h1_title": false,
   "title_cell": "Table of Contents",
   "title_sidebar": "Contents",
   "toc_cell": false,
   "toc_position": {},
   "toc_section_display": true,
   "toc_window_display": false
  },
  "vscode": {
   "interpreter": {
    "hash": "f08154012ddadd8e950e6e9e035c7a7b32c136e7647e9b7c77e02eb723a8bedb"
   }
  }
 },
 "nbformat": 4,
 "nbformat_minor": 1
}
