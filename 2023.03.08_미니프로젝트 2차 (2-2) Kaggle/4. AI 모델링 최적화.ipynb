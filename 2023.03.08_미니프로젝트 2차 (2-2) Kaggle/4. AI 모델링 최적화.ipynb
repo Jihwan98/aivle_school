{
 "cells": [
  {
   "cell_type": "markdown",
   "metadata": {},
   "source": [
    "## **실습 4. AI 모델링 최적화**\n",
    "## 본 실습파일은 <u><b>학습자용</u> 입니다.\n",
    "* 본 과정에서는 웹페이지에서 추출한 Feature(특징) 기반으로 악성사이트를 탐지하는 머신러닝 분류문제를 예제코드를 통해서 해결할 것입니다.\n",
    "---\n",
    "\n",
    "\n",
    "### **[실습 프로세스]**\n",
    "### 0. 데이터 불러오기\n",
    "### 1. 데이터 전처리\n",
    "### 2. train_test_split을 이용하여, train_x, test_x, train_y, test_y로 데이터 분리\n",
    "### 3. GridSearch 활용 AI모델링\n",
    "\n"
   ]
  },
  {
   "cell_type": "markdown",
   "metadata": {},
   "source": [
    "# <b>Step 0. 라이브러리 import 및 데이터 불러오기\n",
    "### **가. 라이브러리 import**"
   ]
  },
  {
   "cell_type": "markdown",
   "metadata": {},
   "source": [
    "* 데이터 프레임 관련 라이브러리"
   ]
  },
  {
   "cell_type": "code",
   "execution_count": 2,
   "metadata": {
    "ExecuteTime": {
     "end_time": "2023-03-07T08:11:45.481698Z",
     "start_time": "2023-03-07T08:11:44.308219Z"
    }
   },
   "outputs": [],
   "source": [
    "import pandas as pd\n",
    "import numpy as np\n",
    "import matplotlib.pyplot as plt\n",
    "import seaborn as sns\n",
    "\n",
    "import warnings\n",
    "\n",
    "warnings.filterwarnings(action='ignore')\n",
    "%config InlineBackend.figure_format='retina'"
   ]
  },
  {
   "cell_type": "markdown",
   "metadata": {},
   "source": [
    "### **나.  학습데이터 불러오기**"
   ]
  },
  {
   "cell_type": "code",
   "execution_count": 3,
   "metadata": {
    "ExecuteTime": {
     "end_time": "2023-03-07T08:12:11.582284Z",
     "start_time": "2023-03-07T08:12:11.518113Z"
    }
   },
   "outputs": [],
   "source": [
    "train_x = pd.read_csv('train_x.csv', index_col=0)\n",
    "test_x = pd.read_csv('test_x.csv', index_col=0)\n",
    "train_y = pd.read_csv('train_y.csv', index_col=0)\n",
    "test_y = pd.read_csv('test_y.csv', index_col=0)"
   ]
  },
  {
   "cell_type": "code",
   "execution_count": 4,
   "metadata": {
    "ExecuteTime": {
     "end_time": "2023-03-07T08:12:11.706141Z",
     "start_time": "2023-03-07T08:12:11.698140Z"
    }
   },
   "outputs": [],
   "source": [
    "feature_names = list(train_x)"
   ]
  },
  {
   "cell_type": "markdown",
   "metadata": {},
   "source": [
    "### **다.  데이터 전처리**"
   ]
  },
  {
   "cell_type": "code",
   "execution_count": 5,
   "metadata": {
    "ExecuteTime": {
     "end_time": "2023-03-07T08:12:30.517471Z",
     "start_time": "2023-03-07T08:12:30.336346Z"
    }
   },
   "outputs": [],
   "source": [
    "from sklearn.preprocessing import StandardScaler"
   ]
  },
  {
   "cell_type": "code",
   "execution_count": 6,
   "metadata": {
    "ExecuteTime": {
     "end_time": "2023-03-07T08:12:35.741928Z",
     "start_time": "2023-03-07T08:12:35.697920Z"
    }
   },
   "outputs": [
    {
     "data": {
      "text/html": [
       "<div>\n",
       "<style scoped>\n",
       "    .dataframe tbody tr th:only-of-type {\n",
       "        vertical-align: middle;\n",
       "    }\n",
       "\n",
       "    .dataframe tbody tr th {\n",
       "        vertical-align: top;\n",
       "    }\n",
       "\n",
       "    .dataframe thead th {\n",
       "        text-align: right;\n",
       "    }\n",
       "</style>\n",
       "<table border=\"1\" class=\"dataframe\">\n",
       "  <thead>\n",
       "    <tr style=\"text-align: right;\">\n",
       "      <th></th>\n",
       "      <th>url_len</th>\n",
       "      <th>url_num_hyphens_dom</th>\n",
       "      <th>url_hostname_len</th>\n",
       "      <th>url_num_dots</th>\n",
       "      <th>url_num_underscores</th>\n",
       "      <th>url_ip_present</th>\n",
       "      <th>url_entropy</th>\n",
       "      <th>url_port</th>\n",
       "      <th>html_num_tags('iframe')</th>\n",
       "      <th>html_num_tags('script')</th>\n",
       "      <th>html_num_tags('div')</th>\n",
       "      <th>html_num_tags('head')</th>\n",
       "      <th>html_num_tags('body')</th>\n",
       "      <th>html_num_tags('form')</th>\n",
       "      <th>html_num_tags('a')</th>\n",
       "      <th>html_num_tags('embed')_is</th>\n",
       "      <th>html_num_tags('object')_is</th>\n",
       "      <th>url_query_len_is</th>\n",
       "    </tr>\n",
       "  </thead>\n",
       "  <tbody>\n",
       "    <tr>\n",
       "      <th>count</th>\n",
       "      <td>2586.000000</td>\n",
       "      <td>2586.000000</td>\n",
       "      <td>2586.000000</td>\n",
       "      <td>2586.000000</td>\n",
       "      <td>2586.00000</td>\n",
       "      <td>2586.000000</td>\n",
       "      <td>2586.000000</td>\n",
       "      <td>2586.000000</td>\n",
       "      <td>2586.000000</td>\n",
       "      <td>2586.000000</td>\n",
       "      <td>2586.000000</td>\n",
       "      <td>2586.000000</td>\n",
       "      <td>2586.000000</td>\n",
       "      <td>2586.000000</td>\n",
       "      <td>2586.000000</td>\n",
       "      <td>2586.000000</td>\n",
       "      <td>2586.000000</td>\n",
       "      <td>2586.000000</td>\n",
       "    </tr>\n",
       "    <tr>\n",
       "      <th>mean</th>\n",
       "      <td>56.508894</td>\n",
       "      <td>0.422274</td>\n",
       "      <td>20.501160</td>\n",
       "      <td>2.526295</td>\n",
       "      <td>0.29041</td>\n",
       "      <td>0.058778</td>\n",
       "      <td>4.234053</td>\n",
       "      <td>0.002320</td>\n",
       "      <td>0.218097</td>\n",
       "      <td>8.469838</td>\n",
       "      <td>72.482985</td>\n",
       "      <td>0.997680</td>\n",
       "      <td>1.016628</td>\n",
       "      <td>0.979892</td>\n",
       "      <td>65.245166</td>\n",
       "      <td>0.016241</td>\n",
       "      <td>0.022428</td>\n",
       "      <td>0.064578</td>\n",
       "    </tr>\n",
       "    <tr>\n",
       "      <th>std</th>\n",
       "      <td>85.838214</td>\n",
       "      <td>0.862921</td>\n",
       "      <td>10.078656</td>\n",
       "      <td>1.452898</td>\n",
       "      <td>1.20137</td>\n",
       "      <td>0.235254</td>\n",
       "      <td>0.396204</td>\n",
       "      <td>0.048122</td>\n",
       "      <td>0.937711</td>\n",
       "      <td>11.992360</td>\n",
       "      <td>430.759978</td>\n",
       "      <td>0.149772</td>\n",
       "      <td>0.231290</td>\n",
       "      <td>1.640747</td>\n",
       "      <td>396.814806</td>\n",
       "      <td>0.126427</td>\n",
       "      <td>0.148101</td>\n",
       "      <td>0.245828</td>\n",
       "    </tr>\n",
       "    <tr>\n",
       "      <th>min</th>\n",
       "      <td>6.000000</td>\n",
       "      <td>0.000000</td>\n",
       "      <td>4.000000</td>\n",
       "      <td>1.000000</td>\n",
       "      <td>0.00000</td>\n",
       "      <td>0.000000</td>\n",
       "      <td>2.737839</td>\n",
       "      <td>0.000000</td>\n",
       "      <td>0.000000</td>\n",
       "      <td>0.000000</td>\n",
       "      <td>0.000000</td>\n",
       "      <td>0.000000</td>\n",
       "      <td>0.000000</td>\n",
       "      <td>0.000000</td>\n",
       "      <td>0.000000</td>\n",
       "      <td>0.000000</td>\n",
       "      <td>0.000000</td>\n",
       "      <td>0.000000</td>\n",
       "    </tr>\n",
       "    <tr>\n",
       "      <th>25%</th>\n",
       "      <td>24.250000</td>\n",
       "      <td>0.000000</td>\n",
       "      <td>14.000000</td>\n",
       "      <td>2.000000</td>\n",
       "      <td>0.00000</td>\n",
       "      <td>0.000000</td>\n",
       "      <td>3.994701</td>\n",
       "      <td>0.000000</td>\n",
       "      <td>0.000000</td>\n",
       "      <td>2.000000</td>\n",
       "      <td>5.000000</td>\n",
       "      <td>1.000000</td>\n",
       "      <td>1.000000</td>\n",
       "      <td>0.000000</td>\n",
       "      <td>2.000000</td>\n",
       "      <td>0.000000</td>\n",
       "      <td>0.000000</td>\n",
       "      <td>0.000000</td>\n",
       "    </tr>\n",
       "    <tr>\n",
       "      <th>50%</th>\n",
       "      <td>36.000000</td>\n",
       "      <td>0.000000</td>\n",
       "      <td>17.000000</td>\n",
       "      <td>2.000000</td>\n",
       "      <td>0.00000</td>\n",
       "      <td>0.000000</td>\n",
       "      <td>4.198935</td>\n",
       "      <td>0.000000</td>\n",
       "      <td>0.000000</td>\n",
       "      <td>4.000000</td>\n",
       "      <td>31.000000</td>\n",
       "      <td>1.000000</td>\n",
       "      <td>1.000000</td>\n",
       "      <td>1.000000</td>\n",
       "      <td>15.000000</td>\n",
       "      <td>0.000000</td>\n",
       "      <td>0.000000</td>\n",
       "      <td>0.000000</td>\n",
       "    </tr>\n",
       "    <tr>\n",
       "      <th>75%</th>\n",
       "      <td>57.000000</td>\n",
       "      <td>1.000000</td>\n",
       "      <td>24.000000</td>\n",
       "      <td>3.000000</td>\n",
       "      <td>0.00000</td>\n",
       "      <td>0.000000</td>\n",
       "      <td>4.474171</td>\n",
       "      <td>0.000000</td>\n",
       "      <td>0.000000</td>\n",
       "      <td>11.750000</td>\n",
       "      <td>59.000000</td>\n",
       "      <td>1.000000</td>\n",
       "      <td>1.000000</td>\n",
       "      <td>1.000000</td>\n",
       "      <td>48.750000</td>\n",
       "      <td>0.000000</td>\n",
       "      <td>0.000000</td>\n",
       "      <td>0.000000</td>\n",
       "    </tr>\n",
       "    <tr>\n",
       "      <th>max</th>\n",
       "      <td>1837.000000</td>\n",
       "      <td>14.000000</td>\n",
       "      <td>109.000000</td>\n",
       "      <td>26.000000</td>\n",
       "      <td>18.00000</td>\n",
       "      <td>1.000000</td>\n",
       "      <td>5.821782</td>\n",
       "      <td>1.000000</td>\n",
       "      <td>26.000000</td>\n",
       "      <td>174.000000</td>\n",
       "      <td>19941.000000</td>\n",
       "      <td>3.000000</td>\n",
       "      <td>3.000000</td>\n",
       "      <td>57.000000</td>\n",
       "      <td>13451.000000</td>\n",
       "      <td>1.000000</td>\n",
       "      <td>1.000000</td>\n",
       "      <td>1.000000</td>\n",
       "    </tr>\n",
       "  </tbody>\n",
       "</table>\n",
       "</div>"
      ],
      "text/plain": [
       "           url_len  url_num_hyphens_dom  url_hostname_len  url_num_dots  \\\n",
       "count  2586.000000          2586.000000       2586.000000   2586.000000   \n",
       "mean     56.508894             0.422274         20.501160      2.526295   \n",
       "std      85.838214             0.862921         10.078656      1.452898   \n",
       "min       6.000000             0.000000          4.000000      1.000000   \n",
       "25%      24.250000             0.000000         14.000000      2.000000   \n",
       "50%      36.000000             0.000000         17.000000      2.000000   \n",
       "75%      57.000000             1.000000         24.000000      3.000000   \n",
       "max    1837.000000            14.000000        109.000000     26.000000   \n",
       "\n",
       "       url_num_underscores  url_ip_present  url_entropy     url_port  \\\n",
       "count           2586.00000     2586.000000  2586.000000  2586.000000   \n",
       "mean               0.29041        0.058778     4.234053     0.002320   \n",
       "std                1.20137        0.235254     0.396204     0.048122   \n",
       "min                0.00000        0.000000     2.737839     0.000000   \n",
       "25%                0.00000        0.000000     3.994701     0.000000   \n",
       "50%                0.00000        0.000000     4.198935     0.000000   \n",
       "75%                0.00000        0.000000     4.474171     0.000000   \n",
       "max               18.00000        1.000000     5.821782     1.000000   \n",
       "\n",
       "       html_num_tags('iframe')  html_num_tags('script')  html_num_tags('div')  \\\n",
       "count              2586.000000              2586.000000           2586.000000   \n",
       "mean                  0.218097                 8.469838             72.482985   \n",
       "std                   0.937711                11.992360            430.759978   \n",
       "min                   0.000000                 0.000000              0.000000   \n",
       "25%                   0.000000                 2.000000              5.000000   \n",
       "50%                   0.000000                 4.000000             31.000000   \n",
       "75%                   0.000000                11.750000             59.000000   \n",
       "max                  26.000000               174.000000          19941.000000   \n",
       "\n",
       "       html_num_tags('head')  html_num_tags('body')  html_num_tags('form')  \\\n",
       "count            2586.000000            2586.000000            2586.000000   \n",
       "mean                0.997680               1.016628               0.979892   \n",
       "std                 0.149772               0.231290               1.640747   \n",
       "min                 0.000000               0.000000               0.000000   \n",
       "25%                 1.000000               1.000000               0.000000   \n",
       "50%                 1.000000               1.000000               1.000000   \n",
       "75%                 1.000000               1.000000               1.000000   \n",
       "max                 3.000000               3.000000              57.000000   \n",
       "\n",
       "       html_num_tags('a')  html_num_tags('embed')_is  \\\n",
       "count         2586.000000                2586.000000   \n",
       "mean            65.245166                   0.016241   \n",
       "std            396.814806                   0.126427   \n",
       "min              0.000000                   0.000000   \n",
       "25%              2.000000                   0.000000   \n",
       "50%             15.000000                   0.000000   \n",
       "75%             48.750000                   0.000000   \n",
       "max          13451.000000                   1.000000   \n",
       "\n",
       "       html_num_tags('object')_is  url_query_len_is  \n",
       "count                 2586.000000       2586.000000  \n",
       "mean                     0.022428          0.064578  \n",
       "std                      0.148101          0.245828  \n",
       "min                      0.000000          0.000000  \n",
       "25%                      0.000000          0.000000  \n",
       "50%                      0.000000          0.000000  \n",
       "75%                      0.000000          0.000000  \n",
       "max                      1.000000          1.000000  "
      ]
     },
     "execution_count": 6,
     "metadata": {},
     "output_type": "execute_result"
    }
   ],
   "source": [
    "train_x.describe()"
   ]
  },
  {
   "cell_type": "code",
   "execution_count": 7,
   "metadata": {
    "ExecuteTime": {
     "end_time": "2023-03-07T08:12:39.250534Z",
     "start_time": "2023-03-07T08:12:39.237083Z"
    }
   },
   "outputs": [],
   "source": [
    "std_scaler = StandardScaler()\n",
    "std_scaler.fit(train_x)\n",
    "train_x = std_scaler.transform(train_x)\n",
    "test_x = std_scaler.transform(test_x)"
   ]
  },
  {
   "cell_type": "markdown",
   "metadata": {},
   "source": [
    "### **라. train_test_split을 이용하여 train/test  데이터 분리**\n",
    "\n",
    "- test_size = 0.3\n",
    "- random_state = 2021"
   ]
  },
  {
   "cell_type": "code",
   "execution_count": null,
   "metadata": {},
   "outputs": [],
   "source": [
    "# from sklearn.model_selection import train_test_split"
   ]
  },
  {
   "cell_type": "code",
   "execution_count": null,
   "metadata": {},
   "outputs": [],
   "source": [
    "# train_test_split 사용\n",
    "\n",
    "# train_x, val_x, train_y, val_y = train_test_split(train_x, train_y, test_size=0.3, random_state=2021)\n",
    "# train_x.shape, val_x.shape, train_y.shape, val_y.shape"
   ]
  },
  {
   "cell_type": "markdown",
   "metadata": {},
   "source": [
    "### **마. Confusion Matrix 함수 정의**\n",
    "#### Confusion Matrix란 Training 을 통한 Prediction 성능을 측정하기 위해 예측 value와 실제 value를 비교하기 위한 표입니다.\n",
    "#### 아래 함수는 이번 과제에서 confusion matrix 결과를 보기 쉽게 표현한 것으로 사용 예를 참고하여 모델 결과 확인에 사용하시기 바랍니다."
   ]
  },
  {
   "cell_type": "markdown",
   "metadata": {},
   "source": [
    "**<span style=\"color:green\">[참고링크] 공식 Document**</span>\n",
    " \n",
    "* confusion matrix(https://scikit-learn.org/stable/modules/generated/sklearn.metrics.confusion_matrix.html)"
   ]
  },
  {
   "cell_type": "code",
   "execution_count": 8,
   "metadata": {
    "ExecuteTime": {
     "end_time": "2023-03-07T08:13:13.202448Z",
     "start_time": "2023-03-07T08:13:13.138509Z"
    }
   },
   "outputs": [],
   "source": [
    "from sklearn.metrics import classification_report as creport\n",
    "from sklearn.metrics import confusion_matrix, accuracy_score, precision_score, recall_score"
   ]
  },
  {
   "cell_type": "code",
   "execution_count": 9,
   "metadata": {
    "ExecuteTime": {
     "end_time": "2023-03-07T08:13:13.325497Z",
     "start_time": "2023-03-07T08:13:13.316562Z"
    }
   },
   "outputs": [],
   "source": [
    "def plot_confusion_matrix(ax, matrix, labels = ['malicious','benign'], title='Confusion matrix', fontsize=9):\n",
    "    ax.set_xticks([x for x in range(len(labels))])\n",
    "    ax.set_yticks([y for y in range(len(labels))])\n",
    "\n",
    "    # Place labels on minor ticks\n",
    "    ax.set_xticks([x + 0.5 for x in range(len(labels))], minor=True)\n",
    "    ax.set_xticklabels(labels, rotation='90', fontsize=fontsize, minor=True)\n",
    "    ax.set_yticks([y + 0.5 for y in range(len(labels))], minor=True)\n",
    "    ax.set_yticklabels(labels[::-1], fontsize=fontsize, minor=True)\n",
    "\n",
    "    # Hide major tick labels\n",
    "    ax.tick_params(which='major', labelbottom='off', labelleft='off')\n",
    "\n",
    "    # Finally, hide minor tick marks\n",
    "    ax.tick_params(which='minor', width=0)\n",
    "\n",
    "    # Plot heat map\n",
    "    proportions = [1. * row / sum(row) for row in matrix]\n",
    "    ax.pcolor(np.array(proportions[::-1]), cmap=plt.cm.Blues)\n",
    "\n",
    "    # Plot counts as text\n",
    "    for row in range(len(matrix)):\n",
    "        for col in range(len(matrix[row])):\n",
    "            confusion = matrix[::-1][row][col]\n",
    "            if confusion != 0:\n",
    "                ax.text(col + 0.5, row + 0.5, int(confusion),\n",
    "                        fontsize=fontsize,\n",
    "                        horizontalalignment='center',\n",
    "                        verticalalignment='center')\n",
    "\n",
    "    # Add finishing touches\n",
    "    ax.grid(True, linestyle=':')\n",
    "    ax.set_title(title, fontsize=fontsize)\n",
    "    ax.set_xlabel('prediction', fontsize=fontsize)\n",
    "    ax.set_ylabel('actual', fontsize=fontsize)\n",
    "\n",
    "    plt.show()"
   ]
  },
  {
   "cell_type": "markdown",
   "metadata": {},
   "source": [
    "### <span style=\"color:blue\">[예시] Confusion Matrix 사용 방법<span>"
   ]
  },
  {
   "cell_type": "markdown",
   "metadata": {},
   "source": [
    "- 샘플\n",
    "#### > confusion = confusion_matrix(test_y, dt_pred)\n",
    "#### > fig, ax = plt.subplots(figsize=(10,3))\n",
    "#### > plot_confusion_matrix(ax, confusion, fontsize=30)"
   ]
  },
  {
   "cell_type": "markdown",
   "metadata": {},
   "source": [
    "---"
   ]
  },
  {
   "cell_type": "markdown",
   "metadata": {},
   "source": [
    "# <b>RandomForest GridSearchCV\n",
    "### 만족할만한 하이퍼파라미터 조합을 찾는 단순한 방법은 수동으로 하이퍼파라미터를 조정하면서 찾는 방법입니다.\n",
    "### GridSearchcv는 자동으로 복수개의 내부 모형을 생성하고 이를 모두 실행시켜서 최적의 하이퍼파라미터를 탐색해 줍니다.\n",
    "### 탐색하고자 하는 하이퍼파라미터를 지정하면 가능한 모든 하이퍼파라미터 조합에 대해 교차 검증을 사용해 평가하게 됩니다."
   ]
  },
  {
   "cell_type": "markdown",
   "metadata": {},
   "source": [
    "\n",
    "* 주요 파라미터<br>\n",
    "<table align=\"left\">\n",
    "    <tr>\n",
    "        <td align=\"center\">파라미터 명</td><td align=\"center\">설명</td>\n",
    "    </tr>\n",
    "     <tr>\n",
    "        <td align=\"center\">param_grid</td><td>파라미터 딕셔너리</td>\n",
    "    </tr>\n",
    "    <tr>\n",
    "        <td align=\"center\">scoring</td><td>예측 성능을 측정할 평가 방법</td>\n",
    "    </tr>\n",
    "    <tr>\n",
    "        <td align=\"center\">cv</td><td>교차 검증을 위해 분할되는 폴드 수</td>\n",
    "    </tr>\n",
    "</table>"
   ]
  },
  {
   "cell_type": "markdown",
   "metadata": {},
   "source": [
    "**<span style=\"color:green\">[참고링크] 공식 Document**</span>\n",
    " \n",
    "* GridSearchCV(https://scikit-learn.org/stable/modules/generated/sklearn.model_selection.GridSearchCV.html)\n",
    "* model evaluation(https://scikit-learn.org/stable/modules/model_evaluation.html)"
   ]
  },
  {
   "cell_type": "code",
   "execution_count": 10,
   "metadata": {
    "ExecuteTime": {
     "end_time": "2023-03-07T08:15:47.173150Z",
     "start_time": "2023-03-07T08:15:46.920213Z"
    }
   },
   "outputs": [],
   "source": [
    "from sklearn.ensemble import RandomForestClassifier\n",
    "from sklearn.model_selection import GridSearchCV"
   ]
  },
  {
   "cell_type": "code",
   "execution_count": 12,
   "metadata": {
    "ExecuteTime": {
     "end_time": "2023-03-07T08:17:34.301786Z",
     "start_time": "2023-03-07T08:17:30.721820Z"
    }
   },
   "outputs": [
    {
     "data": {
      "text/plain": [
       "({'max_depth': 4}, 0.9006183580651665)"
      ]
     },
     "execution_count": 12,
     "metadata": {},
     "output_type": "execute_result"
    }
   ],
   "source": [
    "model_RFC = RandomForestClassifier(random_state=1)\n",
    "param = {\n",
    "    'max_depth' : range(1, 5)\n",
    "}\n",
    "model = GridSearchCV(\n",
    "    model_RFC,\n",
    "    param,\n",
    "    cv=5\n",
    ")\n",
    "model.fit(train_x, train_y)\n",
    "model.best_params_, model.best_score_"
   ]
  },
  {
   "cell_type": "code",
   "execution_count": 13,
   "metadata": {
    "ExecuteTime": {
     "end_time": "2023-03-07T08:17:59.973277Z",
     "start_time": "2023-03-07T08:17:54.783832Z"
    }
   },
   "outputs": [
    {
     "data": {
      "text/plain": [
       "({'max_depth': 7}, 0.9203393501265842)"
      ]
     },
     "execution_count": 13,
     "metadata": {},
     "output_type": "execute_result"
    }
   ],
   "source": [
    "model_RFC = RandomForestClassifier(random_state=1)\n",
    "param = {\n",
    "    'max_depth' : range(3, 8)\n",
    "}\n",
    "model = GridSearchCV(\n",
    "    model_RFC,\n",
    "    param,\n",
    "    cv=5\n",
    ")\n",
    "model.fit(train_x, train_y)\n",
    "model.best_params_, model.best_score_"
   ]
  },
  {
   "cell_type": "code",
   "execution_count": 14,
   "metadata": {
    "ExecuteTime": {
     "end_time": "2023-03-07T08:18:25.224653Z",
     "start_time": "2023-03-07T08:18:17.612967Z"
    }
   },
   "outputs": [
    {
     "data": {
      "text/plain": [
       "({'max_depth': 11}, 0.9361956042807107)"
      ]
     },
     "execution_count": 14,
     "metadata": {},
     "output_type": "execute_result"
    }
   ],
   "source": [
    "model_RFC = RandomForestClassifier(random_state=1)\n",
    "param = {\n",
    "    'max_depth' : range(6, 12)\n",
    "}\n",
    "model = GridSearchCV(\n",
    "    model_RFC,\n",
    "    param,\n",
    "    cv=5\n",
    ")\n",
    "model.fit(train_x, train_y)\n",
    "model.best_params_, model.best_score_"
   ]
  },
  {
   "cell_type": "code",
   "execution_count": 15,
   "metadata": {
    "ExecuteTime": {
     "end_time": "2023-03-07T08:18:49.978407Z",
     "start_time": "2023-03-07T08:18:35.281457Z"
    }
   },
   "outputs": [
    {
     "data": {
      "text/plain": [
       "({'max_depth': 18}, 0.9400633294250316)"
      ]
     },
     "execution_count": 15,
     "metadata": {},
     "output_type": "execute_result"
    }
   ],
   "source": [
    "model_RFC = RandomForestClassifier(random_state=1)\n",
    "param = {\n",
    "    'max_depth' : range(10, 20)\n",
    "}\n",
    "model = GridSearchCV(\n",
    "    model_RFC,\n",
    "    param,\n",
    "    cv=5\n",
    ")\n",
    "model.fit(train_x, train_y)\n",
    "model.best_params_, model.best_score_"
   ]
  },
  {
   "cell_type": "code",
   "execution_count": 16,
   "metadata": {
    "ExecuteTime": {
     "end_time": "2023-03-07T08:19:41.662796Z",
     "start_time": "2023-03-07T08:19:26.615058Z"
    }
   },
   "outputs": [
    {
     "data": {
      "text/plain": [
       "({'max_depth': 18}, 0.9400633294250316)"
      ]
     },
     "execution_count": 16,
     "metadata": {},
     "output_type": "execute_result"
    }
   ],
   "source": [
    "model_RFC = RandomForestClassifier(random_state=1)\n",
    "param = {\n",
    "    'max_depth' : range(16, 25)\n",
    "}\n",
    "model = GridSearchCV(\n",
    "    model_RFC,\n",
    "    param,\n",
    "    cv=5\n",
    ")\n",
    "model.fit(train_x, train_y)\n",
    "model.best_params_, model.best_score_"
   ]
  },
  {
   "cell_type": "code",
   "execution_count": 17,
   "metadata": {
    "ExecuteTime": {
     "end_time": "2023-03-07T08:31:10.113150Z",
     "start_time": "2023-03-07T08:25:42.047302Z"
    }
   },
   "outputs": [
    {
     "data": {
      "text/plain": [
       "({'max_depth': 18,\n",
       "  'min_samples_leaf': 1,\n",
       "  'min_samples_split': 2,\n",
       "  'n_estimators': 100},\n",
       " 0.9400633294250316)"
      ]
     },
     "execution_count": 17,
     "metadata": {},
     "output_type": "execute_result"
    }
   ],
   "source": [
    "model_RFC = RandomForestClassifier(random_state=1)\n",
    "param = {\n",
    "    'n_estimators' : [100, 200],\n",
    "    'max_depth' : [4, 7, 11, 18], \n",
    "    'min_samples_leaf' : [1, 3, 5, 7, 10],     # default : 1 (leaf가 되기 위한 최소한의 샘플 데이터 수)\n",
    "    'min_samples_split' : [2, 3, 5, 7, 10]     # default : 2 (노드를 분할하기 위한 최소한의 샘플 데이터 수)\n",
    "}\n",
    "model = GridSearchCV(\n",
    "    model_RFC,\n",
    "    param,\n",
    "    cv=5\n",
    ")\n",
    "model.fit(train_x, train_y)\n",
    "model.best_params_, model.best_score_"
   ]
  },
  {
   "cell_type": "code",
   "execution_count": null,
   "metadata": {},
   "outputs": [],
   "source": []
  }
 ],
 "metadata": {
  "kernelspec": {
   "display_name": "aivle",
   "language": "python",
   "name": "aivle"
  },
  "language_info": {
   "codemirror_mode": {
    "name": "ipython",
    "version": 3
   },
   "file_extension": ".py",
   "mimetype": "text/x-python",
   "name": "python",
   "nbconvert_exporter": "python",
   "pygments_lexer": "ipython3",
   "version": "3.9.16"
  },
  "toc": {
   "base_numbering": 1,
   "nav_menu": {},
   "number_sections": false,
   "sideBar": true,
   "skip_h1_title": false,
   "title_cell": "Table of Contents",
   "title_sidebar": "Contents",
   "toc_cell": false,
   "toc_position": {},
   "toc_section_display": true,
   "toc_window_display": false
  },
  "vscode": {
   "interpreter": {
    "hash": "f08154012ddadd8e950e6e9e035c7a7b32c136e7647e9b7c77e02eb723a8bedb"
   }
  }
 },
 "nbformat": 4,
 "nbformat_minor": 4
}
